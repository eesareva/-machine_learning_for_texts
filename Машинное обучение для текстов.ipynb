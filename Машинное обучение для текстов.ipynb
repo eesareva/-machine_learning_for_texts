{
 "cells": [
  {
   "cell_type": "markdown",
   "metadata": {},
   "source": [
    "# Проект для «Викишоп»"
   ]
  },
  {
   "cell_type": "markdown",
   "metadata": {},
   "source": [
    "Интернет-магазин «Викишоп» запускает новый сервис. Теперь пользователи могут редактировать и дополнять описания товаров, как в вики-сообществах. То есть клиенты предлагают свои правки и комментируют изменения других. Магазину нужен инструмент, который будет искать токсичные комментарии и отправлять их на модерацию. \n",
    "\n",
    "Обучите модель классифицировать комментарии на позитивные и негативные. В вашем распоряжении набор данных с разметкой о токсичности правок.\n",
    "\n",
    "Постройте модель со значением метрики качества *F1* не меньше 0.75. \n",
    "\n",
    "---\n",
    "\n",
    "**Задачи исследования:**\n",
    "\n",
    "1. Загрузить и подготовить данные.\n",
    "2. Обучить модели. \n",
    "3. Сделайте выводы.\n",
    "\n",
    "---\n",
    "\n",
    "**Цель исследования** - построить модель для классификации комментариев на позитивные и негативные.\n",
    "\n",
    "**Описание данных**\n",
    "\n",
    "Данные находятся в файле `toxic_comments.csv`. \n",
    "- *text* — текст комментария\n",
    "- *toxic* — целевой признак."
   ]
  },
  {
   "cell_type": "markdown",
   "metadata": {},
   "source": [
    "## Подготовка"
   ]
  },
  {
   "cell_type": "code",
   "execution_count": 1,
   "metadata": {},
   "outputs": [],
   "source": [
    "!pip install scikit-learn==1.1.3 -q\n",
    "!pip install catboost -q\n",
    "!pip install spacy -q"
   ]
  },
  {
   "cell_type": "code",
   "execution_count": 2,
   "metadata": {},
   "outputs": [
    {
     "name": "stdout",
     "output_type": "stream",
     "text": [
      "\u001b[38;5;2m✔ Download and installation successful\u001b[0m\r\n",
      "You can now load the package via spacy.load('en_core_web_sm')\r\n"
     ]
    },
    {
     "name": "stderr",
     "output_type": "stream",
     "text": [
      "[nltk_data] Downloading package stopwords to /home/jovyan/nltk_data...\n",
      "[nltk_data]   Package stopwords is already up-to-date!\n"
     ]
    }
   ],
   "source": [
    "#Подключение библиотек\n",
    "import pandas as pd\n",
    "import matplotlib.pyplot as plt\n",
    "import seaborn as sns\n",
    "import numpy as np\n",
    "import os\n",
    "import re \n",
    "\n",
    "import spacy\n",
    "!spacy download en_core_web_sm -q\n",
    "\n",
    "plt.rcParams[\"figure.figsize\"] = (15,10)\n",
    "\n",
    "from pymystem3 import Mystem\n",
    "\n",
    "from sklearn.model_selection import train_test_split\n",
    "from sklearn.feature_extraction.text import TfidfVectorizer \n",
    "from sklearn.linear_model import LogisticRegression\n",
    "from sklearn.tree import DecisionTreeClassifier\n",
    "from catboost import CatBoostClassifier\n",
    "from sklearn.metrics import f1_score\n",
    "from sklearn.model_selection import GridSearchCV\n",
    "from tqdm import tqdm\n",
    "\n",
    "import nltk\n",
    "nltk.download('stopwords')\n",
    "\n",
    "from nltk.corpus import stopwords as nltk_stopwords\n",
    "\n",
    "from sklearn.pipeline import (\n",
    "    Pipeline,\n",
    "    make_pipeline)"
   ]
  },
  {
   "cell_type": "code",
   "execution_count": 3,
   "metadata": {},
   "outputs": [],
   "source": [
    "# системные настройки\n",
    "pd.set_option('display.max_columns', None)\n",
    "pd.set_option('display.max_colwidth', None)\n",
    "#warnings.filterwarnings(\"ignore\")"
   ]
  },
  {
   "cell_type": "code",
   "execution_count": 4,
   "metadata": {},
   "outputs": [],
   "source": [
    "#Объявим константы\n",
    "\n",
    "RANDOM_STATE = 42"
   ]
  },
  {
   "cell_type": "markdown",
   "metadata": {},
   "source": [
    "### Загрузка данных"
   ]
  },
  {
   "cell_type": "code",
   "execution_count": 5,
   "metadata": {},
   "outputs": [],
   "source": [
    "pth = '/datasets/toxic_comments.csv'\n",
    "\n",
    "if os.path.exists(pth):\n",
    "    data = pd.read_csv(pth)\n",
    "else:\n",
    "    print('Something is wrong')"
   ]
  },
  {
   "cell_type": "markdown",
   "metadata": {},
   "source": [
    "### Изучение общей информации"
   ]
  },
  {
   "cell_type": "code",
   "execution_count": 6,
   "metadata": {},
   "outputs": [
    {
     "data": {
      "text/html": [
       "<div>\n",
       "<style scoped>\n",
       "    .dataframe tbody tr th:only-of-type {\n",
       "        vertical-align: middle;\n",
       "    }\n",
       "\n",
       "    .dataframe tbody tr th {\n",
       "        vertical-align: top;\n",
       "    }\n",
       "\n",
       "    .dataframe thead th {\n",
       "        text-align: right;\n",
       "    }\n",
       "</style>\n",
       "<table border=\"1\" class=\"dataframe\">\n",
       "  <thead>\n",
       "    <tr style=\"text-align: right;\">\n",
       "      <th></th>\n",
       "      <th>Unnamed: 0</th>\n",
       "      <th>text</th>\n",
       "      <th>toxic</th>\n",
       "    </tr>\n",
       "  </thead>\n",
       "  <tbody>\n",
       "    <tr>\n",
       "      <th>0</th>\n",
       "      <td>0</td>\n",
       "      <td>Explanation\\nWhy the edits made under my username Hardcore Metallica Fan were reverted? They weren't vandalisms, just closure on some GAs after I voted at New York Dolls FAC. And please don't remove the template from the talk page since I'm retired now.89.205.38.27</td>\n",
       "      <td>0</td>\n",
       "    </tr>\n",
       "    <tr>\n",
       "      <th>1</th>\n",
       "      <td>1</td>\n",
       "      <td>D'aww! He matches this background colour I'm seemingly stuck with. Thanks.  (talk) 21:51, January 11, 2016 (UTC)</td>\n",
       "      <td>0</td>\n",
       "    </tr>\n",
       "    <tr>\n",
       "      <th>2</th>\n",
       "      <td>2</td>\n",
       "      <td>Hey man, I'm really not trying to edit war. It's just that this guy is constantly removing relevant information and talking to me through edits instead of my talk page. He seems to care more about the formatting than the actual info.</td>\n",
       "      <td>0</td>\n",
       "    </tr>\n",
       "    <tr>\n",
       "      <th>3</th>\n",
       "      <td>3</td>\n",
       "      <td>\"\\nMore\\nI can't make any real suggestions on improvement - I wondered if the section statistics should be later on, or a subsection of \"\"types of accidents\"\"  -I think the references may need tidying so that they are all in the exact same format ie date format etc. I can do that later on, if no-one else does first - if you have any preferences for formatting style on references or want to do it yourself please let me know.\\n\\nThere appears to be a backlog on articles for review so I guess there may be a delay until a reviewer turns up. It's listed in the relevant form eg Wikipedia:Good_article_nominations#Transport  \"</td>\n",
       "      <td>0</td>\n",
       "    </tr>\n",
       "    <tr>\n",
       "      <th>4</th>\n",
       "      <td>4</td>\n",
       "      <td>You, sir, are my hero. Any chance you remember what page that's on?</td>\n",
       "      <td>0</td>\n",
       "    </tr>\n",
       "  </tbody>\n",
       "</table>\n",
       "</div>"
      ],
      "text/plain": [
       "   Unnamed: 0  \\\n",
       "0           0   \n",
       "1           1   \n",
       "2           2   \n",
       "3           3   \n",
       "4           4   \n",
       "\n",
       "                                                                                                                                                                                                                                                                                                                                                                                                                                                                                                                                                                                                                                                 text  \\\n",
       "0                                                                                                                                                                                                                                                                                                                                                                           Explanation\\nWhy the edits made under my username Hardcore Metallica Fan were reverted? They weren't vandalisms, just closure on some GAs after I voted at New York Dolls FAC. And please don't remove the template from the talk page since I'm retired now.89.205.38.27   \n",
       "1                                                                                                                                                                                                                                                                                                                                                                                                                                                                                                                                    D'aww! He matches this background colour I'm seemingly stuck with. Thanks.  (talk) 21:51, January 11, 2016 (UTC)   \n",
       "2                                                                                                                                                                                                                                                                                                                                                                                                           Hey man, I'm really not trying to edit war. It's just that this guy is constantly removing relevant information and talking to me through edits instead of my talk page. He seems to care more about the formatting than the actual info.   \n",
       "3  \"\\nMore\\nI can't make any real suggestions on improvement - I wondered if the section statistics should be later on, or a subsection of \"\"types of accidents\"\"  -I think the references may need tidying so that they are all in the exact same format ie date format etc. I can do that later on, if no-one else does first - if you have any preferences for formatting style on references or want to do it yourself please let me know.\\n\\nThere appears to be a backlog on articles for review so I guess there may be a delay until a reviewer turns up. It's listed in the relevant form eg Wikipedia:Good_article_nominations#Transport  \"   \n",
       "4                                                                                                                                                                                                                                                                                                                                                                                                                                                                                                                                                                                 You, sir, are my hero. Any chance you remember what page that's on?   \n",
       "\n",
       "   toxic  \n",
       "0      0  \n",
       "1      0  \n",
       "2      0  \n",
       "3      0  \n",
       "4      0  "
      ]
     },
     "metadata": {},
     "output_type": "display_data"
    },
    {
     "name": "stdout",
     "output_type": "stream",
     "text": [
      "*****************************************************************************************************************************\n",
      "<class 'pandas.core.frame.DataFrame'>\n",
      "RangeIndex: 159292 entries, 0 to 159291\n",
      "Data columns (total 3 columns):\n",
      " #   Column      Non-Null Count   Dtype \n",
      "---  ------      --------------   ----- \n",
      " 0   Unnamed: 0  159292 non-null  int64 \n",
      " 1   text        159292 non-null  object\n",
      " 2   toxic       159292 non-null  int64 \n",
      "dtypes: int64(2), object(1)\n",
      "memory usage: 3.6+ MB\n",
      "*****************************************************************************************************************************\n"
     ]
    },
    {
     "data": {
      "text/html": [
       "<div>\n",
       "<style scoped>\n",
       "    .dataframe tbody tr th:only-of-type {\n",
       "        vertical-align: middle;\n",
       "    }\n",
       "\n",
       "    .dataframe tbody tr th {\n",
       "        vertical-align: top;\n",
       "    }\n",
       "\n",
       "    .dataframe thead th {\n",
       "        text-align: right;\n",
       "    }\n",
       "</style>\n",
       "<table border=\"1\" class=\"dataframe\">\n",
       "  <thead>\n",
       "    <tr style=\"text-align: right;\">\n",
       "      <th></th>\n",
       "      <th>count</th>\n",
       "      <th>mean</th>\n",
       "      <th>std</th>\n",
       "      <th>min</th>\n",
       "      <th>25%</th>\n",
       "      <th>50%</th>\n",
       "      <th>75%</th>\n",
       "      <th>max</th>\n",
       "    </tr>\n",
       "  </thead>\n",
       "  <tbody>\n",
       "    <tr>\n",
       "      <th>Unnamed: 0</th>\n",
       "      <td>159292.0</td>\n",
       "      <td>79725.697242</td>\n",
       "      <td>46028.837471</td>\n",
       "      <td>0.0</td>\n",
       "      <td>39872.75</td>\n",
       "      <td>79721.5</td>\n",
       "      <td>119573.25</td>\n",
       "      <td>159450.0</td>\n",
       "    </tr>\n",
       "    <tr>\n",
       "      <th>toxic</th>\n",
       "      <td>159292.0</td>\n",
       "      <td>0.101612</td>\n",
       "      <td>0.302139</td>\n",
       "      <td>0.0</td>\n",
       "      <td>0.00</td>\n",
       "      <td>0.0</td>\n",
       "      <td>0.00</td>\n",
       "      <td>1.0</td>\n",
       "    </tr>\n",
       "  </tbody>\n",
       "</table>\n",
       "</div>"
      ],
      "text/plain": [
       "               count          mean           std  min       25%      50%  \\\n",
       "Unnamed: 0  159292.0  79725.697242  46028.837471  0.0  39872.75  79721.5   \n",
       "toxic       159292.0      0.101612      0.302139  0.0      0.00      0.0   \n",
       "\n",
       "                  75%       max  \n",
       "Unnamed: 0  119573.25  159450.0  \n",
       "toxic            0.00       1.0  "
      ]
     },
     "metadata": {},
     "output_type": "display_data"
    },
    {
     "name": "stdout",
     "output_type": "stream",
     "text": [
      "*****************************************************************************************************************************\n",
      "Количество явных дубликатов в датафрейте: 0\n",
      "Количество пропусков в датафрейте: Unnamed: 0    0\n",
      "text          0\n",
      "toxic         0\n",
      "dtype: int64\n"
     ]
    }
   ],
   "source": [
    "#Выведем первые строки датафрейма\n",
    "display(data.head())\n",
    "print('*' * 125)\n",
    "\n",
    "#Выведем общую информацию\n",
    "data.info()\n",
    "print('*' * 125)\n",
    "\n",
    "#Выведем описание данных\n",
    "display(data.describe().T)\n",
    "print('*' * 125)\n",
    "\n",
    "print('Количество явных дубликатов в датафрейте:', data.duplicated().sum())\n",
    "print('Количество пропусков в датафрейте:', data.isna().sum())"
   ]
  },
  {
   "cell_type": "code",
   "execution_count": 7,
   "metadata": {},
   "outputs": [
    {
     "data": {
      "text/html": [
       "<div>\n",
       "<style scoped>\n",
       "    .dataframe tbody tr th:only-of-type {\n",
       "        vertical-align: middle;\n",
       "    }\n",
       "\n",
       "    .dataframe tbody tr th {\n",
       "        vertical-align: top;\n",
       "    }\n",
       "\n",
       "    .dataframe thead th {\n",
       "        text-align: right;\n",
       "    }\n",
       "</style>\n",
       "<table border=\"1\" class=\"dataframe\">\n",
       "  <thead>\n",
       "    <tr style=\"text-align: right;\">\n",
       "      <th></th>\n",
       "      <th>text</th>\n",
       "      <th>toxic</th>\n",
       "    </tr>\n",
       "  </thead>\n",
       "  <tbody>\n",
       "    <tr>\n",
       "      <th>0</th>\n",
       "      <td>Explanation\\nWhy the edits made under my username Hardcore Metallica Fan were reverted? They weren't vandalisms, just closure on some GAs after I voted at New York Dolls FAC. And please don't remove the template from the talk page since I'm retired now.89.205.38.27</td>\n",
       "      <td>0</td>\n",
       "    </tr>\n",
       "  </tbody>\n",
       "</table>\n",
       "</div>"
      ],
      "text/plain": [
       "                                                                                                                                                                                                                                                                        text  \\\n",
       "0  Explanation\\nWhy the edits made under my username Hardcore Metallica Fan were reverted? They weren't vandalisms, just closure on some GAs after I voted at New York Dolls FAC. And please don't remove the template from the talk page since I'm retired now.89.205.38.27   \n",
       "\n",
       "   toxic  \n",
       "0      0  "
      ]
     },
     "execution_count": 7,
     "metadata": {},
     "output_type": "execute_result"
    }
   ],
   "source": [
    "#Столбец Unnamed неинформативен (дублирует индексы), удалим его\n",
    "data = data.drop('Unnamed: 0', axis=1)\n",
    "data.head(1)"
   ]
  },
  {
   "cell_type": "code",
   "execution_count": 8,
   "metadata": {},
   "outputs": [
    {
     "name": "stdout",
     "output_type": "stream",
     "text": [
      "Количество явных дубликатов в датафрейте: 0\n"
     ]
    }
   ],
   "source": [
    "#Убедимся, что не появились новые дубликаты\n",
    "print('Количество явных дубликатов в датафрейте:', data.duplicated().sum())"
   ]
  },
  {
   "cell_type": "markdown",
   "metadata": {},
   "source": [
    "**Вывод** Данные в датасете соответствуют описанию.\n",
    "\n",
    "Количество сток - 159 292, Количество столбцов - 2. \n",
    "\n",
    "Тип данных указан верно, пропусков и дубликатов в датафрейме нет, название столбцов сответсвуют стилю написания snake_case "
   ]
  },
  {
   "cell_type": "markdown",
   "metadata": {},
   "source": [
    "### Анализ и подготовка данных"
   ]
  },
  {
   "cell_type": "markdown",
   "metadata": {},
   "source": [
    "####  text"
   ]
  },
  {
   "cell_type": "code",
   "execution_count": 9,
   "metadata": {},
   "outputs": [
    {
     "data": {
      "text/html": [
       "<div>\n",
       "<style scoped>\n",
       "    .dataframe tbody tr th:only-of-type {\n",
       "        vertical-align: middle;\n",
       "    }\n",
       "\n",
       "    .dataframe tbody tr th {\n",
       "        vertical-align: top;\n",
       "    }\n",
       "\n",
       "    .dataframe thead th {\n",
       "        text-align: right;\n",
       "    }\n",
       "</style>\n",
       "<table border=\"1\" class=\"dataframe\">\n",
       "  <thead>\n",
       "    <tr style=\"text-align: right;\">\n",
       "      <th></th>\n",
       "      <th>text</th>\n",
       "      <th>toxic</th>\n",
       "    </tr>\n",
       "  </thead>\n",
       "  <tbody>\n",
       "    <tr>\n",
       "      <th>0</th>\n",
       "      <td>Explanation\\nWhy the edits made under my username Hardcore Metallica Fan were reverted? They weren't vandalisms, just closure on some GAs after I voted at New York Dolls FAC. And please don't remove the template from the talk page since I'm retired now.89.205.38.27</td>\n",
       "      <td>0</td>\n",
       "    </tr>\n",
       "    <tr>\n",
       "      <th>1</th>\n",
       "      <td>D'aww! He matches this background colour I'm seemingly stuck with. Thanks.  (talk) 21:51, January 11, 2016 (UTC)</td>\n",
       "      <td>0</td>\n",
       "    </tr>\n",
       "    <tr>\n",
       "      <th>2</th>\n",
       "      <td>Hey man, I'm really not trying to edit war. It's just that this guy is constantly removing relevant information and talking to me through edits instead of my talk page. He seems to care more about the formatting than the actual info.</td>\n",
       "      <td>0</td>\n",
       "    </tr>\n",
       "    <tr>\n",
       "      <th>3</th>\n",
       "      <td>\"\\nMore\\nI can't make any real suggestions on improvement - I wondered if the section statistics should be later on, or a subsection of \"\"types of accidents\"\"  -I think the references may need tidying so that they are all in the exact same format ie date format etc. I can do that later on, if no-one else does first - if you have any preferences for formatting style on references or want to do it yourself please let me know.\\n\\nThere appears to be a backlog on articles for review so I guess there may be a delay until a reviewer turns up. It's listed in the relevant form eg Wikipedia:Good_article_nominations#Transport  \"</td>\n",
       "      <td>0</td>\n",
       "    </tr>\n",
       "    <tr>\n",
       "      <th>4</th>\n",
       "      <td>You, sir, are my hero. Any chance you remember what page that's on?</td>\n",
       "      <td>0</td>\n",
       "    </tr>\n",
       "    <tr>\n",
       "      <th>5</th>\n",
       "      <td>\"\\n\\nCongratulations from me as well, use the tools well.  · talk \"</td>\n",
       "      <td>0</td>\n",
       "    </tr>\n",
       "    <tr>\n",
       "      <th>6</th>\n",
       "      <td>COCKSUCKER BEFORE YOU PISS AROUND ON MY WORK</td>\n",
       "      <td>1</td>\n",
       "    </tr>\n",
       "    <tr>\n",
       "      <th>7</th>\n",
       "      <td>Your vandalism to the Matt Shirvington article has been reverted.  Please don't do it again, or you will be banned.</td>\n",
       "      <td>0</td>\n",
       "    </tr>\n",
       "    <tr>\n",
       "      <th>8</th>\n",
       "      <td>Sorry if the word 'nonsense' was offensive to you. Anyway, I'm not intending to write anything in the article(wow they would jump on me for vandalism), I'm merely requesting that it be more encyclopedic so one can use it for school as a reference. I have been to the selective breeding page but it's almost a stub. It points to 'animal breeding' which is a short messy article that gives you no info. There must be someone around with expertise in eugenics? 93.161.107.169</td>\n",
       "      <td>0</td>\n",
       "    </tr>\n",
       "    <tr>\n",
       "      <th>9</th>\n",
       "      <td>alignment on this subject and which are contrary to those of DuLithgow</td>\n",
       "      <td>0</td>\n",
       "    </tr>\n",
       "  </tbody>\n",
       "</table>\n",
       "</div>"
      ],
      "text/plain": [
       "                                                                                                                                                                                                                                                                                                                                                                                                                                                                                                                                                                                                                                                 text  \\\n",
       "0                                                                                                                                                                                                                                                                                                                                                                           Explanation\\nWhy the edits made under my username Hardcore Metallica Fan were reverted? They weren't vandalisms, just closure on some GAs after I voted at New York Dolls FAC. And please don't remove the template from the talk page since I'm retired now.89.205.38.27   \n",
       "1                                                                                                                                                                                                                                                                                                                                                                                                                                                                                                                                    D'aww! He matches this background colour I'm seemingly stuck with. Thanks.  (talk) 21:51, January 11, 2016 (UTC)   \n",
       "2                                                                                                                                                                                                                                                                                                                                                                                                           Hey man, I'm really not trying to edit war. It's just that this guy is constantly removing relevant information and talking to me through edits instead of my talk page. He seems to care more about the formatting than the actual info.   \n",
       "3  \"\\nMore\\nI can't make any real suggestions on improvement - I wondered if the section statistics should be later on, or a subsection of \"\"types of accidents\"\"  -I think the references may need tidying so that they are all in the exact same format ie date format etc. I can do that later on, if no-one else does first - if you have any preferences for formatting style on references or want to do it yourself please let me know.\\n\\nThere appears to be a backlog on articles for review so I guess there may be a delay until a reviewer turns up. It's listed in the relevant form eg Wikipedia:Good_article_nominations#Transport  \"   \n",
       "4                                                                                                                                                                                                                                                                                                                                                                                                                                                                                                                                                                                 You, sir, are my hero. Any chance you remember what page that's on?   \n",
       "5                                                                                                                                                                                                                                                                                                                                                                                                                                                                                                                                                                                 \"\\n\\nCongratulations from me as well, use the tools well.  · talk \"   \n",
       "6                                                                                                                                                                                                                                                                                                                                                                                                                                                                                                                                                                                                        COCKSUCKER BEFORE YOU PISS AROUND ON MY WORK   \n",
       "7                                                                                                                                                                                                                                                                                                                                                                                                                                                                                                                                 Your vandalism to the Matt Shirvington article has been reverted.  Please don't do it again, or you will be banned.   \n",
       "8                                                                                                                                                            Sorry if the word 'nonsense' was offensive to you. Anyway, I'm not intending to write anything in the article(wow they would jump on me for vandalism), I'm merely requesting that it be more encyclopedic so one can use it for school as a reference. I have been to the selective breeding page but it's almost a stub. It points to 'animal breeding' which is a short messy article that gives you no info. There must be someone around with expertise in eugenics? 93.161.107.169   \n",
       "9                                                                                                                                                                                                                                                                                                                                                                                                                                                                                                                                                                              alignment on this subject and which are contrary to those of DuLithgow   \n",
       "\n",
       "   toxic  \n",
       "0      0  \n",
       "1      0  \n",
       "2      0  \n",
       "3      0  \n",
       "4      0  \n",
       "5      0  \n",
       "6      1  \n",
       "7      0  \n",
       "8      0  \n",
       "9      0  "
      ]
     },
     "execution_count": 9,
     "metadata": {},
     "output_type": "execute_result"
    }
   ],
   "source": [
    "data.head(10)"
   ]
  },
  {
   "cell_type": "markdown",
   "metadata": {},
   "source": [
    "Видим, что комментарии написаны на английском языке. Для комментариев используется разный регистр и неинформативные знаки. Сделаем копию датасета и приведем данные к единому формату"
   ]
  },
  {
   "cell_type": "code",
   "execution_count": 10,
   "metadata": {},
   "outputs": [],
   "source": [
    "data_ml = data.copy()"
   ]
  },
  {
   "cell_type": "code",
   "execution_count": 11,
   "metadata": {},
   "outputs": [
    {
     "data": {
      "text/html": [
       "<div>\n",
       "<style scoped>\n",
       "    .dataframe tbody tr th:only-of-type {\n",
       "        vertical-align: middle;\n",
       "    }\n",
       "\n",
       "    .dataframe tbody tr th {\n",
       "        vertical-align: top;\n",
       "    }\n",
       "\n",
       "    .dataframe thead th {\n",
       "        text-align: right;\n",
       "    }\n",
       "</style>\n",
       "<table border=\"1\" class=\"dataframe\">\n",
       "  <thead>\n",
       "    <tr style=\"text-align: right;\">\n",
       "      <th></th>\n",
       "      <th>text</th>\n",
       "      <th>toxic</th>\n",
       "      <th>len</th>\n",
       "    </tr>\n",
       "  </thead>\n",
       "  <tbody>\n",
       "    <tr>\n",
       "      <th>0</th>\n",
       "      <td>Explanation\\nWhy the edits made under my username Hardcore Metallica Fan were reverted? They weren't vandalisms, just closure on some GAs after I voted at New York Dolls FAC. And please don't remove the template from the talk page since I'm retired now.89.205.38.27</td>\n",
       "      <td>0</td>\n",
       "      <td>264</td>\n",
       "    </tr>\n",
       "    <tr>\n",
       "      <th>1</th>\n",
       "      <td>D'aww! He matches this background colour I'm seemingly stuck with. Thanks.  (talk) 21:51, January 11, 2016 (UTC)</td>\n",
       "      <td>0</td>\n",
       "      <td>112</td>\n",
       "    </tr>\n",
       "    <tr>\n",
       "      <th>2</th>\n",
       "      <td>Hey man, I'm really not trying to edit war. It's just that this guy is constantly removing relevant information and talking to me through edits instead of my talk page. He seems to care more about the formatting than the actual info.</td>\n",
       "      <td>0</td>\n",
       "      <td>233</td>\n",
       "    </tr>\n",
       "    <tr>\n",
       "      <th>3</th>\n",
       "      <td>\"\\nMore\\nI can't make any real suggestions on improvement - I wondered if the section statistics should be later on, or a subsection of \"\"types of accidents\"\"  -I think the references may need tidying so that they are all in the exact same format ie date format etc. I can do that later on, if no-one else does first - if you have any preferences for formatting style on references or want to do it yourself please let me know.\\n\\nThere appears to be a backlog on articles for review so I guess there may be a delay until a reviewer turns up. It's listed in the relevant form eg Wikipedia:Good_article_nominations#Transport  \"</td>\n",
       "      <td>0</td>\n",
       "      <td>622</td>\n",
       "    </tr>\n",
       "    <tr>\n",
       "      <th>4</th>\n",
       "      <td>You, sir, are my hero. Any chance you remember what page that's on?</td>\n",
       "      <td>0</td>\n",
       "      <td>67</td>\n",
       "    </tr>\n",
       "  </tbody>\n",
       "</table>\n",
       "</div>"
      ],
      "text/plain": [
       "                                                                                                                                                                                                                                                                                                                                                                                                                                                                                                                                                                                                                                                 text  \\\n",
       "0                                                                                                                                                                                                                                                                                                                                                                           Explanation\\nWhy the edits made under my username Hardcore Metallica Fan were reverted? They weren't vandalisms, just closure on some GAs after I voted at New York Dolls FAC. And please don't remove the template from the talk page since I'm retired now.89.205.38.27   \n",
       "1                                                                                                                                                                                                                                                                                                                                                                                                                                                                                                                                    D'aww! He matches this background colour I'm seemingly stuck with. Thanks.  (talk) 21:51, January 11, 2016 (UTC)   \n",
       "2                                                                                                                                                                                                                                                                                                                                                                                                           Hey man, I'm really not trying to edit war. It's just that this guy is constantly removing relevant information and talking to me through edits instead of my talk page. He seems to care more about the formatting than the actual info.   \n",
       "3  \"\\nMore\\nI can't make any real suggestions on improvement - I wondered if the section statistics should be later on, or a subsection of \"\"types of accidents\"\"  -I think the references may need tidying so that they are all in the exact same format ie date format etc. I can do that later on, if no-one else does first - if you have any preferences for formatting style on references or want to do it yourself please let me know.\\n\\nThere appears to be a backlog on articles for review so I guess there may be a delay until a reviewer turns up. It's listed in the relevant form eg Wikipedia:Good_article_nominations#Transport  \"   \n",
       "4                                                                                                                                                                                                                                                                                                                                                                                                                                                                                                                                                                                 You, sir, are my hero. Any chance you remember what page that's on?   \n",
       "\n",
       "   toxic  len  \n",
       "0      0  264  \n",
       "1      0  112  \n",
       "2      0  233  \n",
       "3      0  622  \n",
       "4      0   67  "
      ]
     },
     "execution_count": 11,
     "metadata": {},
     "output_type": "execute_result"
    }
   ],
   "source": [
    "# Добавим столбец длина стоки\n",
    "data_ml['len'] = data_ml['text'].apply(len)\n",
    "data_ml.head()"
   ]
  },
  {
   "cell_type": "code",
   "execution_count": 12,
   "metadata": {},
   "outputs": [
    {
     "data": {
      "text/plain": [
       "count    159292.000000\n",
       "mean        393.691303\n",
       "std         590.111825\n",
       "min           5.000000\n",
       "25%          95.000000\n",
       "50%         205.000000\n",
       "75%         435.000000\n",
       "max        5000.000000\n",
       "Name: len, dtype: float64"
      ]
     },
     "execution_count": 12,
     "metadata": {},
     "output_type": "execute_result"
    }
   ],
   "source": [
    "data_ml['len'].describe()"
   ]
  },
  {
   "cell_type": "code",
   "execution_count": 13,
   "metadata": {
    "scrolled": true
   },
   "outputs": [
    {
     "data": {
      "text/html": [
       "<div>\n",
       "<style scoped>\n",
       "    .dataframe tbody tr th:only-of-type {\n",
       "        vertical-align: middle;\n",
       "    }\n",
       "\n",
       "    .dataframe tbody tr th {\n",
       "        vertical-align: top;\n",
       "    }\n",
       "\n",
       "    .dataframe thead th {\n",
       "        text-align: right;\n",
       "    }\n",
       "</style>\n",
       "<table border=\"1\" class=\"dataframe\">\n",
       "  <thead>\n",
       "    <tr style=\"text-align: right;\">\n",
       "      <th></th>\n",
       "      <th>text</th>\n",
       "      <th>toxic</th>\n",
       "      <th>len</th>\n",
       "    </tr>\n",
       "  </thead>\n",
       "  <tbody>\n",
       "    <tr>\n",
       "      <th>12869</th>\n",
       "      <td>I OWN THIS PAGE YOU FOOLS!! YOU SHOULD FEAR ME!!!!!!!! I AM THE GOD OF CHOCOBOS, I WANT MY CHEESE, GEORGE BUSH SHOULD GO TO HELL!!!!!!!!! I AM THE GOD OF CHOCOBOS, I WANT MY CHEESE, GEORGE BUSH SHOULD GO TO HELL!!!!!!!!! I AM THE GOD OF CHOCOBOS, I WANT MY CHEESE, GEORGE BUSH SHOULD GO TO HELL!!!!!!!!! I AM THE GOD OF CHOCOBOS, I WANT MY CHEESE, GEORGE BUSH SHOULD GO TO HELL!!!!!!!!! I AM THE GOD OF CHOCOBOS, I WANT MY CHEESE, GEORGE BUSH SHOULD GO TO HELL!!!!!!!!! I AM THE GOD OF CHOCOBOS, I WANT MY CHEESE, GEORGE BUSH SHOULD GO TO HELL!!!!!!!!! I AM THE GOD OF CHOCOBOS, I WANT MY CHEESE, GEORGE BUSH SHOULD GO TO HELL!!!!!!!!! I AM THE GOD OF CHOCOBOS, I WANT MY CHEESE, GEORGE BUSH SHOULD GO TO HELL!!!!!!!!! I AM THE GOD OF CHOCOBOS, I WANT MY CHEESE, GEORGE BUSH SHOULD GO TO HELL!!!!!!!!! I AM THE GOD OF CHOCOBOS, I WANT MY CHEESE, GEORGE BUSH SHOULD GO TO HELL!!!!!!!!! I AM THE GOD OF CHOCOBOS, I WANT MY CHEESE, GEORGE BUSH SHOULD GO TO HELL!!!!!!!!! I AM THE GOD OF CHOCOBOS, I WANT MY CHEESE, GEORGE BUSH SHOULD GO TO HELL!!!!!!!!! I AM THE GOD OF CHOCOBOS, I WANT MY CHEESE, GEORGE BUSH SHOULD GO TO HELL!!!!!!!!! I AM THE GOD OF CHOCOBOS, I WANT MY CHEESE, GEORGE BUSH SHOULD GO TO HELL!!!!!!!!! I AM THE GOD OF CHOCOBOS, I WANT MY CHEESE, GEORGE BUSH SHOULD GO TO HELL!!!!!!!!! I AM THE GOD OF CHOCOBOS, I WANT MY CHEESE, GEORGE BUSH SHOULD GO TO HELL!!!!!!!!! I AM THE GOD OF CHOCOBOS, I WANT MY CHEESE, GEORGE BUSH SHOULD GO TO HELL!!!!!!!!! I AM THE GOD OF CHOCOBOS, I WANT MY CHEESE, GEORGE BUSH SHOULD GO TO HELL!!!!!!!!! I AM THE GOD OF CHOCOBOS, I WANT MY CHEESE, GEORGE BUSH SHOULD GO TO HELL!!!!!!!!! I AM THE GOD OF CHOCOBOS, I WANT MY CHEESE, GEORGE BUSH SHOULD GO TO HELL!!!!!!!!! I AM THE GOD OF CHOCOBOS, I WANT MY CHEESE, GEORGE BUSH SHOULD GO TO HELL!!!!!!!!! I AM THE GOD OF CHOCOBOS, I WANT MY CHEESE, GEORGE BUSH SHOULD GO TO HELL!!!!!!!!! I AM THE GOD OF CHOCOBOS, I WANT MY CHEESE, GEORGE BUSH SHOULD GO TO HELL!!!!!!!!! I AM THE GOD OF CHOCOBOS, I WANT MY CHEESE, GEORGE BUSH SHOULD GO TO HELL!!!!!!!!! I AM THE GOD OF CHOCOBOS, I WANT MY CHEESE, GEORGE BUSH SHOULD GO TO HELL!!!!!!!!! I AM THE GOD OF CHOCOBOS, I WANT MY CHEESE, GEORGE BUSH SHOULD GO TO HELL!!!!!!!!! I AM THE GOD OF CHOCOBOS, I WANT MY CHEESE, GEORGE BUSH SHOULD GO TO HELL!!!!!!!!! I AM THE GOD OF CHOCOBOS, I WANT MY CHEESE, GEORGE BUSH SHOULD GO TO HELL!!!!!!!!! I AM THE GOD OF CHOCOBOS, I WANT MY CHEESE, GEORGE BUSH SHOULD GO TO HELL!!!!!!!!! I AM THE GOD OF CHOCOBOS, I WANT MY CHEESE, GEORGE BUSH SHOULD GO TO HELL!!!!!!!!! I AM THE GOD OF CHOCOBOS, I WANT MY CHEESE, GEORGE BUSH SHOULD GO TO HELL!!!!!!!!! I AM THE GOD OF CHOCOBOS, I WANT MY CHEESE, GEORGE BUSH SHOULD GO TO HELL!!!!!!!!! I AM THE GOD OF CHOCOBOS, I WANT MY CHEESE, GEORGE BUSH SHOULD GO TO HELL!!!!!!!!! I AM THE GOD OF CHOCOBOS, I WANT MY CHEESE, GEORGE BUSH SHOULD GO TO HELL!!!!!!!!! I AM THE GOD OF CHOCOBOS, I WANT MY CHEESE, GEORGE BUSH SHOULD GO TO HELL!!!!!!!!! I AM THE GOD OF CHOCOBOS, I WANT MY CHEESE, GEORGE BUSH SHOULD GO TO HELL!!!!!!!!! I AM THE GOD OF CHOCOBOS, I WANT MY CHEESE, GEORGE BUSH SHOULD GO TO HELL!!!!!!!!! I AM THE GOD OF CHOCOBOS, I WANT MY CHEESE, GEORGE BUSH SHOULD GO TO HELL!!!!!!!!! I AM THE GOD OF CHOCOBOS, I WANT MY CHEESE, GEORGE BUSH SHOULD GO TO HELL!!!!!!!!! I AM THE GOD OF CHOCOBOS, I WANT MY CHEESE, GEORGE BUSH SHOULD GO TO HELL!!!!!!!!! I AM THE GOD OF CHOCOBOS, I WANT MY CHEESE, GEORGE BUSH SHOULD GO TO HELL!!!!!!!!! I AM THE GOD OF CHOCOBOS, I WANT MY CHEESE, GEORGE BUSH SHOULD GO TO HELL!!!!!!!!! I AM THE GOD OF CHOCOBOS, I WANT MY CHEESE, GEORGE BUSH SHOULD GO TO HELL!!!!!!!!! I AM THE GOD OF CHOCOBOS, I WANT MY CHEESE, GEORGE BUSH SHOULD GO TO HELL!!!!!!!!! I AM THE GOD OF CHOCOBOS, I WANT MY CHEESE, GEORGE BUSH SHOULD GO TO HELL!!!!!!!!! I AM THE GOD OF CHOCOBOS, I WANT MY CHEESE, GEORGE BUSH SHOULD GO TO HELL!!!!!!!!! I AM THE GOD OF CHOCOBOS, I WANT MY CHEESE, GEORGE BUSH SHOULD GO TO HELL!!!!!!!!! I AM THE GOD OF CHOCOBOS, I WANT MY CHEESE, GEORGE BUSH SHOULD GO TO HELL!!!!!!!!! I AM THE GOD OF CHOCOBOS, I WANT MY CHEESE, GEORGE BUSH SHOULD GO TO HELL!!!!!!!!! I AM THE GOD OF CHOCOBOS, I WANT MY CHEESE, GEORGE BUSH SHOULD GO TO HELL!!!!!!!!! I AM THE GOD OF CHOCOBOS, I WANT MY CHEESE, GEORGE BUSH SHOULD GO TO HELL!!!!!!!!! I AM THE GOD OF CHOCOBOS, I WANT MY CHEESE, GEORGE BUSH SHOULD GO TO HELL!!!!!!!!! I AM THE GOD OF CHOCOBOS, I WANT MY CHEESE, GEORGE BUSH SHOULD GO TO HELL!!!!!!!!! I AM THE GOD OF CHOCOBOS, I WANT MY CHEESE, GEORGE BUSH SHOULD GO TO HELL!!!!!!!!! I AM THE GOD OF CHOCOBOS, I WANT MY CHEESE, GEORGE BUSH SHOULD GO TO HELL!!!!!!!!! I AM THE GOD OF CHOCOBOS, I WANT MY CHEESE, GEORGE BUSH SHOULD GO TO HELL!!!!!!!!! I AM THE GOD OF CHOCOBOS, I WANT MY CHEESE, GEORGE BUSH SHOULD GO TO HELL!!!!!!!!! I AM THE GOD OF CHOCOBOS, I WANT MY CHEESE, GEORGE BUSH SHOULD GO TO HELL!!!!!!!!! I AM THE GOD OF CHOCOBOS, I WANT MY CHEESE, GEORGE BUSH SHOULD GO TO HELL!!!!!!!!! I AM THE GOD OF CHOCOBOS, I WANT MY CHEESE, GEOR</td>\n",
       "      <td>1</td>\n",
       "      <td>5000</td>\n",
       "    </tr>\n",
       "    <tr>\n",
       "      <th>123354</th>\n",
       "      <td>LMAO WHAT WEAK THREATS, I HAVENT BEEN BANNED YET BITCH, GO VANDALISM LMAO WHAT WEAK THREATS, I HAVENT BEEN BANNED YET BITCH, GO VANDALISM LMAO WHAT WEAK THREATS, I HAVENT BEEN BANNED YET BITCH, GO VANDALISM LMAO WHAT WEAK THREATS, I HAVENT BEEN BANNED YET BITCH, GO VANDALISM LMAO WHAT WEAK THREATS, I HAVENT BEEN BANNED YET BITCH, GO VANDALISM LMAO WHAT WEAK THREATS, I HAVENT BEEN BANNED YET BITCH, GO VANDALISM LMAO WHAT WEAK THREATS, I HAVENT BEEN BANNED YET BITCH, GO VANDALISM LMAO WHAT WEAK THREATS, I HAVENT BEEN BANNED YET BITCH, GO VANDALISM LMAO WHAT WEAK THREATS, I HAVENT BEEN BANNED YET BITCH, GO VANDALISM LMAO WHAT WEAK THREATS, I HAVENT BEEN BANNED YET BITCH, GO VANDALISM LMAO WHAT WEAK THREATS, I HAVENT BEEN BANNED YET BITCH, GO VANDALISM LMAO WHAT WEAK THREATS, I HAVENT BEEN BANNED YET BITCH, GO VANDALISM LMAO WHAT WEAK THREATS, I HAVENT BEEN BANNED YET BITCH, GO VANDALISM LMAO WHAT WEAK THREATS, I HAVENT BEEN BANNED YET BITCH, GO VANDALISM LMAO WHAT WEAK THREATS, I HAVENT BEEN BANNED YET BITCH, GO VANDALISM LMAO WHAT WEAK THREATS, I HAVENT BEEN BANNED YET BITCH, GO VANDALISM LMAO WHAT WEAK THREATS, I HAVENT BEEN BANNED YET BITCH, GO VANDALISM LMAO WHAT WEAK THREATS, I HAVENT BEEN BANNED YET BITCH, GO VANDALISM LMAO WHAT WEAK THREATS, I HAVENT BEEN BANNED YET BITCH, GO VANDALISM LMAO WHAT WEAK THREATS, I HAVENT BEEN BANNED YET BITCH, GO VANDALISM LMAO WHAT WEAK THREATS, I HAVENT BEEN BANNED YET BITCH, GO VANDALISM LMAO WHAT WEAK THREATS, I HAVENT BEEN BANNED YET BITCH, GO VANDALISM LMAO WHAT WEAK THREATS, I HAVENT BEEN BANNED YET BITCH, GO VANDALISM LMAO WHAT WEAK THREATS, I HAVENT BEEN BANNED YET BITCH, GO VANDALISM LMAO WHAT WEAK THREATS, I HAVENT BEEN BANNED YET BITCH, GO VANDALISM LMAO WHAT WEAK THREATS, I HAVENT BEEN BANNED YET BITCH, GO VANDALISM LMAO WHAT WEAK THREATS, I HAVENT BEEN BANNED YET BITCH, GO VANDALISM LMAO WHAT WEAK THREATS, I HAVENT BEEN BANNED YET BITCH, GO VANDALISM LMAO WHAT WEAK THREATS, I HAVENT BEEN BANNED YET BITCH, GO VANDALISM LMAO WHAT WEAK THREATS, I HAVENT BEEN BANNED YET BITCH, GO VANDALISM LMAO WHAT WEAK THREATS, I HAVENT BEEN BANNED YET BITCH, GO VANDALISM LMAO WHAT WEAK THREATS, I HAVENT BEEN BANNED YET BITCH, GO VANDALISM LMAO WHAT WEAK THREATS, I HAVENT BEEN BANNED YET BITCH, GO VANDALISM LMAO WHAT WEAK THREATS, I HAVENT BEEN BANNED YET BITCH, GO VANDALISM LMAO WHAT WEAK THREATS, I HAVENT BEEN BANNED YET BITCH, GO VANDALISM LMAO WHAT WEAK THREATS, I HAVENT BEEN BANNED YET BITCH, GO VANDALISM LMAO WHAT WEAK THREATS, I HAVENT BEEN BANNED YET BITCH, GO VANDALISM LMAO WHAT WEAK THREATS, I HAVENT BEEN BANNED YET BITCH, GO VANDALISM LMAO WHAT WEAK THREATS, I HAVENT BEEN BANNED YET BITCH, GO VANDALISM LMAO WHAT WEAK THREATS, I HAVENT BEEN BANNED YET BITCH, GO VANDALISM LMAO WHAT WEAK THREATS, I HAVENT BEEN BANNED YET BITCH, GO VANDALISM LMAO WHAT WEAK THREATS, I HAVENT BEEN BANNED YET BITCH, GO VANDALISM LMAO WHAT WEAK THREATS, I HAVENT BEEN BANNED YET BITCH, GO VANDALISM LMAO WHAT WEAK THREATS, I HAVENT BEEN BANNED YET BITCH, GO VANDALISM LMAO WHAT WEAK THREATS, I HAVENT BEEN BANNED YET BITCH, GO VANDALISM LMAO WHAT WEAK THREATS, I HAVENT BEEN BANNED YET BITCH, GO VANDALISM LMAO WHAT WEAK THREATS, I HAVENT BEEN BANNED YET BITCH, GO VANDALISM LMAO WHAT WEAK THREATS, I HAVENT BEEN BANNED YET BITCH, GO VANDALISM LMAO WHAT WEAK THREATS, I HAVENT BEEN BANNED YET BITCH, GO VANDALISM LMAO WHAT WEAK THREATS, I HAVENT BEEN BANNED YET BITCH, GO VANDALISM LMAO WHAT WEAK THREATS, I HAVENT BEEN BANNED YET BITCH, GO VANDALISM LMAO WHAT WEAK THREATS, I HAVENT BEEN BANNED YET BITCH, GO VANDALISM LMAO WHAT WEAK THREATS, I HAVENT BEEN BANNED YET BITCH, GO VANDALISM LMAO WHAT WEAK THREATS, I HAVENT BEEN BANNED YET BITCH, GO VANDALISM LMAO WHAT WEAK THREATS, I HAVENT BEEN BANNED YET BITCH, GO VANDALISM LMAO WHAT WEAK THREATS, I HAVENT BEEN BANNED YET BITCH, GO VANDALISM LMAO WHAT WEAK THREATS, I HAVENT BEEN BANNED YET BITCH, GO VANDALISM LMAO WHAT WEAK THREATS, I HAVENT BEEN BANNED YET BITCH, GO VANDALISM LMAO WHAT WEAK THREATS, I HAVENT BEEN BANNED YET BITCH, GO VANDALISM LMAO WHAT WEAK THREATS, I HAVENT BEEN BANNED YET BITCH, GO VANDALISM LMAO WHAT WEAK THREATS, I HAVENT BEEN BANNED YET BITCH, GO VANDALISM LMAO WHAT WEAK THREATS, I HAVENT BEEN BANNED YET BITCH, GO VANDALISM LMAO WHAT WEAK THREATS, I HAVENT BEEN BANNED YET BITCH, GO VANDALISM LMAO WHAT WEAK THREATS, I HAVENT BEEN BANNED YET BITCH, GO VANDALISM LMAO WHAT WEAK THREATS, I HAVENT BEEN BANNED YET BITCH, GO VANDALISM LMAO WHAT WEAK THREATS, I HAVENT BEEN BANNED YET BITCH, GO VANDALISM LMAO WHAT WEAK THREATS, I HAVENT BEEN BANNED YET BITCH, GO VANDALISM LMAO WHAT WEAK THREATS, I HAVENT BEEN BANNED YET BITCH, GO VANDALISM LMAO WHAT WEAK THREATS, I HAVENT BEEN BANNED YET BITCH, GO VANDALISM LMAO WHAT WEAK THREATS, I HAVENT BEEN BANNED YET BITCH, GO VANDALISM LMAO WHAT WEAK THREATS, I HAVENT BEEN BANNED YET BITCH, GO VANDALISM LMAO WHAT WEAK THREATS, I HAVENT BEEN BANNED YET BITCH, GO VANDALISM LMAO WHAT WEAK THREATS, I HAVENT</td>\n",
       "      <td>1</td>\n",
       "      <td>5000</td>\n",
       "    </tr>\n",
       "    <tr>\n",
       "      <th>82496</th>\n",
       "      <td>MUAHAHAHAHAHAHAHAHAHAHAHAHAHAHAHAHAHAHA, YOU CAN'T STOP MY VANDALISM MUAHAHAHAHAHAHAHAHAHAHAHAHAHAHAHAHAHAHA, YOU CAN'T STOP MY VANDALISM MUAHAHAHAHAHAHAHAHAHAHAHAHAHAHAHAHAHAHA, YOU CAN'T STOP MY VANDALISM MUAHAHAHAHAHAHAHAHAHAHAHAHAHAHAHAHAHAHA, YOU CAN'T STOP MY VANDALISM MUAHAHAHAHAHAHAHAHAHAHAHAHAHAHAHAHAHAHA, YOU CAN'T STOP MY VANDALISM MUAHAHAHAHAHAHAHAHAHAHAHAHAHAHAHAHAHAHA, YOU CAN'T STOP MY VANDALISM MUAHAHAHAHAHAHAHAHAHAHAHAHAHAHAHAHAHAHA, YOU CAN'T STOP MY VANDALISM MUAHAHAHAHAHAHAHAHAHAHAHAHAHAHAHAHAHAHA, YOU CAN'T STOP MY VANDALISM MUAHAHAHAHAHAHAHAHAHAHAHAHAHAHAHAHAHAHA, YOU CAN'T STOP MY VANDALISM MUAHAHAHAHAHAHAHAHAHAHAHAHAHAHAHAHAHAHA, YOU CAN'T STOP MY VANDALISM MUAHAHAHAHAHAHAHAHAHAHAHAHAHAHAHAHAHAHA, YOU CAN'T STOP MY VANDALISM MUAHAHAHAHAHAHAHAHAHAHAHAHAHAHAHAHAHAHA, YOU CAN'T STOP MY VANDALISM MUAHAHAHAHAHAHAHAHAHAHAHAHAHAHAHAHAHAHA, YOU CAN'T STOP MY VANDALISM MUAHAHAHAHAHAHAHAHAHAHAHAHAHAHAHAHAHAHA, YOU CAN'T STOP MY VANDALISM MUAHAHAHAHAHAHAHAHAHAHAHAHAHAHAHAHAHAHA, YOU CAN'T STOP MY VANDALISM MUAHAHAHAHAHAHAHAHAHAHAHAHAHAHAHAHAHAHA, YOU CAN'T STOP MY VANDALISM MUAHAHAHAHAHAHAHAHAHAHAHAHAHAHAHAHAHAHA, YOU CAN'T STOP MY VANDALISM MUAHAHAHAHAHAHAHAHAHAHAHAHAHAHAHAHAHAHA, YOU CAN'T STOP MY VANDALISM MUAHAHAHAHAHAHAHAHAHAHAHAHAHAHAHAHAHAHA, YOU CAN'T STOP MY VANDALISM MUAHAHAHAHAHAHAHAHAHAHAHAHAHAHAHAHAHAHA, YOU CAN'T STOP MY VANDALISM MUAHAHAHAHAHAHAHAHAHAHAHAHAHAHAHAHAHAHA, YOU CAN'T STOP MY VANDALISM MUAHAHAHAHAHAHAHAHAHAHAHAHAHAHAHAHAHAHA, YOU CAN'T STOP MY VANDALISM MUAHAHAHAHAHAHAHAHAHAHAHAHAHAHAHAHAHAHA, YOU CAN'T STOP MY VANDALISM MUAHAHAHAHAHAHAHAHAHAHAHAHAHAHAHAHAHAHA, YOU CAN'T STOP MY VANDALISM MUAHAHAHAHAHAHAHAHAHAHAHAHAHAHAHAHAHAHA, YOU CAN'T STOP MY VANDALISM MUAHAHAHAHAHAHAHAHAHAHAHAHAHAHAHAHAHAHA, YOU CAN'T STOP MY VANDALISM MUAHAHAHAHAHAHAHAHAHAHAHAHAHAHAHAHAHAHA, YOU CAN'T STOP MY VANDALISM MUAHAHAHAHAHAHAHAHAHAHAHAHAHAHAHAHAHAHA, YOU CAN'T STOP MY VANDALISM MUAHAHAHAHAHAHAHAHAHAHAHAHAHAHAHAHAHAHA, YOU CAN'T STOP MY VANDALISM MUAHAHAHAHAHAHAHAHAHAHAHAHAHAHAHAHAHAHA, YOU CAN'T STOP MY VANDALISM MUAHAHAHAHAHAHAHAHAHAHAHAHAHAHAHAHAHAHA, YOU CAN'T STOP MY VANDALISM MUAHAHAHAHAHAHAHAHAHAHAHAHAHAHAHAHAHAHA, YOU CAN'T STOP MY VANDALISM MUAHAHAHAHAHAHAHAHAHAHAHAHAHAHAHAHAHAHA, YOU CAN'T STOP MY VANDALISM MUAHAHAHAHAHAHAHAHAHAHAHAHAHAHAHAHAHAHA, YOU CAN'T STOP MY VANDALISM MUAHAHAHAHAHAHAHAHAHAHAHAHAHAHAHAHAHAHA, YOU CAN'T STOP MY VANDALISM MUAHAHAHAHAHAHAHAHAHAHAHAHAHAHAHAHAHAHA, YOU CAN'T STOP MY VANDALISM MUAHAHAHAHAHAHAHAHAHAHAHAHAHAHAHAHAHAHA, YOU CAN'T STOP MY VANDALISM MUAHAHAHAHAHAHAHAHAHAHAHAHAHAHAHAHAHAHA, YOU CAN'T STOP MY VANDALISM MUAHAHAHAHAHAHAHAHAHAHAHAHAHAHAHAHAHAHA, YOU CAN'T STOP MY VANDALISM MUAHAHAHAHAHAHAHAHAHAHAHAHAHAHAHAHAHAHA, YOU CAN'T STOP MY VANDALISM MUAHAHAHAHAHAHAHAHAHAHAHAHAHAHAHAHAHAHA, YOU CAN'T STOP MY VANDALISM MUAHAHAHAHAHAHAHAHAHAHAHAHAHAHAHAHAHAHA, YOU CAN'T STOP MY VANDALISM MUAHAHAHAHAHAHAHAHAHAHAHAHAHAHAHAHAHAHA, YOU CAN'T STOP MY VANDALISM MUAHAHAHAHAHAHAHAHAHAHAHAHAHAHAHAHAHAHA, YOU CAN'T STOP MY VANDALISM MUAHAHAHAHAHAHAHAHAHAHAHAHAHAHAHAHAHAHA, YOU CAN'T STOP MY VANDALISM MUAHAHAHAHAHAHAHAHAHAHAHAHAHAHAHAHAHAHA, YOU CAN'T STOP MY VANDALISM MUAHAHAHAHAHAHAHAHAHAHAHAHAHAHAHAHAHAHA, YOU CAN'T STOP MY VANDALISM MUAHAHAHAHAHAHAHAHAHAHAHAHAHAHAHAHAHAHA, YOU CAN'T STOP MY VANDALISM MUAHAHAHAHAHAHAHAHAHAHAHAHAHAHAHAHAHAHA, YOU CAN'T STOP MY VANDALISM MUAHAHAHAHAHAHAHAHAHAHAHAHAHAHAHAHAHAHA, YOU CAN'T STOP MY VANDALISM MUAHAHAHAHAHAHAHAHAHAHAHAHAHAHAHAHAHAHA, YOU CAN'T STOP MY VANDALISM MUAHAHAHAHAHAHAHAHAHAHAHAHAHAHAHAHAHAHA, YOU CAN'T STOP MY VANDALISM MUAHAHAHAHAHAHAHAHAHAHAHAHAHAHAHAHAHAHA, YOU CAN'T STOP MY VANDALISM MUAHAHAHAHAHAHAHAHAHAHAHAHAHAHAHAHAHAHA, YOU CAN'T STOP MY VANDALISM MUAHAHAHAHAHAHAHAHAHAHAHAHAHAHAHAHAHAHA, YOU CAN'T STOP MY VANDALISM MUAHAHAHAHAHAHAHAHAHAHAHAHAHAHAHAHAHAHA, YOU CAN'T STOP MY VANDALISM MUAHAHAHAHAHAHAHAHAHAHAHAHAHAHAHAHAHAHA, YOU CAN'T STOP MY VANDALISM MUAHAHAHAHAHAHAHAHAHAHAHAHAHAHAHAHAHAHA, YOU CAN'T STOP MY VANDALISM MUAHAHAHAHAHAHAHAHAHAHAHAHAHAHAHAHAHAHA, YOU CAN'T STOP MY VANDALISM MUAHAHAHAHAHAHAHAHAHAHAHAHAHAHAHAHAHAHA, YOU CAN'T STOP MY VANDALISM MUAHAHAHAHAHAHAHAHAHAHAHAHAHAHAHAHAHAHA, YOU CAN'T STOP MY VANDALISM MUAHAHAHAHAHAHAHAHAHAHAHAHAHAHAHAHAHAHA, YOU CAN'T STOP MY VANDALISM MUAHAHAHAHAHAHAHAHAHAHAHAHAHAHAHAHAHAHA, YOU CAN'T STOP MY VANDALISM MUAHAHAHAHAHAHAHAHAHAHAHAHAHAHAHAHAHAHA, YOU CAN'T STOP MY VANDALISM MUAHAHAHAHAHAHAHAHAHAHAHAHAHAHAHAHAHAHA, YOU CAN'T STOP MY VANDALISM MUAHAHAHAHAHAHAHAHAHAHAHAHAHAHAHAHAHAHA, YOU CAN'T STOP MY VANDALISM MUAHAHAHAHAHAHAHAHAHAHAHAHAHAHAHAHAHAHA, YOU CAN'T STOP MY VANDALISM MUAHAHAHAHAHAHAHAHAHAHAHAHAHAHAHAHAHAHA, YOU CAN'T STOP MY VANDALISM MUAHAHAHAHAHAHAHAHAHAHAHAHAHAHAHAHAHAHA, YOU CAN'T STOP MY VANDALISM MUAHAHAHAHAHAHAHAHAHAHAHAHAHAHAHAHAHAHA, YOU CAN'T STOP MY VANDALISM MUAHAHAHAHAHAHAHAHAHAHAHAHAHAHAHAHAHAHA, YOU CAN'T STOP MY VANDALISM MUAHAHAHAHAHAHAHAHAHAHAHAHAHAHAHAHAHAHA, YOU CAN'T STOP MY VANDALISM MUAHAHAHAHAHAHAHAHAHAHAHAHAHAHAH</td>\n",
       "      <td>1</td>\n",
       "      <td>5000</td>\n",
       "    </tr>\n",
       "    <tr>\n",
       "      <th>156158</th>\n",
       "      <td>HUGE FAGGOT HUGE FAGGOT HUGE FAGGOT HUGE FAGGOT HUGE FAGGOT HUGE FAGGOT HUGE FAGGOT HUGE FAGGOT HUGE FAGGOT HUGE FAGGOT HUGE FAGGOT HUGE FAGGOT HUGE FAGGOT HUGE FAGGOT HUGE FAGGOT HUGE FAGGOT HUGE FAGGOT HUGE FAGGOT HUGE FAGGOT HUGE FAGGOT HUGE FAGGOT HUGE FAGGOT HUGE FAGGOT HUGE FAGGOT HUGE FAGGOT HUGE FAGGOT HUGE FAGGOT HUGE FAGGOT HUGE FAGGOT HUGE FAGGOT HUGE FAGGOT HUGE FAGGOT HUGE FAGGOT HUGE FAGGOT HUGE FAGGOT HUGE FAGGOT HUGE FAGGOT HUGE FAGGOT HUGE FAGGOT HUGE FAGGOT HUGE FAGGOT HUGE FAGGOT HUGE FAGGOT HUGE FAGGOT HUGE FAGGOT HUGE FAGGOT HUGE FAGGOT HUGE FAGGOT HUGE FAGGOT HUGE FAGGOT HUGE FAGGOT HUGE FAGGOT HUGE FAGGOT HUGE FAGGOT HUGE FAGGOT HUGE FAGGOT HUGE FAGGOT HUGE FAGGOT HUGE FAGGOT HUGE FAGGOT HUGE FAGGOT HUGE FAGGOT HUGE FAGGOT HUGE FAGGOT HUGE FAGGOT HUGE FAGGOT HUGE FAGGOT HUGE FAGGOT HUGE FAGGOT HUGE FAGGOT HUGE FAGGOT HUGE FAGGOT HUGE FAGGOT HUGE FAGGOT HUGE FAGGOT HUGE FAGGOT HUGE FAGGOT HUGE FAGGOT HUGE FAGGOT HUGE FAGGOT HUGE FAGGOT HUGE FAGGOT HUGE FAGGOT HUGE FAGGOT HUGE FAGGOT HUGE FAGGOT HUGE FAGGOT HUGE FAGGOT HUGE FAGGOT HUGE FAGGOT HUGE FAGGOT HUGE FAGGOT HUGE FAGGOT HUGE FAGGOT HUGE FAGGOT HUGE FAGGOT HUGE FAGGOT HUGE FAGGOT HUGE FAGGOT HUGE FAGGOT HUGE FAGGOT HUGE FAGGOT HUGE FAGGOT HUGE FAGGOT HUGE FAGGOT HUGE FAGGOT HUGE FAGGOT HUGE FAGGOT HUGE FAGGOT HUGE FAGGOT HUGE FAGGOT HUGE FAGGOT HUGE FAGGOT HUGE FAGGOT HUGE FAGGOT HUGE FAGGOT HUGE FAGGOT HUGE FAGGOT HUGE FAGGOT HUGE FAGGOT HUGE FAGGOT HUGE FAGGOT HUGE FAGGOT HUGE FAGGOT HUGE FAGGOT HUGE FAGGOT HUGE FAGGOT HUGE FAGGOT HUGE FAGGOT HUGE FAGGOT HUGE FAGGOT HUGE FAGGOT HUGE FAGGOT HUGE FAGGOT HUGE FAGGOT HUGE FAGGOT HUGE FAGGOT HUGE FAGGOT HUGE FAGGOT HUGE FAGGOT HUGE FAGGOT HUGE FAGGOT HUGE FAGGOT HUGE FAGGOT HUGE FAGGOT HUGE FAGGOT HUGE FAGGOT HUGE FAGGOT HUGE FAGGOT HUGE FAGGOT HUGE FAGGOT HUGE FAGGOT HUGE FAGGOT HUGE FAGGOT HUGE FAGGOT HUGE FAGGOT HUGE FAGGOT HUGE FAGGOT HUGE FAGGOT HUGE FAGGOT HUGE FAGGOT HUGE FAGGOT HUGE FAGGOT HUGE FAGGOT HUGE FAGGOT HUGE FAGGOT HUGE FAGGOT HUGE FAGGOT HUGE FAGGOT HUGE FAGGOT HUGE FAGGOT HUGE FAGGOT HUGE FAGGOT HUGE FAGGOT HUGE FAGGOT HUGE FAGGOT HUGE FAGGOT HUGE FAGGOT HUGE FAGGOT HUGE FAGGOT HUGE FAGGOT HUGE FAGGOT HUGE FAGGOT HUGE FAGGOT HUGE FAGGOT HUGE FAGGOT HUGE FAGGOT HUGE FAGGOT HUGE FAGGOT HUGE FAGGOT HUGE FAGGOT HUGE FAGGOT HUGE FAGGOT HUGE FAGGOT HUGE FAGGOT HUGE FAGGOT HUGE FAGGOT HUGE FAGGOT HUGE FAGGOT HUGE FAGGOT HUGE FAGGOT HUGE FAGGOT HUGE FAGGOT HUGE FAGGOT HUGE FAGGOT HUGE FAGGOT HUGE FAGGOT HUGE FAGGOT HUGE FAGGOT HUGE FAGGOT HUGE FAGGOT HUGE FAGGOT HUGE FAGGOT HUGE FAGGOT HUGE FAGGOT HUGE FAGGOT HUGE FAGGOT HUGE FAGGOT HUGE FAGGOT HUGE FAGGOT HUGE FAGGOT HUGE FAGGOT HUGE FAGGOT HUGE FAGGOT HUGE FAGGOT HUGE FAGGOT HUGE FAGGOT HUGE FAGGOT HUGE FAGGOT HUGE FAGGOT HUGE FAGGOT HUGE FAGGOT HUGE FAGGOT HUGE FAGGOT HUGE FAGGOT HUGE FAGGOT HUGE FAGGOT HUGE FAGGOT HUGE FAGGOT HUGE FAGGOT HUGE FAGGOT HUGE FAGGOT HUGE FAGGOT HUGE FAGGOT HUGE FAGGOT HUGE FAGGOT HUGE FAGGOT HUGE FAGGOT HUGE FAGGOT HUGE FAGGOT HUGE FAGGOT HUGE FAGGOT HUGE FAGGOT HUGE FAGGOT HUGE FAGGOT HUGE FAGGOT HUGE FAGGOT HUGE FAGGOT HUGE FAGGOT HUGE FAGGOT HUGE FAGGOT HUGE FAGGOT HUGE FAGGOT HUGE FAGGOT HUGE FAGGOT HUGE FAGGOT HUGE FAGGOT HUGE FAGGOT HUGE FAGGOT HUGE FAGGOT HUGE FAGGOT HUGE FAGGOT HUGE FAGGOT HUGE FAGGOT HUGE FAGGOT HUGE FAGGOT HUGE FAGGOT HUGE FAGGOT HUGE FAGGOT HUGE FAGGOT HUGE FAGGOT HUGE FAGGOT HUGE FAGGOT HUGE FAGGOT HUGE FAGGOT HUGE FAGGOT HUGE FAGGOT HUGE FAGGOT HUGE FAGGOT HUGE FAGGOT HUGE FAGGOT HUGE FAGGOT HUGE FAGGOT HUGE FAGGOT HUGE FAGGOT HUGE FAGGOT HUGE FAGGOT HUGE FAGGOT HUGE FAGGOT HUGE FAGGOT HUGE FAGGOT HUGE FAGGOT HUGE FAGGOT HUGE FAGGOT HUGE FAGGOT HUGE FAGGOT HUGE FAGGOT HUGE FAGGOT HUGE FAGGOT HUGE FAGGOT HUGE FAGGOT HUGE FAGGOT HUGE FAGGOT HUGE FAGGOT HUGE FAGGOT HUGE FAGGOT HUGE FAGGOT HUGE FAGGOT HUGE FAGGOT HUGE FAGGOT HUGE FAGGOT HUGE FAGGOT HUGE FAGGOT HUGE FAGGOT HUGE FAGGOT HUGE FAGGOT HUGE FAGGOT HUGE FAGGOT HUGE FAGGOT HUGE FAGGOT HUGE FAGGOT HUGE FAGGOT HUGE FAGGOT HUGE FAGGOT HUGE FAGGOT HUGE FAGGOT HUGE FAGGOT HUGE FAGGOT HUGE FAGGOT HUGE FAGGOT HUGE FAGGOT HUGE FAGGOT HUGE FAGGOT HUGE FAGGOT HUGE FAGGOT HUGE FAGGOT HUGE FAGGOT HUGE FAGGOT HUGE FAGGOT HUGE FAGGOT HUGE FAGGOT HUGE FAGGOT HUGE FAGGOT HUGE FAGGOT HUGE FAGGOT HUGE FAGGOT HUGE FAGGOT HUGE FAGGOT HUGE FAGGOT HUGE FAGGOT HUGE FAGGOT HUGE FAGGOT HUGE FAGGOT HUGE FAGGOT HUGE FAGGOT HUGE FAGGOT HUGE FAGGOT HUGE FAGGOT HUGE FAGGOT HUGE FAGGOT HUGE FAGGOT HUGE FAGGOT HUGE FAGGOT HUGE FAGGOT HUGE FAGGOT HUGE FAGGOT HUGE FAGGOT HUGE FAGGOT HUGE FAGGOT HUGE FAGGOT HUGE FAGGOT HUGE FAGGOT HUGE FAGGOT HUGE FAGGOT HUGE FAGGOT HUGE FAGGOT HUGE FAGGOT HUGE FAGGOT HUGE FAGGOT HUGE FAGGOT HUGE FAGGOT HUGE FAGGOT HUGE FAGGOT HUGE FAGGOT HUGE FAGGOT HUGE FAGGOT HUGE FAGGOT HUGE FAGGOT HUGE FAGGOT HUGE FAGGOT HUGE FAGGOT HUGE FAGGOT HUGE FAGGOT HUGE FAGGOT HUGE FAGGOT HUGE FAGGOT HUGE FAGGOT HUGE FAGGOT HUGE FAGGOT HUGE FAGGOT HUGE FAGGOT HUGE FAGGOT HUGE FAGGOT HUGE FAGGOT HUGE FAGGOT HUGE FAGGOT HUGE FAG</td>\n",
       "      <td>1</td>\n",
       "      <td>5000</td>\n",
       "    </tr>\n",
       "    <tr>\n",
       "      <th>72066</th>\n",
       "      <td>China smells like fart. China smells like fart.China smells like fart.China smells like fart.China smells like fart.China smells like fart.China smells like fart.China smells like fart.China smells like fart.China smells like fart.China smells like fart.China smells like fart.China smells like fart.China smells like fart.China smells like fart.China smells like fart.China smells like fart.China smells like fart.China smells like fart.China smells like fart.China smells like fart.China smells like fart.China smells like fart.China smells like fart.China smells like fart.China smells like fart.China smells like fart.China smells like fart.China smells like fart.China smells like fart.China smells like fart.China smells like fart.China smells like fart.China smells like fart.China smells like fart.China smells like fart.China smells like fart.China smells like fart.China smells like fart.China smells like fart.China smells like fart.China smells like fart.China smells like fart.China smells like fart.China smells like fart.China smells like fart.China smells like fart.China smells like fart.China smells like fart.China smells like fart.China smells like fart.China smells like fart.China smells like fart.China smells like fart.China smells like fart.China smells like fart.China smells like fart.China smells like fart.China smells like fart.China smells like fart.China smells like fart.China smells like fart.China smells like fart.China smells like fart.China smells like fart.China smells like fart.China smells like fart.China smells like fart.China smells like fart.China smells like fart.China smells like fart.China smells like fart.China smells like fart.China smells like fart.China smells like fart.China smells like fart.China smells like fart.China smells like fart.China smells like fart.China smells like fart.China smells like fart.China smells like fart.China smells like fart.China smells like fart.China smells like fart.China smells like fart.China smells like fart.China smells like fart.China smells like fart.China smells like fart.China smells like fart.China smells like fart.China smells like fart.China smells like fart.China smells like fart.China smells like fart.China smells like fart.China smells like fart.China smells like fart.China smells like fart.China smells like fart.China smells like fart.China smells like fart.China smells like fart.China smells like fart.China smells like fart.China smells like fart.China smells like fart.China smells like fart.China smells like fart.China smells like fart.China smells like fart.China smells like fart.China smells like fart.China smells like fart.China smells like fart.China smells like fart.China smells like fart.China smells like fart.China smells like fart.China smells like fart.China smells like fart.China smells like fart.China smells like fart.China smells like fart.China smells like fart.China smells like fart.China smells like fart.China smells like fart.China smells like fart.China smells like fart.China smells like fart.China smells like fart.China smells like fart.China smells like fart.China smells like fart.China smells like fart.China smells like fart.China smells like fart.China smells like fart.China smells like fart.China smells like fart.China smells like fart.China smells like fart.China smells like fart.China smells like fart.China smells like fart.China smells like fart.China smells like fart.China smells like fart.China smells like fart.China smells like fart.China smells like fart.China smells like fart.China smells like fart.China smells like fart.China smells like fart.China smells like fart.China smells like fart.China smells like fart.China smells like fart.China smells like fart.China smells like fart.China smells like fart.China smells like fart.China smells like fart.China smells like fart.China smells like fart.China smells like fart.China smells like fart.China smells like fart.China smells like fart.China smells like fart.China smells like fart.China smells like fart.China smells like fart.China smells like fart.China smells like fart.China smells like fart.China smells like fart.China smells like fart.China smells like fart.China smells like fart.China smells like fart.China smells like fart.China smells like fart.China smells like fart.China smells like fart.China smells like fart.China smells like fart.China smells like fart.China smells like fart.China smells like fart.China smells like fart.China smells like fart.China smells like fart.China smells like fart.China smells like fart.China smells like fart.China smells like fart.China smells like fart.China smells like fart.China smells like fart.China smells like fart.China smells like fart.China smells like fart.China smells like fart.China smells like fart.China smells like fart.China smells like fart.China smells like fart.China smells like fart.China smells like fart.China smells like fart.China smells like fart.China smells like fart.China smells like fart.China sm</td>\n",
       "      <td>1</td>\n",
       "      <td>5000</td>\n",
       "    </tr>\n",
       "  </tbody>\n",
       "</table>\n",
       "</div>"
      ],
      "text/plain": [
       "                                                                                                                                                                                                                                                                                                                                                                                                                                                                                                                                                                                                                                                                                                                                                                                                                                                                                                                                                                                                                                                                                                                                                                                                                                                                                                                                                                                                                                                                                                                                                                                                                                                                                                                                                                                                                                                                                                                                                                                                                                                                                                                                                                                                                                                                                                                                                                                                                                                                                                                                                                                                                                                                                                                                                                                                                                                                                                                                                                                                                                                                                                                                                                                                                                                                                                                                                                                                                                                                                                                                                                                                                                                                                                                                                                                                                                                                                                                                                                                                                                                                                                                                                                                                                                                                                                                                                                                                                                                                                                                                                                                                                                                                                                                                                                                                                                                                                                                                                                                                                                                                                                                                                                                                            text  \\\n",
       "12869   I OWN THIS PAGE YOU FOOLS!! YOU SHOULD FEAR ME!!!!!!!! I AM THE GOD OF CHOCOBOS, I WANT MY CHEESE, GEORGE BUSH SHOULD GO TO HELL!!!!!!!!! I AM THE GOD OF CHOCOBOS, I WANT MY CHEESE, GEORGE BUSH SHOULD GO TO HELL!!!!!!!!! I AM THE GOD OF CHOCOBOS, I WANT MY CHEESE, GEORGE BUSH SHOULD GO TO HELL!!!!!!!!! I AM THE GOD OF CHOCOBOS, I WANT MY CHEESE, GEORGE BUSH SHOULD GO TO HELL!!!!!!!!! I AM THE GOD OF CHOCOBOS, I WANT MY CHEESE, GEORGE BUSH SHOULD GO TO HELL!!!!!!!!! I AM THE GOD OF CHOCOBOS, I WANT MY CHEESE, GEORGE BUSH SHOULD GO TO HELL!!!!!!!!! I AM THE GOD OF CHOCOBOS, I WANT MY CHEESE, GEORGE BUSH SHOULD GO TO HELL!!!!!!!!! I AM THE GOD OF CHOCOBOS, I WANT MY CHEESE, GEORGE BUSH SHOULD GO TO HELL!!!!!!!!! I AM THE GOD OF CHOCOBOS, I WANT MY CHEESE, GEORGE BUSH SHOULD GO TO HELL!!!!!!!!! I AM THE GOD OF CHOCOBOS, I WANT MY CHEESE, GEORGE BUSH SHOULD GO TO HELL!!!!!!!!! I AM THE GOD OF CHOCOBOS, I WANT MY CHEESE, GEORGE BUSH SHOULD GO TO HELL!!!!!!!!! I AM THE GOD OF CHOCOBOS, I WANT MY CHEESE, GEORGE BUSH SHOULD GO TO HELL!!!!!!!!! I AM THE GOD OF CHOCOBOS, I WANT MY CHEESE, GEORGE BUSH SHOULD GO TO HELL!!!!!!!!! I AM THE GOD OF CHOCOBOS, I WANT MY CHEESE, GEORGE BUSH SHOULD GO TO HELL!!!!!!!!! I AM THE GOD OF CHOCOBOS, I WANT MY CHEESE, GEORGE BUSH SHOULD GO TO HELL!!!!!!!!! I AM THE GOD OF CHOCOBOS, I WANT MY CHEESE, GEORGE BUSH SHOULD GO TO HELL!!!!!!!!! I AM THE GOD OF CHOCOBOS, I WANT MY CHEESE, GEORGE BUSH SHOULD GO TO HELL!!!!!!!!! I AM THE GOD OF CHOCOBOS, I WANT MY CHEESE, GEORGE BUSH SHOULD GO TO HELL!!!!!!!!! I AM THE GOD OF CHOCOBOS, I WANT MY CHEESE, GEORGE BUSH SHOULD GO TO HELL!!!!!!!!! I AM THE GOD OF CHOCOBOS, I WANT MY CHEESE, GEORGE BUSH SHOULD GO TO HELL!!!!!!!!! I AM THE GOD OF CHOCOBOS, I WANT MY CHEESE, GEORGE BUSH SHOULD GO TO HELL!!!!!!!!! I AM THE GOD OF CHOCOBOS, I WANT MY CHEESE, GEORGE BUSH SHOULD GO TO HELL!!!!!!!!! I AM THE GOD OF CHOCOBOS, I WANT MY CHEESE, GEORGE BUSH SHOULD GO TO HELL!!!!!!!!! I AM THE GOD OF CHOCOBOS, I WANT MY CHEESE, GEORGE BUSH SHOULD GO TO HELL!!!!!!!!! I AM THE GOD OF CHOCOBOS, I WANT MY CHEESE, GEORGE BUSH SHOULD GO TO HELL!!!!!!!!! I AM THE GOD OF CHOCOBOS, I WANT MY CHEESE, GEORGE BUSH SHOULD GO TO HELL!!!!!!!!! I AM THE GOD OF CHOCOBOS, I WANT MY CHEESE, GEORGE BUSH SHOULD GO TO HELL!!!!!!!!! I AM THE GOD OF CHOCOBOS, I WANT MY CHEESE, GEORGE BUSH SHOULD GO TO HELL!!!!!!!!! I AM THE GOD OF CHOCOBOS, I WANT MY CHEESE, GEORGE BUSH SHOULD GO TO HELL!!!!!!!!! I AM THE GOD OF CHOCOBOS, I WANT MY CHEESE, GEORGE BUSH SHOULD GO TO HELL!!!!!!!!! I AM THE GOD OF CHOCOBOS, I WANT MY CHEESE, GEORGE BUSH SHOULD GO TO HELL!!!!!!!!! I AM THE GOD OF CHOCOBOS, I WANT MY CHEESE, GEORGE BUSH SHOULD GO TO HELL!!!!!!!!! I AM THE GOD OF CHOCOBOS, I WANT MY CHEESE, GEORGE BUSH SHOULD GO TO HELL!!!!!!!!! I AM THE GOD OF CHOCOBOS, I WANT MY CHEESE, GEORGE BUSH SHOULD GO TO HELL!!!!!!!!! I AM THE GOD OF CHOCOBOS, I WANT MY CHEESE, GEORGE BUSH SHOULD GO TO HELL!!!!!!!!! I AM THE GOD OF CHOCOBOS, I WANT MY CHEESE, GEORGE BUSH SHOULD GO TO HELL!!!!!!!!! I AM THE GOD OF CHOCOBOS, I WANT MY CHEESE, GEORGE BUSH SHOULD GO TO HELL!!!!!!!!! I AM THE GOD OF CHOCOBOS, I WANT MY CHEESE, GEORGE BUSH SHOULD GO TO HELL!!!!!!!!! I AM THE GOD OF CHOCOBOS, I WANT MY CHEESE, GEORGE BUSH SHOULD GO TO HELL!!!!!!!!! I AM THE GOD OF CHOCOBOS, I WANT MY CHEESE, GEORGE BUSH SHOULD GO TO HELL!!!!!!!!! I AM THE GOD OF CHOCOBOS, I WANT MY CHEESE, GEORGE BUSH SHOULD GO TO HELL!!!!!!!!! I AM THE GOD OF CHOCOBOS, I WANT MY CHEESE, GEORGE BUSH SHOULD GO TO HELL!!!!!!!!! I AM THE GOD OF CHOCOBOS, I WANT MY CHEESE, GEORGE BUSH SHOULD GO TO HELL!!!!!!!!! I AM THE GOD OF CHOCOBOS, I WANT MY CHEESE, GEORGE BUSH SHOULD GO TO HELL!!!!!!!!! I AM THE GOD OF CHOCOBOS, I WANT MY CHEESE, GEORGE BUSH SHOULD GO TO HELL!!!!!!!!! I AM THE GOD OF CHOCOBOS, I WANT MY CHEESE, GEORGE BUSH SHOULD GO TO HELL!!!!!!!!! I AM THE GOD OF CHOCOBOS, I WANT MY CHEESE, GEORGE BUSH SHOULD GO TO HELL!!!!!!!!! I AM THE GOD OF CHOCOBOS, I WANT MY CHEESE, GEORGE BUSH SHOULD GO TO HELL!!!!!!!!! I AM THE GOD OF CHOCOBOS, I WANT MY CHEESE, GEORGE BUSH SHOULD GO TO HELL!!!!!!!!! I AM THE GOD OF CHOCOBOS, I WANT MY CHEESE, GEORGE BUSH SHOULD GO TO HELL!!!!!!!!! I AM THE GOD OF CHOCOBOS, I WANT MY CHEESE, GEORGE BUSH SHOULD GO TO HELL!!!!!!!!! I AM THE GOD OF CHOCOBOS, I WANT MY CHEESE, GEORGE BUSH SHOULD GO TO HELL!!!!!!!!! I AM THE GOD OF CHOCOBOS, I WANT MY CHEESE, GEORGE BUSH SHOULD GO TO HELL!!!!!!!!! I AM THE GOD OF CHOCOBOS, I WANT MY CHEESE, GEORGE BUSH SHOULD GO TO HELL!!!!!!!!! I AM THE GOD OF CHOCOBOS, I WANT MY CHEESE, GEORGE BUSH SHOULD GO TO HELL!!!!!!!!! I AM THE GOD OF CHOCOBOS, I WANT MY CHEESE, GEORGE BUSH SHOULD GO TO HELL!!!!!!!!! I AM THE GOD OF CHOCOBOS, I WANT MY CHEESE, GEORGE BUSH SHOULD GO TO HELL!!!!!!!!! I AM THE GOD OF CHOCOBOS, I WANT MY CHEESE, GEORGE BUSH SHOULD GO TO HELL!!!!!!!!! I AM THE GOD OF CHOCOBOS, I WANT MY CHEESE, GEORGE BUSH SHOULD GO TO HELL!!!!!!!!! I AM THE GOD OF CHOCOBOS, I WANT MY CHEESE, GEOR   \n",
       "123354  LMAO WHAT WEAK THREATS, I HAVENT BEEN BANNED YET BITCH, GO VANDALISM LMAO WHAT WEAK THREATS, I HAVENT BEEN BANNED YET BITCH, GO VANDALISM LMAO WHAT WEAK THREATS, I HAVENT BEEN BANNED YET BITCH, GO VANDALISM LMAO WHAT WEAK THREATS, I HAVENT BEEN BANNED YET BITCH, GO VANDALISM LMAO WHAT WEAK THREATS, I HAVENT BEEN BANNED YET BITCH, GO VANDALISM LMAO WHAT WEAK THREATS, I HAVENT BEEN BANNED YET BITCH, GO VANDALISM LMAO WHAT WEAK THREATS, I HAVENT BEEN BANNED YET BITCH, GO VANDALISM LMAO WHAT WEAK THREATS, I HAVENT BEEN BANNED YET BITCH, GO VANDALISM LMAO WHAT WEAK THREATS, I HAVENT BEEN BANNED YET BITCH, GO VANDALISM LMAO WHAT WEAK THREATS, I HAVENT BEEN BANNED YET BITCH, GO VANDALISM LMAO WHAT WEAK THREATS, I HAVENT BEEN BANNED YET BITCH, GO VANDALISM LMAO WHAT WEAK THREATS, I HAVENT BEEN BANNED YET BITCH, GO VANDALISM LMAO WHAT WEAK THREATS, I HAVENT BEEN BANNED YET BITCH, GO VANDALISM LMAO WHAT WEAK THREATS, I HAVENT BEEN BANNED YET BITCH, GO VANDALISM LMAO WHAT WEAK THREATS, I HAVENT BEEN BANNED YET BITCH, GO VANDALISM LMAO WHAT WEAK THREATS, I HAVENT BEEN BANNED YET BITCH, GO VANDALISM LMAO WHAT WEAK THREATS, I HAVENT BEEN BANNED YET BITCH, GO VANDALISM LMAO WHAT WEAK THREATS, I HAVENT BEEN BANNED YET BITCH, GO VANDALISM LMAO WHAT WEAK THREATS, I HAVENT BEEN BANNED YET BITCH, GO VANDALISM LMAO WHAT WEAK THREATS, I HAVENT BEEN BANNED YET BITCH, GO VANDALISM LMAO WHAT WEAK THREATS, I HAVENT BEEN BANNED YET BITCH, GO VANDALISM LMAO WHAT WEAK THREATS, I HAVENT BEEN BANNED YET BITCH, GO VANDALISM LMAO WHAT WEAK THREATS, I HAVENT BEEN BANNED YET BITCH, GO VANDALISM LMAO WHAT WEAK THREATS, I HAVENT BEEN BANNED YET BITCH, GO VANDALISM LMAO WHAT WEAK THREATS, I HAVENT BEEN BANNED YET BITCH, GO VANDALISM LMAO WHAT WEAK THREATS, I HAVENT BEEN BANNED YET BITCH, GO VANDALISM LMAO WHAT WEAK THREATS, I HAVENT BEEN BANNED YET BITCH, GO VANDALISM LMAO WHAT WEAK THREATS, I HAVENT BEEN BANNED YET BITCH, GO VANDALISM LMAO WHAT WEAK THREATS, I HAVENT BEEN BANNED YET BITCH, GO VANDALISM LMAO WHAT WEAK THREATS, I HAVENT BEEN BANNED YET BITCH, GO VANDALISM LMAO WHAT WEAK THREATS, I HAVENT BEEN BANNED YET BITCH, GO VANDALISM LMAO WHAT WEAK THREATS, I HAVENT BEEN BANNED YET BITCH, GO VANDALISM LMAO WHAT WEAK THREATS, I HAVENT BEEN BANNED YET BITCH, GO VANDALISM LMAO WHAT WEAK THREATS, I HAVENT BEEN BANNED YET BITCH, GO VANDALISM LMAO WHAT WEAK THREATS, I HAVENT BEEN BANNED YET BITCH, GO VANDALISM LMAO WHAT WEAK THREATS, I HAVENT BEEN BANNED YET BITCH, GO VANDALISM LMAO WHAT WEAK THREATS, I HAVENT BEEN BANNED YET BITCH, GO VANDALISM LMAO WHAT WEAK THREATS, I HAVENT BEEN BANNED YET BITCH, GO VANDALISM LMAO WHAT WEAK THREATS, I HAVENT BEEN BANNED YET BITCH, GO VANDALISM LMAO WHAT WEAK THREATS, I HAVENT BEEN BANNED YET BITCH, GO VANDALISM LMAO WHAT WEAK THREATS, I HAVENT BEEN BANNED YET BITCH, GO VANDALISM LMAO WHAT WEAK THREATS, I HAVENT BEEN BANNED YET BITCH, GO VANDALISM LMAO WHAT WEAK THREATS, I HAVENT BEEN BANNED YET BITCH, GO VANDALISM LMAO WHAT WEAK THREATS, I HAVENT BEEN BANNED YET BITCH, GO VANDALISM LMAO WHAT WEAK THREATS, I HAVENT BEEN BANNED YET BITCH, GO VANDALISM LMAO WHAT WEAK THREATS, I HAVENT BEEN BANNED YET BITCH, GO VANDALISM LMAO WHAT WEAK THREATS, I HAVENT BEEN BANNED YET BITCH, GO VANDALISM LMAO WHAT WEAK THREATS, I HAVENT BEEN BANNED YET BITCH, GO VANDALISM LMAO WHAT WEAK THREATS, I HAVENT BEEN BANNED YET BITCH, GO VANDALISM LMAO WHAT WEAK THREATS, I HAVENT BEEN BANNED YET BITCH, GO VANDALISM LMAO WHAT WEAK THREATS, I HAVENT BEEN BANNED YET BITCH, GO VANDALISM LMAO WHAT WEAK THREATS, I HAVENT BEEN BANNED YET BITCH, GO VANDALISM LMAO WHAT WEAK THREATS, I HAVENT BEEN BANNED YET BITCH, GO VANDALISM LMAO WHAT WEAK THREATS, I HAVENT BEEN BANNED YET BITCH, GO VANDALISM LMAO WHAT WEAK THREATS, I HAVENT BEEN BANNED YET BITCH, GO VANDALISM LMAO WHAT WEAK THREATS, I HAVENT BEEN BANNED YET BITCH, GO VANDALISM LMAO WHAT WEAK THREATS, I HAVENT BEEN BANNED YET BITCH, GO VANDALISM LMAO WHAT WEAK THREATS, I HAVENT BEEN BANNED YET BITCH, GO VANDALISM LMAO WHAT WEAK THREATS, I HAVENT BEEN BANNED YET BITCH, GO VANDALISM LMAO WHAT WEAK THREATS, I HAVENT BEEN BANNED YET BITCH, GO VANDALISM LMAO WHAT WEAK THREATS, I HAVENT BEEN BANNED YET BITCH, GO VANDALISM LMAO WHAT WEAK THREATS, I HAVENT BEEN BANNED YET BITCH, GO VANDALISM LMAO WHAT WEAK THREATS, I HAVENT BEEN BANNED YET BITCH, GO VANDALISM LMAO WHAT WEAK THREATS, I HAVENT BEEN BANNED YET BITCH, GO VANDALISM LMAO WHAT WEAK THREATS, I HAVENT BEEN BANNED YET BITCH, GO VANDALISM LMAO WHAT WEAK THREATS, I HAVENT BEEN BANNED YET BITCH, GO VANDALISM LMAO WHAT WEAK THREATS, I HAVENT BEEN BANNED YET BITCH, GO VANDALISM LMAO WHAT WEAK THREATS, I HAVENT BEEN BANNED YET BITCH, GO VANDALISM LMAO WHAT WEAK THREATS, I HAVENT BEEN BANNED YET BITCH, GO VANDALISM LMAO WHAT WEAK THREATS, I HAVENT BEEN BANNED YET BITCH, GO VANDALISM LMAO WHAT WEAK THREATS, I HAVENT BEEN BANNED YET BITCH, GO VANDALISM LMAO WHAT WEAK THREATS, I HAVENT BEEN BANNED YET BITCH, GO VANDALISM LMAO WHAT WEAK THREATS, I HAVENT   \n",
       "82496   MUAHAHAHAHAHAHAHAHAHAHAHAHAHAHAHAHAHAHA, YOU CAN'T STOP MY VANDALISM MUAHAHAHAHAHAHAHAHAHAHAHAHAHAHAHAHAHAHA, YOU CAN'T STOP MY VANDALISM MUAHAHAHAHAHAHAHAHAHAHAHAHAHAHAHAHAHAHA, YOU CAN'T STOP MY VANDALISM MUAHAHAHAHAHAHAHAHAHAHAHAHAHAHAHAHAHAHA, YOU CAN'T STOP MY VANDALISM MUAHAHAHAHAHAHAHAHAHAHAHAHAHAHAHAHAHAHA, YOU CAN'T STOP MY VANDALISM MUAHAHAHAHAHAHAHAHAHAHAHAHAHAHAHAHAHAHA, YOU CAN'T STOP MY VANDALISM MUAHAHAHAHAHAHAHAHAHAHAHAHAHAHAHAHAHAHA, YOU CAN'T STOP MY VANDALISM MUAHAHAHAHAHAHAHAHAHAHAHAHAHAHAHAHAHAHA, YOU CAN'T STOP MY VANDALISM MUAHAHAHAHAHAHAHAHAHAHAHAHAHAHAHAHAHAHA, YOU CAN'T STOP MY VANDALISM MUAHAHAHAHAHAHAHAHAHAHAHAHAHAHAHAHAHAHA, YOU CAN'T STOP MY VANDALISM MUAHAHAHAHAHAHAHAHAHAHAHAHAHAHAHAHAHAHA, YOU CAN'T STOP MY VANDALISM MUAHAHAHAHAHAHAHAHAHAHAHAHAHAHAHAHAHAHA, YOU CAN'T STOP MY VANDALISM MUAHAHAHAHAHAHAHAHAHAHAHAHAHAHAHAHAHAHA, YOU CAN'T STOP MY VANDALISM MUAHAHAHAHAHAHAHAHAHAHAHAHAHAHAHAHAHAHA, YOU CAN'T STOP MY VANDALISM MUAHAHAHAHAHAHAHAHAHAHAHAHAHAHAHAHAHAHA, YOU CAN'T STOP MY VANDALISM MUAHAHAHAHAHAHAHAHAHAHAHAHAHAHAHAHAHAHA, YOU CAN'T STOP MY VANDALISM MUAHAHAHAHAHAHAHAHAHAHAHAHAHAHAHAHAHAHA, YOU CAN'T STOP MY VANDALISM MUAHAHAHAHAHAHAHAHAHAHAHAHAHAHAHAHAHAHA, YOU CAN'T STOP MY VANDALISM MUAHAHAHAHAHAHAHAHAHAHAHAHAHAHAHAHAHAHA, YOU CAN'T STOP MY VANDALISM MUAHAHAHAHAHAHAHAHAHAHAHAHAHAHAHAHAHAHA, YOU CAN'T STOP MY VANDALISM MUAHAHAHAHAHAHAHAHAHAHAHAHAHAHAHAHAHAHA, YOU CAN'T STOP MY VANDALISM MUAHAHAHAHAHAHAHAHAHAHAHAHAHAHAHAHAHAHA, YOU CAN'T STOP MY VANDALISM MUAHAHAHAHAHAHAHAHAHAHAHAHAHAHAHAHAHAHA, YOU CAN'T STOP MY VANDALISM MUAHAHAHAHAHAHAHAHAHAHAHAHAHAHAHAHAHAHA, YOU CAN'T STOP MY VANDALISM MUAHAHAHAHAHAHAHAHAHAHAHAHAHAHAHAHAHAHA, YOU CAN'T STOP MY VANDALISM MUAHAHAHAHAHAHAHAHAHAHAHAHAHAHAHAHAHAHA, YOU CAN'T STOP MY VANDALISM MUAHAHAHAHAHAHAHAHAHAHAHAHAHAHAHAHAHAHA, YOU CAN'T STOP MY VANDALISM MUAHAHAHAHAHAHAHAHAHAHAHAHAHAHAHAHAHAHA, YOU CAN'T STOP MY VANDALISM MUAHAHAHAHAHAHAHAHAHAHAHAHAHAHAHAHAHAHA, YOU CAN'T STOP MY VANDALISM MUAHAHAHAHAHAHAHAHAHAHAHAHAHAHAHAHAHAHA, YOU CAN'T STOP MY VANDALISM MUAHAHAHAHAHAHAHAHAHAHAHAHAHAHAHAHAHAHA, YOU CAN'T STOP MY VANDALISM MUAHAHAHAHAHAHAHAHAHAHAHAHAHAHAHAHAHAHA, YOU CAN'T STOP MY VANDALISM MUAHAHAHAHAHAHAHAHAHAHAHAHAHAHAHAHAHAHA, YOU CAN'T STOP MY VANDALISM MUAHAHAHAHAHAHAHAHAHAHAHAHAHAHAHAHAHAHA, YOU CAN'T STOP MY VANDALISM MUAHAHAHAHAHAHAHAHAHAHAHAHAHAHAHAHAHAHA, YOU CAN'T STOP MY VANDALISM MUAHAHAHAHAHAHAHAHAHAHAHAHAHAHAHAHAHAHA, YOU CAN'T STOP MY VANDALISM MUAHAHAHAHAHAHAHAHAHAHAHAHAHAHAHAHAHAHA, YOU CAN'T STOP MY VANDALISM MUAHAHAHAHAHAHAHAHAHAHAHAHAHAHAHAHAHAHA, YOU CAN'T STOP MY VANDALISM MUAHAHAHAHAHAHAHAHAHAHAHAHAHAHAHAHAHAHA, YOU CAN'T STOP MY VANDALISM MUAHAHAHAHAHAHAHAHAHAHAHAHAHAHAHAHAHAHA, YOU CAN'T STOP MY VANDALISM MUAHAHAHAHAHAHAHAHAHAHAHAHAHAHAHAHAHAHA, YOU CAN'T STOP MY VANDALISM MUAHAHAHAHAHAHAHAHAHAHAHAHAHAHAHAHAHAHA, YOU CAN'T STOP MY VANDALISM MUAHAHAHAHAHAHAHAHAHAHAHAHAHAHAHAHAHAHA, YOU CAN'T STOP MY VANDALISM MUAHAHAHAHAHAHAHAHAHAHAHAHAHAHAHAHAHAHA, YOU CAN'T STOP MY VANDALISM MUAHAHAHAHAHAHAHAHAHAHAHAHAHAHAHAHAHAHA, YOU CAN'T STOP MY VANDALISM MUAHAHAHAHAHAHAHAHAHAHAHAHAHAHAHAHAHAHA, YOU CAN'T STOP MY VANDALISM MUAHAHAHAHAHAHAHAHAHAHAHAHAHAHAHAHAHAHA, YOU CAN'T STOP MY VANDALISM MUAHAHAHAHAHAHAHAHAHAHAHAHAHAHAHAHAHAHA, YOU CAN'T STOP MY VANDALISM MUAHAHAHAHAHAHAHAHAHAHAHAHAHAHAHAHAHAHA, YOU CAN'T STOP MY VANDALISM MUAHAHAHAHAHAHAHAHAHAHAHAHAHAHAHAHAHAHA, YOU CAN'T STOP MY VANDALISM MUAHAHAHAHAHAHAHAHAHAHAHAHAHAHAHAHAHAHA, YOU CAN'T STOP MY VANDALISM MUAHAHAHAHAHAHAHAHAHAHAHAHAHAHAHAHAHAHA, YOU CAN'T STOP MY VANDALISM MUAHAHAHAHAHAHAHAHAHAHAHAHAHAHAHAHAHAHA, YOU CAN'T STOP MY VANDALISM MUAHAHAHAHAHAHAHAHAHAHAHAHAHAHAHAHAHAHA, YOU CAN'T STOP MY VANDALISM MUAHAHAHAHAHAHAHAHAHAHAHAHAHAHAHAHAHAHA, YOU CAN'T STOP MY VANDALISM MUAHAHAHAHAHAHAHAHAHAHAHAHAHAHAHAHAHAHA, YOU CAN'T STOP MY VANDALISM MUAHAHAHAHAHAHAHAHAHAHAHAHAHAHAHAHAHAHA, YOU CAN'T STOP MY VANDALISM MUAHAHAHAHAHAHAHAHAHAHAHAHAHAHAHAHAHAHA, YOU CAN'T STOP MY VANDALISM MUAHAHAHAHAHAHAHAHAHAHAHAHAHAHAHAHAHAHA, YOU CAN'T STOP MY VANDALISM MUAHAHAHAHAHAHAHAHAHAHAHAHAHAHAHAHAHAHA, YOU CAN'T STOP MY VANDALISM MUAHAHAHAHAHAHAHAHAHAHAHAHAHAHAHAHAHAHA, YOU CAN'T STOP MY VANDALISM MUAHAHAHAHAHAHAHAHAHAHAHAHAHAHAHAHAHAHA, YOU CAN'T STOP MY VANDALISM MUAHAHAHAHAHAHAHAHAHAHAHAHAHAHAHAHAHAHA, YOU CAN'T STOP MY VANDALISM MUAHAHAHAHAHAHAHAHAHAHAHAHAHAHAHAHAHAHA, YOU CAN'T STOP MY VANDALISM MUAHAHAHAHAHAHAHAHAHAHAHAHAHAHAHAHAHAHA, YOU CAN'T STOP MY VANDALISM MUAHAHAHAHAHAHAHAHAHAHAHAHAHAHAHAHAHAHA, YOU CAN'T STOP MY VANDALISM MUAHAHAHAHAHAHAHAHAHAHAHAHAHAHAHAHAHAHA, YOU CAN'T STOP MY VANDALISM MUAHAHAHAHAHAHAHAHAHAHAHAHAHAHAHAHAHAHA, YOU CAN'T STOP MY VANDALISM MUAHAHAHAHAHAHAHAHAHAHAHAHAHAHAHAHAHAHA, YOU CAN'T STOP MY VANDALISM MUAHAHAHAHAHAHAHAHAHAHAHAHAHAHAHAHAHAHA, YOU CAN'T STOP MY VANDALISM MUAHAHAHAHAHAHAHAHAHAHAHAHAHAHAHAHAHAHA, YOU CAN'T STOP MY VANDALISM MUAHAHAHAHAHAHAHAHAHAHAHAHAHAHAHAHAHAHA, YOU CAN'T STOP MY VANDALISM MUAHAHAHAHAHAHAHAHAHAHAHAHAHAHAH   \n",
       "156158  HUGE FAGGOT HUGE FAGGOT HUGE FAGGOT HUGE FAGGOT HUGE FAGGOT HUGE FAGGOT HUGE FAGGOT HUGE FAGGOT HUGE FAGGOT HUGE FAGGOT HUGE FAGGOT HUGE FAGGOT HUGE FAGGOT HUGE FAGGOT HUGE FAGGOT HUGE FAGGOT HUGE FAGGOT HUGE FAGGOT HUGE FAGGOT HUGE FAGGOT HUGE FAGGOT HUGE FAGGOT HUGE FAGGOT HUGE FAGGOT HUGE FAGGOT HUGE FAGGOT HUGE FAGGOT HUGE FAGGOT HUGE FAGGOT HUGE FAGGOT HUGE FAGGOT HUGE FAGGOT HUGE FAGGOT HUGE FAGGOT HUGE FAGGOT HUGE FAGGOT HUGE FAGGOT HUGE FAGGOT HUGE FAGGOT HUGE FAGGOT HUGE FAGGOT HUGE FAGGOT HUGE FAGGOT HUGE FAGGOT HUGE FAGGOT HUGE FAGGOT HUGE FAGGOT HUGE FAGGOT HUGE FAGGOT HUGE FAGGOT HUGE FAGGOT HUGE FAGGOT HUGE FAGGOT HUGE FAGGOT HUGE FAGGOT HUGE FAGGOT HUGE FAGGOT HUGE FAGGOT HUGE FAGGOT HUGE FAGGOT HUGE FAGGOT HUGE FAGGOT HUGE FAGGOT HUGE FAGGOT HUGE FAGGOT HUGE FAGGOT HUGE FAGGOT HUGE FAGGOT HUGE FAGGOT HUGE FAGGOT HUGE FAGGOT HUGE FAGGOT HUGE FAGGOT HUGE FAGGOT HUGE FAGGOT HUGE FAGGOT HUGE FAGGOT HUGE FAGGOT HUGE FAGGOT HUGE FAGGOT HUGE FAGGOT HUGE FAGGOT HUGE FAGGOT HUGE FAGGOT HUGE FAGGOT HUGE FAGGOT HUGE FAGGOT HUGE FAGGOT HUGE FAGGOT HUGE FAGGOT HUGE FAGGOT HUGE FAGGOT HUGE FAGGOT HUGE FAGGOT HUGE FAGGOT HUGE FAGGOT HUGE FAGGOT HUGE FAGGOT HUGE FAGGOT HUGE FAGGOT HUGE FAGGOT HUGE FAGGOT HUGE FAGGOT HUGE FAGGOT HUGE FAGGOT HUGE FAGGOT HUGE FAGGOT HUGE FAGGOT HUGE FAGGOT HUGE FAGGOT HUGE FAGGOT HUGE FAGGOT HUGE FAGGOT HUGE FAGGOT HUGE FAGGOT HUGE FAGGOT HUGE FAGGOT HUGE FAGGOT HUGE FAGGOT HUGE FAGGOT HUGE FAGGOT HUGE FAGGOT HUGE FAGGOT HUGE FAGGOT HUGE FAGGOT HUGE FAGGOT HUGE FAGGOT HUGE FAGGOT HUGE FAGGOT HUGE FAGGOT HUGE FAGGOT HUGE FAGGOT HUGE FAGGOT HUGE FAGGOT HUGE FAGGOT HUGE FAGGOT HUGE FAGGOT HUGE FAGGOT HUGE FAGGOT HUGE FAGGOT HUGE FAGGOT HUGE FAGGOT HUGE FAGGOT HUGE FAGGOT HUGE FAGGOT HUGE FAGGOT HUGE FAGGOT HUGE FAGGOT HUGE FAGGOT HUGE FAGGOT HUGE FAGGOT HUGE FAGGOT HUGE FAGGOT HUGE FAGGOT HUGE FAGGOT HUGE FAGGOT HUGE FAGGOT HUGE FAGGOT HUGE FAGGOT HUGE FAGGOT HUGE FAGGOT HUGE FAGGOT HUGE FAGGOT HUGE FAGGOT HUGE FAGGOT HUGE FAGGOT HUGE FAGGOT HUGE FAGGOT HUGE FAGGOT HUGE FAGGOT HUGE FAGGOT HUGE FAGGOT HUGE FAGGOT HUGE FAGGOT HUGE FAGGOT HUGE FAGGOT HUGE FAGGOT HUGE FAGGOT HUGE FAGGOT HUGE FAGGOT HUGE FAGGOT HUGE FAGGOT HUGE FAGGOT HUGE FAGGOT HUGE FAGGOT HUGE FAGGOT HUGE FAGGOT HUGE FAGGOT HUGE FAGGOT HUGE FAGGOT HUGE FAGGOT HUGE FAGGOT HUGE FAGGOT HUGE FAGGOT HUGE FAGGOT HUGE FAGGOT HUGE FAGGOT HUGE FAGGOT HUGE FAGGOT HUGE FAGGOT HUGE FAGGOT HUGE FAGGOT HUGE FAGGOT HUGE FAGGOT HUGE FAGGOT HUGE FAGGOT HUGE FAGGOT HUGE FAGGOT HUGE FAGGOT HUGE FAGGOT HUGE FAGGOT HUGE FAGGOT HUGE FAGGOT HUGE FAGGOT HUGE FAGGOT HUGE FAGGOT HUGE FAGGOT HUGE FAGGOT HUGE FAGGOT HUGE FAGGOT HUGE FAGGOT HUGE FAGGOT HUGE FAGGOT HUGE FAGGOT HUGE FAGGOT HUGE FAGGOT HUGE FAGGOT HUGE FAGGOT HUGE FAGGOT HUGE FAGGOT HUGE FAGGOT HUGE FAGGOT HUGE FAGGOT HUGE FAGGOT HUGE FAGGOT HUGE FAGGOT HUGE FAGGOT HUGE FAGGOT HUGE FAGGOT HUGE FAGGOT HUGE FAGGOT HUGE FAGGOT HUGE FAGGOT HUGE FAGGOT HUGE FAGGOT HUGE FAGGOT HUGE FAGGOT HUGE FAGGOT HUGE FAGGOT HUGE FAGGOT HUGE FAGGOT HUGE FAGGOT HUGE FAGGOT HUGE FAGGOT HUGE FAGGOT HUGE FAGGOT HUGE FAGGOT HUGE FAGGOT HUGE FAGGOT HUGE FAGGOT HUGE FAGGOT HUGE FAGGOT HUGE FAGGOT HUGE FAGGOT HUGE FAGGOT HUGE FAGGOT HUGE FAGGOT HUGE FAGGOT HUGE FAGGOT HUGE FAGGOT HUGE FAGGOT HUGE FAGGOT HUGE FAGGOT HUGE FAGGOT HUGE FAGGOT HUGE FAGGOT HUGE FAGGOT HUGE FAGGOT HUGE FAGGOT HUGE FAGGOT HUGE FAGGOT HUGE FAGGOT HUGE FAGGOT HUGE FAGGOT HUGE FAGGOT HUGE FAGGOT HUGE FAGGOT HUGE FAGGOT HUGE FAGGOT HUGE FAGGOT HUGE FAGGOT HUGE FAGGOT HUGE FAGGOT HUGE FAGGOT HUGE FAGGOT HUGE FAGGOT HUGE FAGGOT HUGE FAGGOT HUGE FAGGOT HUGE FAGGOT HUGE FAGGOT HUGE FAGGOT HUGE FAGGOT HUGE FAGGOT HUGE FAGGOT HUGE FAGGOT HUGE FAGGOT HUGE FAGGOT HUGE FAGGOT HUGE FAGGOT HUGE FAGGOT HUGE FAGGOT HUGE FAGGOT HUGE FAGGOT HUGE FAGGOT HUGE FAGGOT HUGE FAGGOT HUGE FAGGOT HUGE FAGGOT HUGE FAGGOT HUGE FAGGOT HUGE FAGGOT HUGE FAGGOT HUGE FAGGOT HUGE FAGGOT HUGE FAGGOT HUGE FAGGOT HUGE FAGGOT HUGE FAGGOT HUGE FAGGOT HUGE FAGGOT HUGE FAGGOT HUGE FAGGOT HUGE FAGGOT HUGE FAGGOT HUGE FAGGOT HUGE FAGGOT HUGE FAGGOT HUGE FAGGOT HUGE FAGGOT HUGE FAGGOT HUGE FAGGOT HUGE FAGGOT HUGE FAGGOT HUGE FAGGOT HUGE FAGGOT HUGE FAGGOT HUGE FAGGOT HUGE FAGGOT HUGE FAGGOT HUGE FAGGOT HUGE FAGGOT HUGE FAGGOT HUGE FAGGOT HUGE FAGGOT HUGE FAGGOT HUGE FAGGOT HUGE FAGGOT HUGE FAGGOT HUGE FAGGOT HUGE FAGGOT HUGE FAGGOT HUGE FAGGOT HUGE FAGGOT HUGE FAGGOT HUGE FAGGOT HUGE FAGGOT HUGE FAGGOT HUGE FAGGOT HUGE FAGGOT HUGE FAGGOT HUGE FAGGOT HUGE FAGGOT HUGE FAGGOT HUGE FAGGOT HUGE FAGGOT HUGE FAGGOT HUGE FAGGOT HUGE FAGGOT HUGE FAGGOT HUGE FAGGOT HUGE FAGGOT HUGE FAGGOT HUGE FAGGOT HUGE FAGGOT HUGE FAGGOT HUGE FAGGOT HUGE FAGGOT HUGE FAGGOT HUGE FAGGOT HUGE FAGGOT HUGE FAGGOT HUGE FAGGOT HUGE FAGGOT HUGE FAGGOT HUGE FAGGOT HUGE FAGGOT HUGE FAGGOT HUGE FAGGOT HUGE FAGGOT HUGE FAGGOT HUGE FAGGOT HUGE FAGGOT HUGE FAGGOT HUGE FAGGOT HUGE FAGGOT HUGE FAGGOT HUGE FAGGOT HUGE FAGGOT HUGE FAGGOT HUGE FAGGOT HUGE FAGGOT HUGE FAGGOT HUGE FAGGOT HUGE FAGGOT HUGE FAGGOT HUGE FAG   \n",
       "72066   China smells like fart. China smells like fart.China smells like fart.China smells like fart.China smells like fart.China smells like fart.China smells like fart.China smells like fart.China smells like fart.China smells like fart.China smells like fart.China smells like fart.China smells like fart.China smells like fart.China smells like fart.China smells like fart.China smells like fart.China smells like fart.China smells like fart.China smells like fart.China smells like fart.China smells like fart.China smells like fart.China smells like fart.China smells like fart.China smells like fart.China smells like fart.China smells like fart.China smells like fart.China smells like fart.China smells like fart.China smells like fart.China smells like fart.China smells like fart.China smells like fart.China smells like fart.China smells like fart.China smells like fart.China smells like fart.China smells like fart.China smells like fart.China smells like fart.China smells like fart.China smells like fart.China smells like fart.China smells like fart.China smells like fart.China smells like fart.China smells like fart.China smells like fart.China smells like fart.China smells like fart.China smells like fart.China smells like fart.China smells like fart.China smells like fart.China smells like fart.China smells like fart.China smells like fart.China smells like fart.China smells like fart.China smells like fart.China smells like fart.China smells like fart.China smells like fart.China smells like fart.China smells like fart.China smells like fart.China smells like fart.China smells like fart.China smells like fart.China smells like fart.China smells like fart.China smells like fart.China smells like fart.China smells like fart.China smells like fart.China smells like fart.China smells like fart.China smells like fart.China smells like fart.China smells like fart.China smells like fart.China smells like fart.China smells like fart.China smells like fart.China smells like fart.China smells like fart.China smells like fart.China smells like fart.China smells like fart.China smells like fart.China smells like fart.China smells like fart.China smells like fart.China smells like fart.China smells like fart.China smells like fart.China smells like fart.China smells like fart.China smells like fart.China smells like fart.China smells like fart.China smells like fart.China smells like fart.China smells like fart.China smells like fart.China smells like fart.China smells like fart.China smells like fart.China smells like fart.China smells like fart.China smells like fart.China smells like fart.China smells like fart.China smells like fart.China smells like fart.China smells like fart.China smells like fart.China smells like fart.China smells like fart.China smells like fart.China smells like fart.China smells like fart.China smells like fart.China smells like fart.China smells like fart.China smells like fart.China smells like fart.China smells like fart.China smells like fart.China smells like fart.China smells like fart.China smells like fart.China smells like fart.China smells like fart.China smells like fart.China smells like fart.China smells like fart.China smells like fart.China smells like fart.China smells like fart.China smells like fart.China smells like fart.China smells like fart.China smells like fart.China smells like fart.China smells like fart.China smells like fart.China smells like fart.China smells like fart.China smells like fart.China smells like fart.China smells like fart.China smells like fart.China smells like fart.China smells like fart.China smells like fart.China smells like fart.China smells like fart.China smells like fart.China smells like fart.China smells like fart.China smells like fart.China smells like fart.China smells like fart.China smells like fart.China smells like fart.China smells like fart.China smells like fart.China smells like fart.China smells like fart.China smells like fart.China smells like fart.China smells like fart.China smells like fart.China smells like fart.China smells like fart.China smells like fart.China smells like fart.China smells like fart.China smells like fart.China smells like fart.China smells like fart.China smells like fart.China smells like fart.China smells like fart.China smells like fart.China smells like fart.China smells like fart.China smells like fart.China smells like fart.China smells like fart.China smells like fart.China smells like fart.China smells like fart.China smells like fart.China smells like fart.China smells like fart.China smells like fart.China smells like fart.China smells like fart.China smells like fart.China smells like fart.China smells like fart.China smells like fart.China smells like fart.China smells like fart.China smells like fart.China smells like fart.China smells like fart.China smells like fart.China smells like fart.China smells like fart.China smells like fart.China smells like fart.China smells like fart.China sm   \n",
       "\n",
       "        toxic   len  \n",
       "12869       1  5000  \n",
       "123354      1  5000  \n",
       "82496       1  5000  \n",
       "156158      1  5000  \n",
       "72066       1  5000  "
      ]
     },
     "execution_count": 13,
     "metadata": {},
     "output_type": "execute_result"
    }
   ],
   "source": [
    "#Выведем самые длинные комментарии\n",
    "data_ml.sort_values(by='len').tail()"
   ]
  },
  {
   "cell_type": "markdown",
   "metadata": {},
   "source": [
    "Видим, что длина самых длинных комментариев ограничена 5000 знаков. Также стоит обратить внимание, что текст послания не большой, но дублируется много раз."
   ]
  },
  {
   "cell_type": "code",
   "execution_count": 14,
   "metadata": {},
   "outputs": [
    {
     "data": {
      "text/html": [
       "<div>\n",
       "<style scoped>\n",
       "    .dataframe tbody tr th:only-of-type {\n",
       "        vertical-align: middle;\n",
       "    }\n",
       "\n",
       "    .dataframe tbody tr th {\n",
       "        vertical-align: top;\n",
       "    }\n",
       "\n",
       "    .dataframe thead th {\n",
       "        text-align: right;\n",
       "    }\n",
       "</style>\n",
       "<table border=\"1\" class=\"dataframe\">\n",
       "  <thead>\n",
       "    <tr style=\"text-align: right;\">\n",
       "      <th></th>\n",
       "      <th>text</th>\n",
       "      <th>toxic</th>\n",
       "      <th>len</th>\n",
       "    </tr>\n",
       "  </thead>\n",
       "  <tbody>\n",
       "    <tr>\n",
       "      <th>119018</th>\n",
       "      <td>\"\"\"</td>\n",
       "      <td>1</td>\n",
       "      <td>5</td>\n",
       "    </tr>\n",
       "    <tr>\n",
       "      <th>137400</th>\n",
       "      <td>== \"\"\"</td>\n",
       "      <td>0</td>\n",
       "      <td>6</td>\n",
       "    </tr>\n",
       "    <tr>\n",
       "      <th>52336</th>\n",
       "      <td>14:53,</td>\n",
       "      <td>0</td>\n",
       "      <td>6</td>\n",
       "    </tr>\n",
       "    <tr>\n",
       "      <th>136820</th>\n",
       "      <td>~ J.Lo</td>\n",
       "      <td>0</td>\n",
       "      <td>6</td>\n",
       "    </tr>\n",
       "    <tr>\n",
       "      <th>15432</th>\n",
       "      <td>Howdy!\"</td>\n",
       "      <td>0</td>\n",
       "      <td>7</td>\n",
       "    </tr>\n",
       "    <tr>\n",
       "      <th>120868</th>\n",
       "      <td>you suck</td>\n",
       "      <td>1</td>\n",
       "      <td>8</td>\n",
       "    </tr>\n",
       "    <tr>\n",
       "      <th>109794</th>\n",
       "      <td>{{unbloc</td>\n",
       "      <td>0</td>\n",
       "      <td>8</td>\n",
       "    </tr>\n",
       "    <tr>\n",
       "      <th>118650</th>\n",
       "      <td>FUCK YOU</td>\n",
       "      <td>1</td>\n",
       "      <td>8</td>\n",
       "    </tr>\n",
       "    <tr>\n",
       "      <th>150648</th>\n",
       "      <td>04:59, 22 Au</td>\n",
       "      <td>0</td>\n",
       "      <td>12</td>\n",
       "    </tr>\n",
       "    <tr>\n",
       "      <th>93421</th>\n",
       "      <td>{{unblock|yo</td>\n",
       "      <td>0</td>\n",
       "      <td>12</td>\n",
       "    </tr>\n",
       "    <tr>\n",
       "      <th>101306</th>\n",
       "      <td>GONE FISHING.</td>\n",
       "      <td>0</td>\n",
       "      <td>13</td>\n",
       "    </tr>\n",
       "    <tr>\n",
       "      <th>38743</th>\n",
       "      <td>88.104.31.21\"</td>\n",
       "      <td>0</td>\n",
       "      <td>13</td>\n",
       "    </tr>\n",
       "    <tr>\n",
       "      <th>10193</th>\n",
       "      <td>64.86.141.133\"</td>\n",
       "      <td>0</td>\n",
       "      <td>14</td>\n",
       "    </tr>\n",
       "    <tr>\n",
       "      <th>100520</th>\n",
       "      <td>hello cow head</td>\n",
       "      <td>1</td>\n",
       "      <td>14</td>\n",
       "    </tr>\n",
       "    <tr>\n",
       "      <th>141644</th>\n",
       "      <td>Unblock Please</td>\n",
       "      <td>0</td>\n",
       "      <td>14</td>\n",
       "    </tr>\n",
       "  </tbody>\n",
       "</table>\n",
       "</div>"
      ],
      "text/plain": [
       "                  text  toxic  len\n",
       "119018             \"\"\"      1    5\n",
       "137400          == \"\"\"      0    6\n",
       "52336           14:53,      0    6\n",
       "136820          ~ J.Lo      0    6\n",
       "15432          Howdy!\"      0    7\n",
       "120868        you suck      1    8\n",
       "109794        {{unbloc      0    8\n",
       "118650        FUCK YOU      1    8\n",
       "150648    04:59, 22 Au      0   12\n",
       "93421     {{unblock|yo      0   12\n",
       "101306   GONE FISHING.      0   13\n",
       "38743    88.104.31.21\"      0   13\n",
       "10193   64.86.141.133\"      0   14\n",
       "100520  hello cow head      1   14\n",
       "141644  Unblock Please      0   14"
      ]
     },
     "execution_count": 14,
     "metadata": {},
     "output_type": "execute_result"
    }
   ],
   "source": [
    "#Выведем самые короткие комментарии\n",
    "data_ml.sort_values(by='len').head(15)"
   ]
  },
  {
   "cell_type": "markdown",
   "metadata": {},
   "source": [
    "Видим, что комментарии менее 6 символов неинформативны"
   ]
  },
  {
   "cell_type": "code",
   "execution_count": 15,
   "metadata": {},
   "outputs": [
    {
     "name": "stderr",
     "output_type": "stream",
     "text": [
      "/opt/conda/lib/python3.9/site-packages/seaborn/_decorators.py:36: FutureWarning: Pass the following variable as a keyword arg: x. From version 0.12, the only valid positional argument will be `data`, and passing other arguments without an explicit keyword will result in an error or misinterpretation.\n",
      "  warnings.warn(\n"
     ]
    },
    {
     "data": {
      "image/png": "[encoded data removed]",
      "text/plain": [
       "<Figure size 1080x720 with 2 Axes>"
      ]
     },
     "metadata": {
      "needs_background": "light"
     },
     "output_type": "display_data"
    }
   ],
   "source": [
    "# Построим графики распределения признака len\n",
    "fig, ax = plt.subplots(nrows=2, ncols=1)\n",
    "fig.suptitle(f'Обзор данных длина строки', fontsize = 20, fontweight='bold')\n",
    "    \n",
    "data_ml['len'].plot(ax=ax[0], kind='hist')\n",
    "     \n",
    "sns.boxplot(data_ml['len'], ax=ax[1])\n",
    "    \n",
    "ax[0].set_title('Гистограмма')\n",
    "ax[0].set_xlabel('Длина строки')\n",
    "ax[0].set_ylabel('Количество комментариев')\n",
    "\n",
    "    \n",
    "ax[1].set_title('Диграмма размаха')\n",
    "ax[1].set_xlabel('Длина строки')\n",
    "ax[1].set_ylabel('Количество комментариев')\n",
    "\n",
    "plt.show()"
   ]
  },
  {
   "cell_type": "code",
   "execution_count": 16,
   "metadata": {},
   "outputs": [
    {
     "name": "stdout",
     "output_type": "stream",
     "text": [
      "Количество выбросов, составляет: 13324\n",
      "Доля выбросов, составляет: 0.08\n"
     ]
    }
   ],
   "source": [
    "#Процент выбросов в столбце длина строки\n",
    "print('Количество выбросов, составляет:', data_ml[data_ml['len'] > 1000].shape[0])\n",
    "print('Доля выбросов, составляет:', round(data_ml[data_ml['len'] > 1000].shape[0]/data_ml.shape[0], 2))"
   ]
  },
  {
   "cell_type": "markdown",
   "metadata": {},
   "source": [
    "Длина комментария выше 1000 знаков реалистична по значению, поэтому считать выбросами данные комментарии мы не можем. Посмотрим сколько комментариев длиною 5000 символов."
   ]
  },
  {
   "cell_type": "code",
   "execution_count": 17,
   "metadata": {},
   "outputs": [
    {
     "name": "stdout",
     "output_type": "stream",
     "text": [
      "Количество выбросов, составляет: 42\n",
      "Доля выбросов, составляет: 0.0003\n"
     ]
    }
   ],
   "source": [
    "#Процент выбросов (количество символов равно 5000 знаков) в столбце длина строки\n",
    "print('Количество выбросов, составляет:', data_ml[data_ml['len'] == 5000].shape[0])\n",
    "print('Доля выбросов, составляет:', round(data_ml[data_ml['len'] == 5000].shape[0]/data_ml.shape[0], 4))"
   ]
  },
  {
   "cell_type": "code",
   "execution_count": 18,
   "metadata": {},
   "outputs": [
    {
     "name": "stdout",
     "output_type": "stream",
     "text": [
      "Количество выбросов, составляет: 638\n",
      "Доля выбросов, составляет: 0.004\n"
     ]
    }
   ],
   "source": [
    "#Процент выбросов (более 4500) в столбце длина строки\n",
    "print('Количество выбросов, составляет:', data_ml[data_ml['len'] > 4500].shape[0])\n",
    "print('Доля выбросов, составляет:', round(data_ml[data_ml['len'] > 4500].shape[0]/data_ml.shape[0], 4))"
   ]
  },
  {
   "cell_type": "code",
   "execution_count": 19,
   "metadata": {},
   "outputs": [
    {
     "data": {
      "text/html": [
       "<div>\n",
       "<style scoped>\n",
       "    .dataframe tbody tr th:only-of-type {\n",
       "        vertical-align: middle;\n",
       "    }\n",
       "\n",
       "    .dataframe tbody tr th {\n",
       "        vertical-align: top;\n",
       "    }\n",
       "\n",
       "    .dataframe thead th {\n",
       "        text-align: right;\n",
       "    }\n",
       "</style>\n",
       "<table border=\"1\" class=\"dataframe\">\n",
       "  <thead>\n",
       "    <tr style=\"text-align: right;\">\n",
       "      <th></th>\n",
       "      <th>text</th>\n",
       "      <th>toxic</th>\n",
       "      <th>len</th>\n",
       "    </tr>\n",
       "  </thead>\n",
       "  <tbody>\n",
       "    <tr>\n",
       "      <th>11166</th>\n",
       "      <td>\"I had nearly moved on when I felt completely compelled to comment on this statement \"\"probably better than most clan websites, which tend to be based on long outdated stuff from the 19th century. Then I do not see a problem in using it until a better source can be found. Especially to make amends to the masses of unsourced information that is found on so many of the individual clan articles\"\". I can only interpet this as something is probably better because it is newer?? This makes no sense to me. History is what it is, it should not change for the sake of change. If it was accurate over 600 years ago, it is just as accurate today. Again, if something is true and accurate hundreds or even thousands of years ago, it is not and should not be subject to change because someone decides to re-write it for either personal gain or an agenda. That is exactly what has happened with the origins for many Highland Clans. For any that might be interested, William Skene's and John Murray's collaboration of The Highlanders of Scotland: Their Origin, History and Antiquities is a wonderful and refreshing read. This is more than likely the truest accounting for several of the Highland Clans. It asserts that many of the origin claims put forth in more recent times are attempts to gain a foothold on the Chieftainship, by usurping the rightful lines. You'll find that cadet septs used this technique to basically try to re-write history for their own selfish gain. You'd have to read the book to see how this played out but as I said before, nearly ALL of the Highland Clans being \"\"bastardized\"\" as Norman/Anglo-Horman/Flemish, etc. are really Dalriadan and Pictish mixes. Examples would be Campbell, Cameron, Grant, Davidson, Wallace, etc. I of course have distant YDNA connections to ALL of these surnames, but I know no one wants to hear about that as any sort of evidence. I'll admit not one of these surnames or clans has a pure lineage, but they all have a lineage going back to the Picts and Gaels. I am of that lineage, which is quite rare and continues to be established. The masses are not of that lineage, they are a mix if R1A1, other R1B haplotypes, the I haplotypes, etc. I will be the first to admit there may be hundreds of families, not even related through a shared male ancestor, sharing a surname or Clan. My concern is with the origins only, and the original Chiefly lines. And please don't tell me how we are a mix of so much dna, I am only referring to YDNA, the male lines. I am not talking about MTDNA nor Autosomal. What I don't understand is why when there is so much sourced information out there, some editors choose only to use factually inaccurate \"\"sourced\"\" information. There is substantial \"\"factually accurate\"\" sourced information out there however it is not my intent, to correct these erroneous articles or to present an \"\"opposing view\"\". There is no opposing view, there is either the truth, or their are lies. Either the Celtic version is correct, or the Comyn version is correct, or neither is correct. There can't factually be multiple versions of an origin, it is what it is and there is only one true origin. This is not a contest to see who can provide more recent sources. I would hope wikipedia would want the truth out there, and not contests of who can out edit who, which is what wikipedia appears to be. There, my case is presented to the message and not a specific messenger. Clan Davidson is Celtic, it descended from Celts and it has no connection to the Comyn family. It did not descend from a Comyn male. They came from a very ancient Gaelic ancestor, an ancestor shared by several Highland Clans, before surnames even were in use. One other greatly incorrect update to this site was the battle alleged between the Davidson's and the MacPherson's....this never happened. The battle was between the Clans fighting for the Chief of the Clan Chattan, the battle was fought between the Mackintoshs and the MacPhersons.The MacPhersons were the true chiefly line, but were \"\"out-documented\"\" by the usurping Mackintosh. This is pretty much exactly what is happening here, on this very page. I hope someone else has more time and energy to properly update this page with the correct information and let's bury the lies and factually inaccurate information comprising most of this article. It was originally much more factually accurate, but over the course of time has been corrupted with sourced information that is not also factually accurate.\\n\\n\"</td>\n",
       "      <td>0</td>\n",
       "      <td>4501</td>\n",
       "    </tr>\n",
       "    <tr>\n",
       "      <th>61371</th>\n",
       "      <td>\"HERE IS MY POINT:  TODAY'S NEW YORK DAILY NEWS, MAR 15, 08\\n\\nTOM BROKAW A ROGUE ON WACHY-PEDIA\\n\\nSunday, March 15th 2009, 4:00 AM\\n\\nJacobs/Getty\\nDebate moderator Tom Brokaw talks prior to the Town Hall Presidential Debate at Belmont University's Curb Event Center.\\nRelated News\\nARTICLES\\nCelebrity side dish: John Malkovich brushes Bernie Madoff off of his shoulders\\nTom Hanks' films are helping us 'Buck' up through tough times\\nHe’s one of journalism’s most beloved and respected men, but someone appears to have it in for Tom Brokaw. \\nLook up the former NBC News anchor on Wikipedia and you’ll find a review of his Emmy-winning reports, his best-selling books, his 20 honorary degrees. Until recently, you also would have found this sentence: \\n“He had been married to Meredith Lynn Auld (a former Miss South Dakota and author) from 1962 until 2007, when an alleged affair between Brokaw and Diane Sawyer ended their marriage.”\\nThe Brokaws’ marriage is very much intact (a Google image search shows them arm in arm at events throughout 2008 and 2009). Likewise, ABC News’ Sawyer remains happily married to director Mike Nichols.\\nA rep for Brokaw said he “burst out laughing” when he heard about the supposed affair. Contacted in the arctic reaches of Finland, Sawyer sent back word through her rep that, “as cute as Tom is, she laughed so hard she nearly fell off the icebreaker she’s traveling on.”\\nThe purported affair, anonymously added to Brokaw’s bio on Feb. 27, was deleted after five days. Wikipedia Foundation spokesman Jay Walsh tells us the post “would constitute a ‘vandal edit’” but doubted the vandal could be found.\\n“It’s an open system,” says Walsh. “People may use it to exert their views. But the biographies of living people are most scrutinized by our volunteer editors. It’s incumbent on the Wikipedia Foundation to make sure they’re accurate.”\\nWalsh surmised that “someone with some agenda” was behind the post. Or maybe there’s more than one person. Clicking on the discussion page of Brokaw’s bio reveals attempts to slip in digs about his accent and personality. Wiki watchdogs rejected the insults, though not the unflattering picture of the newsman, which reminded one reader of “Clint Eastwood saying, ‘Do you feel lucky, punk?’ ”\\nThe effort to smear Brokaw recalls the anonymous Wiki attack in 2005 on former assistant attorney general John Seigenthaler Sr., who, it was falsely claimed, masterminded the assassinations of both John and Bobby Kennedy.\\nBrokaw isn’t the only newsman targeted by Wiki vandals. “Some of our correspondents have stalkers who constantly post falsehoods,” says a source at another network news department. “We’ve had Wikipedia block posts from repeat offenders.”\\nBut the unflappable Brokaw isn’t calling for any investigations. Through his rep he said, “This is beneath comment.”\\n\\nPrevious Page Next Page 123\\nADS BY YAHOO!\\nMake $5000 Per Month\\nRead How I Earn over $5000/Month Putting Links into Google.\\n(www.RichardsMoneyBlog.com)\\nClint Eastwood Diet\\nI lost 30 lbs by following the 1 diet rule Clint Eastwood uses.\\n(www.mycelebdietblog.info)\\nClint Eastwood Gossip, Photos, and News\\nSecret Clint Eastwood Photos, Gossip, News, and More.\\n(secrethollywoodgossip.com)\\nEMAIL\\nPRINT\\nRSS\\nShare\\nYahoo! Buzz\\nDigg\\nStumbleUpon\\nSEE ALL SHARE LINKS &gt;&gt;\\nDiscuss this Article\\n0 comments\\n[See All Comments]\\n[Discussion Guidelines]\\nTo post comments, REGISTER or LOG IN\\nClick Here to see all comments or to Report Abuse\\nDISCUSS\\nEMAIL\\nPRINT\\nSHARE\\nTom Brokaw a rogue on wacky-pedia\\nTom Hanks' films are helping us 'Buck' up through tough times\\nCelebrity side dish: John Malkovich brushes Bernie Madoff off of his shoulders\\nView all on one page\\nRelated Articles\\nRelated Topics\\nWNBC goes digital in big news update\\nThe Closer\\nBrokaw's swath team cuts across America\\nInner Tube: Montel heading to Air America\\nToday's Top Picks\\n\\nVideo: Chaos at 'Top Model' audition\\nPandemonium erupted outside of an \"\"America's Next Top Model\"\" casting call in midtown Saturday.\\n \\nWarrant issued for Lohan's arrest\\nStarlet Lindsay Lohan is wanted by police over a two-year-old drunken driving arrest.\\n \\nWhat Bernie and Ruth made off with\\nCourt papers filed Friday reveal Bernie is worth $826 million, and show just how high on the hog he and his wife lived.\\n \\nDid they duet or not?\\nReports of the supposed duet between Chris Brown and Rihanna are being called false.\\n \\nFrom 'Slumdog' to Bond girl?\\n\"\"Slumdog Millionaire\"\" star Freida Pinto could be taking on a sexy new role: Bond girl.\\nNEWLI</td>\n",
       "      <td>0</td>\n",
       "      <td>4504</td>\n",
       "    </tr>\n",
       "    <tr>\n",
       "      <th>137641</th>\n",
       "      <td>\", but you should read the guide to appealing blocks first.\\nMaterialscientist (talk) \\nAn admin can block you again now that you've continued to make the very same contentious edit that got you blocked initially. If you continue to make that addition, which multiple editors have removed, and if you continue to refuse to discuss the issue on the article's talk page, this is fair warning that I will notify the above admin of your end-run disruptive editing. Tenebrae (talk) \\nCivility warning I\\n\\nWhile we all offer edits which tend to improve the article, you need to exercise better caution in your edit summaries. [This] is not an example of civility; calling child is a fairly certain way to ensure your edits are met in the harshest possible light. In other words, knock off the bullshit sarcasm, or you won't like the ensuing discussion. - Jack Sebastian (talk) \\nAllow me to be somewhat more clear: the next uncivil remark you make in an edit summary will find you taking a somewhat longer break than your previous block. We tend to block people for that sort of behavior. Consider my previous comment a request; consider this one a warning. - Jack Sebastian (talk) \\nJuly 2012\\n\\nThe edits you have been reverting have not been made in bad faith, so they are not vandalism. You should also mind WP:3RR and your attitude. Someguy1221 (talk) \\nYour recent edits\\n\\nInformation.svg Hello. In case you didn't know, when you add content to talk pages and Wikipedia pages that have open discussion, you should sign your posts by typing four tildes (    ) at the end of your comment. You could also click on the signature button Insert-signature.png or Button sig.png located above the edit window. This will automatically insert a signature with your username or IP address and the time you posted the comment. This information is useful because other editors will be able to tell who said what, and when they said it. Thank you. SineBot (talk) \\n Please stop attacking other editors, as you did on Juno Temple. If you continue, you may be blocked from editing Wikipedia. Your last edit summary referred to numerous editors on Juno Temple as morons. This is unacceptable and I noticed you have been warned for civility previously. If you believe the other editors are acting improperly, then report them to the appropriate Wikipedia noticeboard. If it is a content dispute, please work it out on the talk page. Thanks. Safiel (talk) \\nFurther comment on article Juno Temple\\nIn your edit summaries, you indicate that you are relying on IMDB as a reliable source. Please read the following brief guideline at WP:IMDB. As a user edited resource, IMDB is not considered a reliable source for making material edits to an article. However, it is ok to make an external link from an article to an IMDB article. I am not taking sides as to whether you or the other editors are correct as to the dispute on Juno Temple, but IMDB is not an acceptable source for making your argument. Thanks. Safiel (talk) \\nDisambiguation link notification for January 7\\n\\nHi. Thank you for your recent edits. Wikipedia appreciates your help. We noticed though that when you edited Littleton, Colorado, you added a link pointing to the disambiguation page Glee (check to confirm | fix with Dab solver). Such links are almost always unintended, since a disambiguation page is merely a list of \"\"Did you mean...\"\" article titles. Read the FAQ • Join us at the DPL WikiProject.\\nIt's OK to remove this message. Also, to stop receiving these messages, follow these opt-out instructions. Thanks, DPL bot (talk) \\nAugust 2014\\n\\nInformation icon Hello, I'm STATicVapor. I noticed that you recently removed some content from Scooby-Doo! WrestleMania Mystery without explaining why. In the future, it would be helpful to others if you described your changes to Wikipedia with an accurate edit summary. If this was a mistake, don't worry; I restored the removed content. If you would like to experiment, please use the sandbox. If you think I made a mistake, or if you have any questions, you can leave me a message on my talk page. Thanks! STATic message me! \\nFile:Orologio rosso or File:Orologio verde DOT SVG (red clock or green clock icon, from Wikimedia Commons)This blocked user's unblock request has been reviewed by an administrator, who declined the request. Other administrators may also review this block, but should not override the decision without good reason (see the blocking policy). Do not remove this unblock review while you are blocked.</td>\n",
       "      <td>0</td>\n",
       "      <td>4508</td>\n",
       "    </tr>\n",
       "    <tr>\n",
       "      <th>114808</th>\n",
       "      <td>I AM REALLY UPSET with his deletion nominations!!!!   \\n\\n Sorry, but you are an asshole \\n\\nThis is very insane to delete an article like this.\\n\\n You are asshole master of deletions \\n 22:18, 17 March 2013 (diff | hist) . . (+685)‎ . . User talk:PatGallacher ‎ (Notifying author of deletion nomination for Patricia Walsh) (current)\\n 22:18, 17 March 2013 (diff | hist) . . (+299)‎ . . Patricia Walsh ‎ (Nominated page for deletion using Page Curation (subst:blp-prod))\\n 22:11, 17 March 2013 (diff | hist) . . (+184)‎ . . Wikipedia:Administrator intervention against vandalism ‎ (Reporting Novaranist. (TW))\\n 22:10, 17 March 2013 (diff | hist) . . (-33)‎ . . m Hans Kohala ‎ (Reverted 1 edit by Novaranist (talk) to last revision by Severo. (TW)) (current)\\n 22:08, 17 March 2013 (diff | hist) . . (-82)‎ . . Most Extreme Airports ‎ (current)\\n 22:04, 17 March 2013 (diff | hist) . . (+861)‎ . . N User talk:Matt8600 ‎ (Notifying author of deletion nomination for Iustin beldie)\\n 22:03, 17 March 2013 (diff | hist) . . (+678)‎ . . N User talk:Timostaurus ‎ (Notifying author of deletion nomination for Scott Wornow)\\n 22:01, 17 March 2013 (diff | hist) . . (+829)‎ . . N User talk:Mason Decker1 ‎ (Notifying author of deletion nomination for Mario Kart/Characters) (current)\\n 21:58, 17 March 2013 (diff | hist) . . (+877)‎ . . N User talk:Nathanielpopoca ‎ (Notifying author of deletion nomination for Nathaniel Popoca)\\n 21:57, 17 March 2013 (diff | hist) . . (+865)‎ . . N User talk:Iustin444 ‎ (Notifying author of deletion nomination for Matei Berceanu) (current)\\n 21:56, 17 March 2013 (diff | hist) . . (+417)‎ . . User talk:Novaranist ‎ (Only warning: Vandalism. (TW))\\n 21:54, 17 March 2013 (diff | hist) . . (+858)‎ . . N User talk:Zachlyda ‎ (Notifying author of deletion nomination for Zachary Lyda) (current)\\n 21:53, 17 March 2013 (diff | hist) . . (+836)‎ . . N User talk:Novaranist ‎ (Notifying author of deletion nomination for Pornography in North Korea)\\n 21:49, 17 March 2013 (diff | hist) . . (+8)‎ . . User:Tentinator/Articles Created ‎ (current)\\n 21:48, 17 March 2013 (diff | hist) . . (+143)‎ . . N User:Tentinator/Articles Created ‎ (←Created page with 'This is a list of all the articles that I've created. First Catilinarian Conspiracy Second Catilinarian Conspiracy In Toga Candida')\\n 21:35, 17 March 2013 (diff | hist) . . (+861)‎ . . N User talk:Jaylentable ‎ (Notifying author of deletion nomination for Beautybaby44) (current)\\n 20:12, 17 March 2013 (diff | hist) . . (+883)‎ . . N User talk:Conservationscience ‎ (Notifying author of deletion nomination for Conservation evidence) (current)\\n 20:12, 17 March 2013 (diff | hist) . . (+844)‎ . . N User talk:Prasadaman ‎ (Notifying author of deletion nomination for Aman prasad) (current)\\n 20:11, 17 March 2013 (diff | hist) . . (+1,737)‎ . . User talk:Liberalufp ‎ (Notification: speedy deletion nomination of Word windowism. (TW))\\n 16:38, 17 March 2013 (diff | hist) . . (+788)‎ . . N User talk:Lunedeep ‎ (Notifying author of deletion nomination for Lune deep)\\n 16:16, 17 March 2013 (diff | hist) . . (+830)‎ . . User talk:Blackiedog ‎ (Notifying author of deletion nomination for List of King Kongs)\\n 15:58, 17 March 2013 (diff | hist) . . (+917)‎ . . N User talk:Giovz17 ‎ (Notifying author of deletion nomination for Special/wiki/Special:Preferences) (current)\\n 15:57, 17 March 2013 (diff | hist) . . (+838)‎ . . N User talk:Jarmanpreet Sandhu ‎ (Notifying author of deletion nomination for Jarmanpreet sandhu) (current)\\n 11:31, 17 March 2013 (diff | hist) . . (+886)‎ . . N User talk:Rpriykant ‎ (Notifying author of deletion nomination for Moneyroot Consultancy) (current)\\n 10:53, 17 March 2013 (diff | hist) . . (+808)‎ . . N User talk:Pregish ‎ (Notifying author of deletion nomination for Pergasus Syangbo)\\n 10:36, 17 March 2013 (diff | hist) . . (+645)‎ . . N User talk:Shresthaprabhu ‎ (General note: Removal of content, blanking. (TW)) (current)\\n 10:33, 17 March 2013 (diff | hist) . . (+850)‎ . . N User talk:Espabangalore ‎ (Notifying author of deletion nomination for Elements spa) (current)\\n 10:33, 17 March 2013 (diff | hist) . . (+855)‎ . . N User talk:Jadurkupi ‎ (Notifying author of deletion nomination for Music marketing) (current)\\n 10:16, 17 March 2013 (diff | hist) . . (+700)‎ . . User talk:Jb1944 ‎ (Notifying author of deletion nomination for John Alderton (medic))\\n 10:03, 17 March 2013 (diff | hist) . . (+791)‎ . . User talk:Hikogaratashi ‎ (Notifying author of deletion nomination for Brooks kossover) (current)</td>\n",
       "      <td>1</td>\n",
       "      <td>4509</td>\n",
       "    </tr>\n",
       "    <tr>\n",
       "      <th>48154</th>\n",
       "      <td>\"states, under the direct control of the larger federal sovereign.  \\n\\nAlso, if you look at the U.S. Constitution, both the Preamble and Article II repeatedly and consistently refer to \"\"the United States of America.\"\"  From the surrounding wording, it is clear that the Founders were referring to a single legal entity and believed they were constituting such an entity.  So \"\"the United States of America\"\" is the legal name of the federal government.  There are also many sections in the United States Code which refer to \"\"the United States of America.\"\"\\n\\n 20:49, 18 Feb 2005 (UTC)\\n\\n They are referred to in both the Constitution and other documents as \"\"the United States\"\" because before 1787, they were semi-independent.  This is where the Americans clouded the definitions of state and nation that the rest of the world successfully differentiates.  The Constitution was the coming together of states that minted their own currency, engaged in trade wars with each other, refused to extradite criminals just because they happened to cross a state line, etc. into a \"\"Union\"\" hence how they became the \"\"United.\"\"  Up until the Civil War (especially in the South) is was thought that a state could easily withdraw if they didn't agree with the direction the Constitution was being torn into.  South Carolina attempted to get out in the 1830s, etc.  The Constitution of the United States of America is named as such simply because at first 13 states came together to agree to it.   This was at time when New England was thinking about leaving the Articles of Confederation and creating an entity from New York to Maine.  When sections of the American contintent west of the Appalachians were planning or trying to start their own little Republics (and some Kingdoms).  If the states hadn't come together and decided to lay down a new document for their confederation, and instead persisted after Annapolis to exist under the \"\"Articles of Confederation\"\" from 1775, most likely the union would have fallen shortly after 1800 (if not sooner) and today we would see maps with other more localized confederations of the 50 states (which who knows if there would even be 50).  Your conceptualization of inter-state relations leading up to the 1787 constitution is limited.  A few delegates getting miffed would have changed the last three centuries of world history in ways we can hardly imagine. — 21:01, 18 Feb 2005 (UTC)\\n\\nI hold a bachelor's degree in history from the most prestigious public university in the United States.  I am well-aware of all of the facts you just mentioned, especially the delicate fragility of the Union throughout its first century.  I am also familiar with all the diverse what-if scenarios.  \\n\\nI do not have all day to write on talk pages.  I did not think it was necessary to rehash the convoluted details of two centuries of American history just to explain how we got to our present pigpen of legal fictions and political realities.  But thanks for doing that for me.  \\n\\nWhen I said \"\"wording\"\" above, I was referring to the consistent use of the definite article, \"\"the,\"\" rather than the plural demonstrative adjective, \"\"these,\"\" in the Constitution.  But you did clarify something I neglected, the task of explaining why the Constitution has to refer to states which are united, as opposed to, say, \"\"the United State.\"\"\\n\\n 08:11, 19 Feb 2005 (UTC)\\n\\n Vandalism protection \\n\\nI know the vandalism is now infrequent, but is it necessary?  I don't think so since so many people watch this page anyway...  (talk) 20:31, 20 Dec 2004 (UTC)\\n\\n Republicans and religious Jews \\n\\nExcuse me.  In the \"\"Politics\"\" section, the following sentence appears:\\n\\nThe Republicans generally receive more funding and support from business groups, religious Christians and Jews, and rural Americans, while the Democratic party receives more support from labor unions and minority ethnic groups.\\n\\nIn the history,  sliced out the phrase \"\"and Jews\"\" and then  promptly reverted it.  Now, I'm a little confused.  Historically, when Jews are considered as a voting bloc, they tend to lean Democratic.  However, this analysis has always considered Jews as a single ethnic class and not separated out religious Jews from non-religious Jews.  Therefore, my question:\\n\\nDoes anyone have evidence that religious Jews tend to vote Republican (or Democratic)?\\n\\n—  21:28, 2004 Dec 30 (UTC)\\n\\n Social Issues \\n\\nI added some more information about the incarceration/prison situation in the US. Feel free to verif</td>\n",
       "      <td>0</td>\n",
       "      <td>4509</td>\n",
       "    </tr>\n",
       "    <tr>\n",
       "      <th>122987</th>\n",
       "      <td>\"ANBODY THAT RELIES ON WIKIPEDIA FOR INFORMATION IS A FOOL:\\n\\nNEW YORK DAILY NEWS, RUSH/MOLLOY  MAR 15, 09\\n\\nHOMEAUTOSREAL ESTATEJOBSCLASSIFIEDSSHOPBUY TICKETSCONTESTS\\nLOGINREGISTER\\nTAB \\nNEWSSPORTSGOSSIPGATECRASHERRUSH &amp; MOLLOYCELEBRITY PHOTOSFASHIONOSCARSENTERTAINMENTLOCALOPINIONSLIFESTYLEMONEYTECH GUIDELATINOVIDEOBLOGSAll Sections\\n\\nTom Brokaw a rogue on wacky-pedia\\nSunday, March 15th 2009, 4:00 AM\\n\\nJacobs/Getty\\nDebate moderator Tom Brokaw talks prior to the Town Hall Presidential Debate at Belmont University's Curb Event Center.\\nRelated News\\nARTICLES\\nCelebrity side dish: John Malkovich brushes Bernie Madoff off of his shoulders\\nTom Hanks' films are helping us 'Buck' up through tough times\\nHe’s one of journalism’s most beloved and respected men, but someone appears to have it in for Tom Brokaw. \\nLook up the former NBC News anchor on Wikipedia and you’ll find a review of his Emmy-winning reports, his best-selling books, his 20 honorary degrees. Until recently, you also would have found this sentence: \\n“He had been married to Meredith Lynn Auld (a former Miss South Dakota and author) from 1962 until 2007, when an alleged affair between Brokaw and Diane Sawyer ended their marriage.”\\nThe Brokaws’ marriage is very much intact (a Google image search shows them arm in arm at events throughout 2008 and 2009). Likewise, ABC News’ Sawyer remains happily married to director Mike Nichols.\\nA rep for Brokaw said he “burst out laughing” when he heard about the supposed affair. Contacted in the arctic reaches of Finland, Sawyer sent back word through her rep that, “as cute as Tom is, she laughed so hard she nearly fell off the icebreaker she’s traveling on.”\\nThe purported affair, anonymously added to Brokaw’s bio on Feb. 27, was deleted after five days. Wikipedia Foundation spokesman Jay Walsh tells us the post “would constitute a ‘vandal edit’” but doubted the vandal could be found.\\n“It’s an open system,” says Walsh. “People may use it to exert their views. But the biographies of living people are most scrutinized by our volunteer editors. It’s incumbent on the Wikipedia Foundation to make sure they’re accurate.”\\nWalsh surmised that “someone with some agenda” was behind the post. Or maybe there’s more than one person. Clicking on the discussion page of Brokaw’s bio reveals attempts to slip in digs about his accent and personality. Wiki watchdogs rejected the insults, though not the unflattering picture of the newsman, which reminded one reader of “Clint Eastwood saying, ‘Do you feel lucky, punk?’ ”\\nThe effort to smear Brokaw recalls the anonymous Wiki attack in 2005 on former assistant attorney general John Seigenthaler Sr., who, it was falsely claimed, masterminded the assassinations of both John and Bobby Kennedy.\\nBrokaw isn’t the only newsman targeted by Wiki vandals. “Some of our correspondents have stalkers who constantly post falsehoods,” says a source at another network news department. “We’ve had Wikipedia block posts from repeat offenders.”\\nBut the unflappable Brokaw isn’t calling for any investigations. Through his rep he said, “This is beneath comment.”\\n\\nPrevious Page Next Page 123\\nADS BY YAHOO!\\nMake $5000 Per Month\\nRead How I Earn over $5000/Month Putting Links into Google.\\n(www.RichardsMoneyBlog.com)\\nClint Eastwood Diet\\nI lost 30 lbs by following the 1 diet rule Clint Eastwood uses.\\n(www.mycelebdietblog.info)\\nClint Eastwood Gossip, Photos, and News\\nSecret Clint Eastwood Photos, Gossip, News, and More.\\n(secrethollywoodgossip.com)\\nEMAIL\\nPRINT\\nRSS\\nShare\\nYahoo! Buzz\\nDigg\\nStumbleUpon\\nSEE ALL SHARE LINKS &gt;&gt;\\nDiscuss this Article\\n0 comments\\n[See All Comments]\\n[Discussion Guidelines]\\nTo post comments, REGISTER or LOG IN\\nClick Here to see all comments or to Report Abuse\\nDISCUSS\\nEMAIL\\nPRINT\\nSHARE\\nTom Brokaw a rogue on wacky-pedia\\nTom Hanks' films are helping us 'Buck' up through tough times\\nCelebrity side dish: John Malkovich brushes Bernie Madoff off of his shoulders\\nView all on one page\\nRelated Articles\\nRelated Topics\\nWNBC goes digital in big news update\\nThe Closer\\nBrokaw's swath team cuts across America\\nInner Tube: Montel heading to Air America\\nToday's Top Picks\\n\\nVideo: Chaos at 'Top Model' audition\\nPandemonium erupted outside of an \"\"America's Next Top Model\"\" casting call in midtown Saturday.\\n \\nWarrant issued for Lohan's arrest\\nStarlet Lindsay Lohan is wanted by police over a two-year-old drunken driving arrest.\\n \\nWhat Bernie and Ruth made off with\\nCourt papers filed Friday reveal Bernie is worth $826 million, and show just how high on</td>\n",
       "      <td>0</td>\n",
       "      <td>4510</td>\n",
       "    </tr>\n",
       "    <tr>\n",
       "      <th>87728</th>\n",
       "      <td>\"\\n\\nMjpresson initiated the ANI proceedings and got other editors riled up so another editor took care of the formality of proposing a ban; check it out if you want to verify that.\\n\\nCongratulations to Mjpresson on not being personally a cigarette smoker; neither were Nixon and Reagan who pursued the war against cannabis alias \"\"drugs\"\" to benefit the cigarette industry; how does Mj administer hash without a one-hitter or a vaporizer?\\n\\nTime running out on the anonymous Public Liebrewery computer forced me to stop 40 minutes ago, therefore the \"\"unsigned\"\" incomplete message; to continue:\\n\\nMy conjecture (which I will be so bold as to share with you here) is that Mj's agenda includes:\\n\\n Using Wikipedia to promote the interests of the cigarette industry (through his advocacy in 44 detailed articles about the chain-smoking movie-maker José Mojica Marins whose main character Ze do Caixão (in English \"\"Coffin Joe\"\" sound like Joe Camel?) commits serial murders for sex and personal vindication).  I personally couldn't smoke enough tobacco to stay awake sitting through 88 hours of those horror flicks.  To reference another BRIC country: a 2004-05 study showed 89% of all movies made in India contained depictions of \"\"tobacco use\"\" (almost always cigarettes).\\n\\n Trying to remove from Wikipedia cannabis-related articles any information about possible Harm Reduction alternatives to hot burning overdose \"\"joint\"\" smoking such as one-hitters, kiseru, midwakh etc. \"\"joint\"\" and rolling papers are a handy Industry strategy to get children oriented to cigarette smoking.\\n\\n Trying to delete information that could serve as a warning against mixing cannabis with tobacco (for example, an edit deleting a reference in the hashish article to an Australian Department of Health study indicating that that practice could lead to unintended nicotine addiction (which is of course what cigarette companies want it to do).\\n\\nThis may explain why, in May 2010, Mjpresson nominated the One-hitter (smoking) article for deletion (reason: \"\"It's just a bad article.\"\") (vote: 4-1 for Keep).  By October 2010, after pictures of midwakh, kiseru etc. were added, the article ranked ninth in Category:Cannabis smoking with 1191 hits a day according to a rating survey.  This week, expecting to win the vote against Tokerdesigner at ANI, Mjpresson has deleted over 50% of the One-hitter (smoking) article, including pictures (all-important!) showing what a one-hitter is.\\n\\nAt ANI I have referenced the May 30, 2011 World Health Organization press release claiming that \"\"tobacco\"\" (mainly cigarette smoking of course) will kill 6 million human beings in 2011, and scheduled to rise at present rates to 8 million a year by 2030; so if Mjpresson says Tokerdesigner is a \"\"single-purpose editor\"\" at least you'll understand why.\\n\\nSo again, congratulations for opposing putting a picture of a \"\"joint\"\" atop the [[Cannabis (smoking) article (especially without any warning that there may be tobacco mixed into it), but beware, you have doubtless attracted \"\"their\"\" attention and Big 2WackGo may be after you.\\n\\n Note: beware of 3-R's, i.e. by simply reverting mJ'S edit three times you may violate a WP rule aimed at preventing edit wars; better strategy is to change something, add something different with each edit, trying to improve things each time in the interest of a positive solution.  Mj is a stickler for following the rules and will get you for that.  Though I consider him a stooge of the world's leading genocide-for-profit conspiracy I also recognize that Mj is talented and industrious and may do much good someday (after being \"\"forgiven on grounds of insanity\"\").\\n\\n Try to find more pictures (make a JPG file and upload to Wiki Commons, I don't have that technology yet) which show better what a one-hitter is (quarter-inch or 6-mm screened crater for 25-mg single servings, instead of 500 mg in a joint every time you want a smoke! avoiding heat shock and carbon monoxide and dopy \"\"stoner\"\" symptoms blamed on cannabis etc.)  Mj objects to the midwakh picture because it is traditionally used for tobacco, not cannabis, but he also deleted it from the one-hitter article where it was clearly described as used for tobacco.  The kiseru picture is a bit indistinct and doesn't show how narrow the crater is.  The major fear of the tobacco industry, even more than cannabis legalization, is the de facto legalization of harm reduction utensils which eliminate the need for high-profit cigarette papers.  Thanks,  \"</td>\n",
       "      <td>0</td>\n",
       "      <td>4514</td>\n",
       "    </tr>\n",
       "    <tr>\n",
       "      <th>146106</th>\n",
       "      <td>\":::Even during the 1891 census, castes like Vilakkithalavan and Veluthedan were counted separately. 90% of the Nairs counted in 1891 belonged to the Kshatriya divisions. The remaining 10% were caste groups wrongly claiming the Nair status. Moreover, the 1891 census in Kerala was conducted by Iyer Brahmins, who had a deep seated resentment towards Nairs (Iyers were treated much below Illathu Nair and Swaroopathil Nair in Travancore caste system and they were not allowed to perform priestly functions). Since all the original castes composing the Nair supergroup were Kshatriya and none of the historians considered the primary occupation of Nairs anything other than being soldiers, there is no reason to change the introductory phrase. As pointed out in the reference, the Nairs were commonly referred as Kshatriyas (whether it is accurate or not is another question) by historians. KN Panikker, probably the most famous historian from Kerala, calls them \"\"a Dravidian variety of the Aryan Kshatriyas\"\". Chintaman Vinayak Vaidya calls them \"\"Nagara Kshatriyas\"\" in his book  Downfall of Hindu India. The question is not whether the much researched Nagvanshi origin is accurate or not. It is whether Nairs were known as Kshatriya during the last millenium. And the answer is yes, from multiple sources. \\n\\nHowever the caste system is the most complex in India, and this is the reason why Swami Vivekananda called Kerala a mental assylum. In Kerala, the son of a King can never be a Kshatriya, as according to Nambuthiri beliefs, a Kshatriya should have a Brahmin father and Kshatriya mother. This is the reason why the so called four \"\"Suryavanshi\"\" dynasties of Kerala always married off their females to Nambuthiris. These clans were known as Samanta Kshatriya and were regarded as equivalent to Kshatriya by the Nambuthiris. It should be noted that the Nambuthiris considered every other caste as Sudra, even the other Brahmin communities. The pollution time period (pula) gives an indication to this. Nambuthiris observed 10 days of pula (6 days in some places). The caste which is immediate next to them, the Samanta Kshatriyas observed 11 days of pula. Top most ranked Ambalavasi Brahmin communities like Elayathu and Moosad (unlike other Ambalavasi Brahmins like Maarar, these two castes were recognized by the Nambuthiris as a part of Brahmin community) observed 12 days of pula. This means that the position of Samanta Kshatriya was intermediate between Nambuthiri Brahmin and Ambalavasi Brahmin. The next higher ranking ones were some insignificant divisions of local Brahmins like Pushpaka Brahmins, who observed a pula ranging from 13 to 15 days. Higher ranking Chandravanshi and Nagvanshi Nair groups (all of the Samantans, most of the Kiryathils and most of Illathils) observed a pula of 15 days. Lower ranking Nairs (like Swaroopathil and Charna Nair) observed a pula of 16 days, so did Iyers and lower ranking Ambalavasis like Maarars in Trivandrum (In Palghat Iyers never observed any pula traditions and were independent on their own). \\n\\nRegarding the claim that people were granted the Nair title, I don't think a sufficiently large number of people belonging to other castes were granted the Nair title. A few occurrences are there in Travancore, where during the 18th century a very small number of Iyers were granted the Illath Nair status. During the 18th and 19th century a small number of Vellala and Maravar people were granted Nair status. Other than that there has been absolutely no \"\"conversion of caste\"\". The Portuguese record an incident, during 16th century when a Portuguese captain asked the Cochin King to elevate the status of some lower castes to Nair, the King told him that even the highest ranking Emperor does not have that power. During the end of 19th century, however as the Nair dominance was on a steep decline, a number of servant castes asked the Iyer census takers to count them as Nair, which they happily obeyed. And for a brief period, some of them even added \"\"Nair\"\" or \"\"Pillai\"\" to their surname, until the Kerala government nullified affirmative action benefits to all those who are having such a surname. These groups came not only from the Sudra division, but also from other divisions. These groups included Brahmins like Maarars, GSBs and Pisharodys (In Travancore, where Ambalavasis are having a lower status), Vaishyas like Chettys (in Travancore) and Arya Vaishyas (in Malabar) and even other Kshatriya communities like Marathas and Bunts.   \\n\\n\"</td>\n",
       "      <td>0</td>\n",
       "      <td>4515</td>\n",
       "    </tr>\n",
       "    <tr>\n",
       "      <th>72736</th>\n",
       "      <td>\"\\n\\nSo, the British sided with the Americans, and the current border reflects the American claim?\\nWhat were the differences between this and the Canadian claim? - Unsigned User:Geo Swan\\n\\nActually, the current boundary does not reflect the maximal U.S. claim.  I'll try to trype in some more info.   \\n\\nThe British didn't exactly side with the Americans; the border settlement was an arbitration (the Kaiser again, IIRC, as it had been with his father at the end of the San Juans Dispute).  The British backed down because of threats by T.E. Roosevelt that he would invade and annex British Columbia if he didn't get his way.  The main difference between the British hard position and the way things are now is that under the British terms, thet \"\"Yukon Ports\"\" - Skagway and Haines and Dyea etc would have been \"\"British\"\", i.e. part of British Columbia.\\n\\nCanada didn't have a say in it, other than consulting London; British North American (Canadian) foreign affairs were still in London's bailiwick at that time (until 1931 or 1927 or something).\\n\\nAs it is under the treaty, the site of Forts Stikine and Taku should be within British Columbia; and in fact the mouths of the Stikine and Taku should be, but they've silted in a few miles downstream since the treaty was signed; the border hasn't been revised to reflect that (obviously not, even though it's in the language; same thing with the mis-survey of the 49th Parallel that's not going to get corrected, either).\\n\\nThere are two sticking points remaining in the Alaska Boundary Settlement.  One is that the treaty stipulates that the western shoreline of the Portland Canal is the boundary; US maps continue to show mid-channel.  Similarly with the A-B Line, which is between Point A and Point B on the north side of the Dixon Entrance; US maps show the boundary as being mid-Dixon Entrance, and the US/Alaska have even issued oil/drilling-exploration permits on \"\"their\"\" side of that line.\\n\\nSame kind of fudge-up with the Oregon Treaty; during the Salmon War of the mid-1990s Canadian commercial vessels (whale watching boats) were busted by US Coast Guard in the area of the San Juans; but the treaty is very clear that ALL commercial vessels south of the 49th Parallel are to be unhindered; that would even include in Rosario Strait, far from the current border in the Haro Strait; during the same kafuffle Sen. Slade Gorton (State-Sen) in Washington invoked the treaty to demand free passage through the Johnstone Strait for American fishing vessels (nothing of the kind is guaranteed in the Oregon Treaty, or for that matter in the Alaska treaty either) and called on the US Navy to enforce the \"\"international waterway\"\" (which is all of a mile wide in spots).  Thing is it was the US who passed legislation that attacked non-American ships using this route, i.e. the act that makes it so that preference is given to vessels sailing from American port to American port over those from a \"\"foreign port\"\" to an American port; this act was passed specifically to route the Yukon shipping trade through Seattle over Vancouver, even though it was Canadian/British waters that the route traversed. \\n\\nFurther Thoughts\\n\\nJust considering the opening statements; the treaty was actually between the British Empire, with the Dominion of Canada as a signatory party, IIRC; BC was not involved in the actual signing.\\n\\nAnd just as aside the phrasing of the second condition of the treaty cited:\\n\\nWhenever the summit of the mountains shall be at a distance of more than ten marine leagues from the ocean, the limit shall be formed by a line parallel to the winding of the coast, and which shall never exceed the distance of ten marine leagues therefrom.\\n\\n...is completely bizarre for anybody who's ever actually looked at a map of the coastline.  The negotiators were in London and Washington and Ottawa, far away with only the dimmest idea of where they were talking about.  Much the same as the Oregon Treaty, only worse; there \"\"the deepest channel\"\" seemed at least a bit logical, even though they didn't note the issues on the map with Point Roberts and the Gulf Islands/San Juans which make that border a bit of an absurdity; which so is the 49th Parallel from the Rockies west....that aside, the Alaska treaty issue cited is utterly bizarre; the Alaskan coast is a ragged array of inlets and bays, pierced by several large rivers.  There is no \"\"crest of the mountains\"\", for one thing - other than crowsflight-drawn lines from high peak to high peak, which i</td>\n",
       "      <td>0</td>\n",
       "      <td>4515</td>\n",
       "    </tr>\n",
       "    <tr>\n",
       "      <th>73269</th>\n",
       "      <td>\"AIG Loan &amp; IQ==\\nShould facts should be added about AIG loan in that, the preceding days before this loan was arranged, Timothy Geitner, president of NY Fed, had announced and published in NYC newspapers that he would not make this loan as AIG had been asking for a loan of 35 - 40 billion from the Fed Res for a week. And that public request resulted in the Timonthy Geitner refusal to loan AIG anything.\\n\\nThen, Geitner, Paulson and Bernake were all 3 informed of the 100s of billions in mortgage insurance that AIG had issued and also the trillions in derivatives insurance that AIG had issued and informed of the further clear conclusions that \\n...\\nwithout supporting the AIG loan and allowing AIG to fail, this massive amount of market related insurance would cause a global market collapse. This info did NOT come from AIG but from private party to these three, Paulson, Bernanke and Geitner who had no knowledge of AIG's importance to markets.\\n\\nAnd today making that AIG loan is credited with saving the global markets from collapse. \\n\\nBut that occurred as just explained and not from any knowledge of Bernanke, Paulson or Geitner but from advice of outside party that reversed the already refusal by the Fed to loan AIG anything as announced publicly by Gietner. (So that outside party is one who saved markets from collapse - NOT Geitner, Bernanke, Paulson)\\n\\nThis lack of market knowledge by all three , Paulson, Geitner, and Bernanke, is important to understand in understanding depth of market understanding in current proposals to allow US Treasury to dictate systemic risk decision, when no one at the US Treasury, other than saying those words , has shown any knowledge of markets to \\nbe able to determine what that is.\\n\\n/s/ Harvey Keitel, markit bon vivant jr 69.121.221.97 \\n\\nIQ &amp; Markets\\nIn the IQ discussion in the article it is touted that the Bernanke has a higher IQ and that qualified\\nhim for his job.\\n\\nAlso it has been mentioned that he is an expert in Depression Era events.\\n\\nNeither worked to have Bernanke ACT appropriately in this global crisis which HE / Bernanke CAUSED\\nvia fighting the spike in oil and gold prices and his efforts directly caused THIS CRISIS.\\n\\nSO THAT with Bernanke's Higher IQ  did not have him perceive what he was doing would cause a near global market meltdown and his studies of the depression era did not clue him in not to cause nearly a depression.\\n\\n/s Too True IOQ IX 69.121.221.97 \\n\\nDemonizing Wall Street for US Government Caused Crisis\\nIn the bubble, all agree was caused by Greenspan, and in the huge push to give mortgages to those non qualified which all agree was caused by Fannie Mae , etc and by Congress, this directly lead to the subprime debacle and beginning of the global crisis -  NONE of which was caused by Wall Street.\\n\\nThen in the fight by Bernanke to stop the projected inflation caused by oil &amp; gold spikes, his actions massively slammed the overall economy which was perking along just fine even with the subprime debaclev which WAS a smaller part of the USA $ 15 trillion economy.\\n\\nNEXT, massive jaw boning of the huge crisis was done by Paulson to get funds and that caused the coup de grace, the huge retrenchment of all spending by consumers....\\n\\nALL these events were NOT caused by Wall Street\\n\\nThen Paulson, Bernanke and later hugely OBAMA and Congress, again and again bad mouthed again and again\\nWall Street claiming that this whole series of events was caused by Wall Street when it was mainly caused by the US Governement and aided by consumer spending retrenchment but Congres and the pundits caused the US population to believe the lie it was Wall Street's fault due to GAMBLING.\\n\\nALL distortion 100 %.\\n\\nDestruction of Capital Formation and Wall Street\\nOne of the key features of Bernanke's job in oversight for the USA economy is in also protecting \\ncapital formation....\\n\\nAnd the engine of economic growth in the USA for 300 years has been the USA efficient capital distribution\\nto new ventures, old ventures, etc and the recent sequence of bad mouthing by all concerned of Wall Street\\npublicly now and including esp the talking heads on CNN and esp CNBC has severely damaged that core \\nof the reason for USA dominance and leadership for those 300 years.\\n\\nAdded to that huge destruction is the special refusal by ALL of the US Government to Identify and prosecute\\nthe huge fraudulent short selling of ALL major wall Street firms and major USA banks which was fraudulent\\nesp as done in a intentional and ever increasing crecend</td>\n",
       "      <td>0</td>\n",
       "      <td>4516</td>\n",
       "    </tr>\n",
       "  </tbody>\n",
       "</table>\n",
       "</div>"
      ],
      "text/plain": [
       "                                                                                                                                                                                                                                                                                                                                                                                                                                                                                                                                                                                                                                                                                                                                                                                                                                                                                                                                                                                                                                                                                                                                                                                                                                                                                                                                                                                                                                                                                                                                                                                                                                                                                                                                                                                                                                                                                                                                                                                                                                                                                                                                                                                                                                                                                                                                                                                                                                                                                                                                                                                                                                                                                                                                                                                                                                                                                                                                                                                                                                                                                                                                                                                                                                                                                                                                                                                                                                                                                                                                                                                                                                                                                                                                                                                                                                                                                                                                                                                                                                                                                                                                                                                                                                                                                                                                                                                                                                                                                                                                                                                                                                                                                                                                                                                text  \\\n",
       "11166                                                                                        \"I had nearly moved on when I felt completely compelled to comment on this statement \"\"probably better than most clan websites, which tend to be based on long outdated stuff from the 19th century. Then I do not see a problem in using it until a better source can be found. Especially to make amends to the masses of unsourced information that is found on so many of the individual clan articles\"\". I can only interpet this as something is probably better because it is newer?? This makes no sense to me. History is what it is, it should not change for the sake of change. If it was accurate over 600 years ago, it is just as accurate today. Again, if something is true and accurate hundreds or even thousands of years ago, it is not and should not be subject to change because someone decides to re-write it for either personal gain or an agenda. That is exactly what has happened with the origins for many Highland Clans. For any that might be interested, William Skene's and John Murray's collaboration of The Highlanders of Scotland: Their Origin, History and Antiquities is a wonderful and refreshing read. This is more than likely the truest accounting for several of the Highland Clans. It asserts that many of the origin claims put forth in more recent times are attempts to gain a foothold on the Chieftainship, by usurping the rightful lines. You'll find that cadet septs used this technique to basically try to re-write history for their own selfish gain. You'd have to read the book to see how this played out but as I said before, nearly ALL of the Highland Clans being \"\"bastardized\"\" as Norman/Anglo-Horman/Flemish, etc. are really Dalriadan and Pictish mixes. Examples would be Campbell, Cameron, Grant, Davidson, Wallace, etc. I of course have distant YDNA connections to ALL of these surnames, but I know no one wants to hear about that as any sort of evidence. I'll admit not one of these surnames or clans has a pure lineage, but they all have a lineage going back to the Picts and Gaels. I am of that lineage, which is quite rare and continues to be established. The masses are not of that lineage, they are a mix if R1A1, other R1B haplotypes, the I haplotypes, etc. I will be the first to admit there may be hundreds of families, not even related through a shared male ancestor, sharing a surname or Clan. My concern is with the origins only, and the original Chiefly lines. And please don't tell me how we are a mix of so much dna, I am only referring to YDNA, the male lines. I am not talking about MTDNA nor Autosomal. What I don't understand is why when there is so much sourced information out there, some editors choose only to use factually inaccurate \"\"sourced\"\" information. There is substantial \"\"factually accurate\"\" sourced information out there however it is not my intent, to correct these erroneous articles or to present an \"\"opposing view\"\". There is no opposing view, there is either the truth, or their are lies. Either the Celtic version is correct, or the Comyn version is correct, or neither is correct. There can't factually be multiple versions of an origin, it is what it is and there is only one true origin. This is not a contest to see who can provide more recent sources. I would hope wikipedia would want the truth out there, and not contests of who can out edit who, which is what wikipedia appears to be. There, my case is presented to the message and not a specific messenger. Clan Davidson is Celtic, it descended from Celts and it has no connection to the Comyn family. It did not descend from a Comyn male. They came from a very ancient Gaelic ancestor, an ancestor shared by several Highland Clans, before surnames even were in use. One other greatly incorrect update to this site was the battle alleged between the Davidson's and the MacPherson's....this never happened. The battle was between the Clans fighting for the Chief of the Clan Chattan, the battle was fought between the Mackintoshs and the MacPhersons.The MacPhersons were the true chiefly line, but were \"\"out-documented\"\" by the usurping Mackintosh. This is pretty much exactly what is happening here, on this very page. I hope someone else has more time and energy to properly update this page with the correct information and let's bury the lies and factually inaccurate information comprising most of this article. It was originally much more factually accurate, but over the course of time has been corrupted with sourced information that is not also factually accurate.\\n\\n\"   \n",
       "61371        \"HERE IS MY POINT:  TODAY'S NEW YORK DAILY NEWS, MAR 15, 08\\n\\nTOM BROKAW A ROGUE ON WACHY-PEDIA\\n\\nSunday, March 15th 2009, 4:00 AM\\n\\nJacobs/Getty\\nDebate moderator Tom Brokaw talks prior to the Town Hall Presidential Debate at Belmont University's Curb Event Center.\\nRelated News\\nARTICLES\\nCelebrity side dish: John Malkovich brushes Bernie Madoff off of his shoulders\\nTom Hanks' films are helping us 'Buck' up through tough times\\nHe’s one of journalism’s most beloved and respected men, but someone appears to have it in for Tom Brokaw. \\nLook up the former NBC News anchor on Wikipedia and you’ll find a review of his Emmy-winning reports, his best-selling books, his 20 honorary degrees. Until recently, you also would have found this sentence: \\n“He had been married to Meredith Lynn Auld (a former Miss South Dakota and author) from 1962 until 2007, when an alleged affair between Brokaw and Diane Sawyer ended their marriage.”\\nThe Brokaws’ marriage is very much intact (a Google image search shows them arm in arm at events throughout 2008 and 2009). Likewise, ABC News’ Sawyer remains happily married to director Mike Nichols.\\nA rep for Brokaw said he “burst out laughing” when he heard about the supposed affair. Contacted in the arctic reaches of Finland, Sawyer sent back word through her rep that, “as cute as Tom is, she laughed so hard she nearly fell off the icebreaker she’s traveling on.”\\nThe purported affair, anonymously added to Brokaw’s bio on Feb. 27, was deleted after five days. Wikipedia Foundation spokesman Jay Walsh tells us the post “would constitute a ‘vandal edit’” but doubted the vandal could be found.\\n“It’s an open system,” says Walsh. “People may use it to exert their views. But the biographies of living people are most scrutinized by our volunteer editors. It’s incumbent on the Wikipedia Foundation to make sure they’re accurate.”\\nWalsh surmised that “someone with some agenda” was behind the post. Or maybe there’s more than one person. Clicking on the discussion page of Brokaw’s bio reveals attempts to slip in digs about his accent and personality. Wiki watchdogs rejected the insults, though not the unflattering picture of the newsman, which reminded one reader of “Clint Eastwood saying, ‘Do you feel lucky, punk?’ ”\\nThe effort to smear Brokaw recalls the anonymous Wiki attack in 2005 on former assistant attorney general John Seigenthaler Sr., who, it was falsely claimed, masterminded the assassinations of both John and Bobby Kennedy.\\nBrokaw isn’t the only newsman targeted by Wiki vandals. “Some of our correspondents have stalkers who constantly post falsehoods,” says a source at another network news department. “We’ve had Wikipedia block posts from repeat offenders.”\\nBut the unflappable Brokaw isn’t calling for any investigations. Through his rep he said, “This is beneath comment.”\\n\\nPrevious Page Next Page 123\\nADS BY YAHOO!\\nMake $5000 Per Month\\nRead How I Earn over $5000/Month Putting Links into Google.\\n(www.RichardsMoneyBlog.com)\\nClint Eastwood Diet\\nI lost 30 lbs by following the 1 diet rule Clint Eastwood uses.\\n(www.mycelebdietblog.info)\\nClint Eastwood Gossip, Photos, and News\\nSecret Clint Eastwood Photos, Gossip, News, and More.\\n(secrethollywoodgossip.com)\\nEMAIL\\nPRINT\\nRSS\\nShare\\nYahoo! Buzz\\nDigg\\nStumbleUpon\\nSEE ALL SHARE LINKS >>\\nDiscuss this Article\\n0 comments\\n[See All Comments]\\n[Discussion Guidelines]\\nTo post comments, REGISTER or LOG IN\\nClick Here to see all comments or to Report Abuse\\nDISCUSS\\nEMAIL\\nPRINT\\nSHARE\\nTom Brokaw a rogue on wacky-pedia\\nTom Hanks' films are helping us 'Buck' up through tough times\\nCelebrity side dish: John Malkovich brushes Bernie Madoff off of his shoulders\\nView all on one page\\nRelated Articles\\nRelated Topics\\nWNBC goes digital in big news update\\nThe Closer\\nBrokaw's swath team cuts across America\\nInner Tube: Montel heading to Air America\\nToday's Top Picks\\n\\nVideo: Chaos at 'Top Model' audition\\nPandemonium erupted outside of an \"\"America's Next Top Model\"\" casting call in midtown Saturday.\\n \\nWarrant issued for Lohan's arrest\\nStarlet Lindsay Lohan is wanted by police over a two-year-old drunken driving arrest.\\n \\nWhat Bernie and Ruth made off with\\nCourt papers filed Friday reveal Bernie is worth $826 million, and show just how high on the hog he and his wife lived.\\n \\nDid they duet or not?\\nReports of the supposed duet between Chris Brown and Rihanna are being called false.\\n \\nFrom 'Slumdog' to Bond girl?\\n\"\"Slumdog Millionaire\"\" star Freida Pinto could be taking on a sexy new role: Bond girl.\\nNEWLI   \n",
       "137641                                                           \", but you should read the guide to appealing blocks first.\\nMaterialscientist (talk) \\nAn admin can block you again now that you've continued to make the very same contentious edit that got you blocked initially. If you continue to make that addition, which multiple editors have removed, and if you continue to refuse to discuss the issue on the article's talk page, this is fair warning that I will notify the above admin of your end-run disruptive editing. Tenebrae (talk) \\nCivility warning I\\n\\nWhile we all offer edits which tend to improve the article, you need to exercise better caution in your edit summaries. [This] is not an example of civility; calling child is a fairly certain way to ensure your edits are met in the harshest possible light. In other words, knock off the bullshit sarcasm, or you won't like the ensuing discussion. - Jack Sebastian (talk) \\nAllow me to be somewhat more clear: the next uncivil remark you make in an edit summary will find you taking a somewhat longer break than your previous block. We tend to block people for that sort of behavior. Consider my previous comment a request; consider this one a warning. - Jack Sebastian (talk) \\nJuly 2012\\n\\nThe edits you have been reverting have not been made in bad faith, so they are not vandalism. You should also mind WP:3RR and your attitude. Someguy1221 (talk) \\nYour recent edits\\n\\nInformation.svg Hello. In case you didn't know, when you add content to talk pages and Wikipedia pages that have open discussion, you should sign your posts by typing four tildes (    ) at the end of your comment. You could also click on the signature button Insert-signature.png or Button sig.png located above the edit window. This will automatically insert a signature with your username or IP address and the time you posted the comment. This information is useful because other editors will be able to tell who said what, and when they said it. Thank you. SineBot (talk) \\n Please stop attacking other editors, as you did on Juno Temple. If you continue, you may be blocked from editing Wikipedia. Your last edit summary referred to numerous editors on Juno Temple as morons. This is unacceptable and I noticed you have been warned for civility previously. If you believe the other editors are acting improperly, then report them to the appropriate Wikipedia noticeboard. If it is a content dispute, please work it out on the talk page. Thanks. Safiel (talk) \\nFurther comment on article Juno Temple\\nIn your edit summaries, you indicate that you are relying on IMDB as a reliable source. Please read the following brief guideline at WP:IMDB. As a user edited resource, IMDB is not considered a reliable source for making material edits to an article. However, it is ok to make an external link from an article to an IMDB article. I am not taking sides as to whether you or the other editors are correct as to the dispute on Juno Temple, but IMDB is not an acceptable source for making your argument. Thanks. Safiel (talk) \\nDisambiguation link notification for January 7\\n\\nHi. Thank you for your recent edits. Wikipedia appreciates your help. We noticed though that when you edited Littleton, Colorado, you added a link pointing to the disambiguation page Glee (check to confirm | fix with Dab solver). Such links are almost always unintended, since a disambiguation page is merely a list of \"\"Did you mean...\"\" article titles. Read the FAQ • Join us at the DPL WikiProject.\\nIt's OK to remove this message. Also, to stop receiving these messages, follow these opt-out instructions. Thanks, DPL bot (talk) \\nAugust 2014\\n\\nInformation icon Hello, I'm STATicVapor. I noticed that you recently removed some content from Scooby-Doo! WrestleMania Mystery without explaining why. In the future, it would be helpful to others if you described your changes to Wikipedia with an accurate edit summary. If this was a mistake, don't worry; I restored the removed content. If you would like to experiment, please use the sandbox. If you think I made a mistake, or if you have any questions, you can leave me a message on my talk page. Thanks! STATic message me! \\nFile:Orologio rosso or File:Orologio verde DOT SVG (red clock or green clock icon, from Wikimedia Commons)This blocked user's unblock request has been reviewed by an administrator, who declined the request. Other administrators may also review this block, but should not override the decision without good reason (see the blocking policy). Do not remove this unblock review while you are blocked.   \n",
       "114808                                             I AM REALLY UPSET with his deletion nominations!!!!   \\n\\n Sorry, but you are an asshole \\n\\nThis is very insane to delete an article like this.\\n\\n You are asshole master of deletions \\n 22:18, 17 March 2013 (diff | hist) . . (+685)‎ . . User talk:PatGallacher ‎ (Notifying author of deletion nomination for Patricia Walsh) (current)\\n 22:18, 17 March 2013 (diff | hist) . . (+299)‎ . . Patricia Walsh ‎ (Nominated page for deletion using Page Curation (subst:blp-prod))\\n 22:11, 17 March 2013 (diff | hist) . . (+184)‎ . . Wikipedia:Administrator intervention against vandalism ‎ (Reporting Novaranist. (TW))\\n 22:10, 17 March 2013 (diff | hist) . . (-33)‎ . . m Hans Kohala ‎ (Reverted 1 edit by Novaranist (talk) to last revision by Severo. (TW)) (current)\\n 22:08, 17 March 2013 (diff | hist) . . (-82)‎ . . Most Extreme Airports ‎ (current)\\n 22:04, 17 March 2013 (diff | hist) . . (+861)‎ . . N User talk:Matt8600 ‎ (Notifying author of deletion nomination for Iustin beldie)\\n 22:03, 17 March 2013 (diff | hist) . . (+678)‎ . . N User talk:Timostaurus ‎ (Notifying author of deletion nomination for Scott Wornow)\\n 22:01, 17 March 2013 (diff | hist) . . (+829)‎ . . N User talk:Mason Decker1 ‎ (Notifying author of deletion nomination for Mario Kart/Characters) (current)\\n 21:58, 17 March 2013 (diff | hist) . . (+877)‎ . . N User talk:Nathanielpopoca ‎ (Notifying author of deletion nomination for Nathaniel Popoca)\\n 21:57, 17 March 2013 (diff | hist) . . (+865)‎ . . N User talk:Iustin444 ‎ (Notifying author of deletion nomination for Matei Berceanu) (current)\\n 21:56, 17 March 2013 (diff | hist) . . (+417)‎ . . User talk:Novaranist ‎ (Only warning: Vandalism. (TW))\\n 21:54, 17 March 2013 (diff | hist) . . (+858)‎ . . N User talk:Zachlyda ‎ (Notifying author of deletion nomination for Zachary Lyda) (current)\\n 21:53, 17 March 2013 (diff | hist) . . (+836)‎ . . N User talk:Novaranist ‎ (Notifying author of deletion nomination for Pornography in North Korea)\\n 21:49, 17 March 2013 (diff | hist) . . (+8)‎ . . User:Tentinator/Articles Created ‎ (current)\\n 21:48, 17 March 2013 (diff | hist) . . (+143)‎ . . N User:Tentinator/Articles Created ‎ (←Created page with 'This is a list of all the articles that I've created. First Catilinarian Conspiracy Second Catilinarian Conspiracy In Toga Candida')\\n 21:35, 17 March 2013 (diff | hist) . . (+861)‎ . . N User talk:Jaylentable ‎ (Notifying author of deletion nomination for Beautybaby44) (current)\\n 20:12, 17 March 2013 (diff | hist) . . (+883)‎ . . N User talk:Conservationscience ‎ (Notifying author of deletion nomination for Conservation evidence) (current)\\n 20:12, 17 March 2013 (diff | hist) . . (+844)‎ . . N User talk:Prasadaman ‎ (Notifying author of deletion nomination for Aman prasad) (current)\\n 20:11, 17 March 2013 (diff | hist) . . (+1,737)‎ . . User talk:Liberalufp ‎ (Notification: speedy deletion nomination of Word windowism. (TW))\\n 16:38, 17 March 2013 (diff | hist) . . (+788)‎ . . N User talk:Lunedeep ‎ (Notifying author of deletion nomination for Lune deep)\\n 16:16, 17 March 2013 (diff | hist) . . (+830)‎ . . User talk:Blackiedog ‎ (Notifying author of deletion nomination for List of King Kongs)\\n 15:58, 17 March 2013 (diff | hist) . . (+917)‎ . . N User talk:Giovz17 ‎ (Notifying author of deletion nomination for Special/wiki/Special:Preferences) (current)\\n 15:57, 17 March 2013 (diff | hist) . . (+838)‎ . . N User talk:Jarmanpreet Sandhu ‎ (Notifying author of deletion nomination for Jarmanpreet sandhu) (current)\\n 11:31, 17 March 2013 (diff | hist) . . (+886)‎ . . N User talk:Rpriykant ‎ (Notifying author of deletion nomination for Moneyroot Consultancy) (current)\\n 10:53, 17 March 2013 (diff | hist) . . (+808)‎ . . N User talk:Pregish ‎ (Notifying author of deletion nomination for Pergasus Syangbo)\\n 10:36, 17 March 2013 (diff | hist) . . (+645)‎ . . N User talk:Shresthaprabhu ‎ (General note: Removal of content, blanking. (TW)) (current)\\n 10:33, 17 March 2013 (diff | hist) . . (+850)‎ . . N User talk:Espabangalore ‎ (Notifying author of deletion nomination for Elements spa) (current)\\n 10:33, 17 March 2013 (diff | hist) . . (+855)‎ . . N User talk:Jadurkupi ‎ (Notifying author of deletion nomination for Music marketing) (current)\\n 10:16, 17 March 2013 (diff | hist) . . (+700)‎ . . User talk:Jb1944 ‎ (Notifying author of deletion nomination for John Alderton (medic))\\n 10:03, 17 March 2013 (diff | hist) . . (+791)‎ . . User talk:Hikogaratashi ‎ (Notifying author of deletion nomination for Brooks kossover) (current)   \n",
       "48154                                                \"states, under the direct control of the larger federal sovereign.  \\n\\nAlso, if you look at the U.S. Constitution, both the Preamble and Article II repeatedly and consistently refer to \"\"the United States of America.\"\"  From the surrounding wording, it is clear that the Founders were referring to a single legal entity and believed they were constituting such an entity.  So \"\"the United States of America\"\" is the legal name of the federal government.  There are also many sections in the United States Code which refer to \"\"the United States of America.\"\"\\n\\n 20:49, 18 Feb 2005 (UTC)\\n\\n They are referred to in both the Constitution and other documents as \"\"the United States\"\" because before 1787, they were semi-independent.  This is where the Americans clouded the definitions of state and nation that the rest of the world successfully differentiates.  The Constitution was the coming together of states that minted their own currency, engaged in trade wars with each other, refused to extradite criminals just because they happened to cross a state line, etc. into a \"\"Union\"\" hence how they became the \"\"United.\"\"  Up until the Civil War (especially in the South) is was thought that a state could easily withdraw if they didn't agree with the direction the Constitution was being torn into.  South Carolina attempted to get out in the 1830s, etc.  The Constitution of the United States of America is named as such simply because at first 13 states came together to agree to it.   This was at time when New England was thinking about leaving the Articles of Confederation and creating an entity from New York to Maine.  When sections of the American contintent west of the Appalachians were planning or trying to start their own little Republics (and some Kingdoms).  If the states hadn't come together and decided to lay down a new document for their confederation, and instead persisted after Annapolis to exist under the \"\"Articles of Confederation\"\" from 1775, most likely the union would have fallen shortly after 1800 (if not sooner) and today we would see maps with other more localized confederations of the 50 states (which who knows if there would even be 50).  Your conceptualization of inter-state relations leading up to the 1787 constitution is limited.  A few delegates getting miffed would have changed the last three centuries of world history in ways we can hardly imagine. — 21:01, 18 Feb 2005 (UTC)\\n\\nI hold a bachelor's degree in history from the most prestigious public university in the United States.  I am well-aware of all of the facts you just mentioned, especially the delicate fragility of the Union throughout its first century.  I am also familiar with all the diverse what-if scenarios.  \\n\\nI do not have all day to write on talk pages.  I did not think it was necessary to rehash the convoluted details of two centuries of American history just to explain how we got to our present pigpen of legal fictions and political realities.  But thanks for doing that for me.  \\n\\nWhen I said \"\"wording\"\" above, I was referring to the consistent use of the definite article, \"\"the,\"\" rather than the plural demonstrative adjective, \"\"these,\"\" in the Constitution.  But you did clarify something I neglected, the task of explaining why the Constitution has to refer to states which are united, as opposed to, say, \"\"the United State.\"\"\\n\\n 08:11, 19 Feb 2005 (UTC)\\n\\n Vandalism protection \\n\\nI know the vandalism is now infrequent, but is it necessary?  I don't think so since so many people watch this page anyway...  (talk) 20:31, 20 Dec 2004 (UTC)\\n\\n Republicans and religious Jews \\n\\nExcuse me.  In the \"\"Politics\"\" section, the following sentence appears:\\n\\nThe Republicans generally receive more funding and support from business groups, religious Christians and Jews, and rural Americans, while the Democratic party receives more support from labor unions and minority ethnic groups.\\n\\nIn the history,  sliced out the phrase \"\"and Jews\"\" and then  promptly reverted it.  Now, I'm a little confused.  Historically, when Jews are considered as a voting bloc, they tend to lean Democratic.  However, this analysis has always considered Jews as a single ethnic class and not separated out religious Jews from non-religious Jews.  Therefore, my question:\\n\\nDoes anyone have evidence that religious Jews tend to vote Republican (or Democratic)?\\n\\n—  21:28, 2004 Dec 30 (UTC)\\n\\n Social Issues \\n\\nI added some more information about the incarceration/prison situation in the US. Feel free to verif   \n",
       "122987  \"ANBODY THAT RELIES ON WIKIPEDIA FOR INFORMATION IS A FOOL:\\n\\nNEW YORK DAILY NEWS, RUSH/MOLLOY  MAR 15, 09\\n\\nHOMEAUTOSREAL ESTATEJOBSCLASSIFIEDSSHOPBUY TICKETSCONTESTS\\nLOGINREGISTER\\nTAB \\nNEWSSPORTSGOSSIPGATECRASHERRUSH & MOLLOYCELEBRITY PHOTOSFASHIONOSCARSENTERTAINMENTLOCALOPINIONSLIFESTYLEMONEYTECH GUIDELATINOVIDEOBLOGSAll Sections\\n\\nTom Brokaw a rogue on wacky-pedia\\nSunday, March 15th 2009, 4:00 AM\\n\\nJacobs/Getty\\nDebate moderator Tom Brokaw talks prior to the Town Hall Presidential Debate at Belmont University's Curb Event Center.\\nRelated News\\nARTICLES\\nCelebrity side dish: John Malkovich brushes Bernie Madoff off of his shoulders\\nTom Hanks' films are helping us 'Buck' up through tough times\\nHe’s one of journalism’s most beloved and respected men, but someone appears to have it in for Tom Brokaw. \\nLook up the former NBC News anchor on Wikipedia and you’ll find a review of his Emmy-winning reports, his best-selling books, his 20 honorary degrees. Until recently, you also would have found this sentence: \\n“He had been married to Meredith Lynn Auld (a former Miss South Dakota and author) from 1962 until 2007, when an alleged affair between Brokaw and Diane Sawyer ended their marriage.”\\nThe Brokaws’ marriage is very much intact (a Google image search shows them arm in arm at events throughout 2008 and 2009). Likewise, ABC News’ Sawyer remains happily married to director Mike Nichols.\\nA rep for Brokaw said he “burst out laughing” when he heard about the supposed affair. Contacted in the arctic reaches of Finland, Sawyer sent back word through her rep that, “as cute as Tom is, she laughed so hard she nearly fell off the icebreaker she’s traveling on.”\\nThe purported affair, anonymously added to Brokaw’s bio on Feb. 27, was deleted after five days. Wikipedia Foundation spokesman Jay Walsh tells us the post “would constitute a ‘vandal edit’” but doubted the vandal could be found.\\n“It’s an open system,” says Walsh. “People may use it to exert their views. But the biographies of living people are most scrutinized by our volunteer editors. It’s incumbent on the Wikipedia Foundation to make sure they’re accurate.”\\nWalsh surmised that “someone with some agenda” was behind the post. Or maybe there’s more than one person. Clicking on the discussion page of Brokaw’s bio reveals attempts to slip in digs about his accent and personality. Wiki watchdogs rejected the insults, though not the unflattering picture of the newsman, which reminded one reader of “Clint Eastwood saying, ‘Do you feel lucky, punk?’ ”\\nThe effort to smear Brokaw recalls the anonymous Wiki attack in 2005 on former assistant attorney general John Seigenthaler Sr., who, it was falsely claimed, masterminded the assassinations of both John and Bobby Kennedy.\\nBrokaw isn’t the only newsman targeted by Wiki vandals. “Some of our correspondents have stalkers who constantly post falsehoods,” says a source at another network news department. “We’ve had Wikipedia block posts from repeat offenders.”\\nBut the unflappable Brokaw isn’t calling for any investigations. Through his rep he said, “This is beneath comment.”\\n\\nPrevious Page Next Page 123\\nADS BY YAHOO!\\nMake $5000 Per Month\\nRead How I Earn over $5000/Month Putting Links into Google.\\n(www.RichardsMoneyBlog.com)\\nClint Eastwood Diet\\nI lost 30 lbs by following the 1 diet rule Clint Eastwood uses.\\n(www.mycelebdietblog.info)\\nClint Eastwood Gossip, Photos, and News\\nSecret Clint Eastwood Photos, Gossip, News, and More.\\n(secrethollywoodgossip.com)\\nEMAIL\\nPRINT\\nRSS\\nShare\\nYahoo! Buzz\\nDigg\\nStumbleUpon\\nSEE ALL SHARE LINKS >>\\nDiscuss this Article\\n0 comments\\n[See All Comments]\\n[Discussion Guidelines]\\nTo post comments, REGISTER or LOG IN\\nClick Here to see all comments or to Report Abuse\\nDISCUSS\\nEMAIL\\nPRINT\\nSHARE\\nTom Brokaw a rogue on wacky-pedia\\nTom Hanks' films are helping us 'Buck' up through tough times\\nCelebrity side dish: John Malkovich brushes Bernie Madoff off of his shoulders\\nView all on one page\\nRelated Articles\\nRelated Topics\\nWNBC goes digital in big news update\\nThe Closer\\nBrokaw's swath team cuts across America\\nInner Tube: Montel heading to Air America\\nToday's Top Picks\\n\\nVideo: Chaos at 'Top Model' audition\\nPandemonium erupted outside of an \"\"America's Next Top Model\"\" casting call in midtown Saturday.\\n \\nWarrant issued for Lohan's arrest\\nStarlet Lindsay Lohan is wanted by police over a two-year-old drunken driving arrest.\\n \\nWhat Bernie and Ruth made off with\\nCourt papers filed Friday reveal Bernie is worth $826 million, and show just how high on   \n",
       "87728                                                     \"\\n\\nMjpresson initiated the ANI proceedings and got other editors riled up so another editor took care of the formality of proposing a ban; check it out if you want to verify that.\\n\\nCongratulations to Mjpresson on not being personally a cigarette smoker; neither were Nixon and Reagan who pursued the war against cannabis alias \"\"drugs\"\" to benefit the cigarette industry; how does Mj administer hash without a one-hitter or a vaporizer?\\n\\nTime running out on the anonymous Public Liebrewery computer forced me to stop 40 minutes ago, therefore the \"\"unsigned\"\" incomplete message; to continue:\\n\\nMy conjecture (which I will be so bold as to share with you here) is that Mj's agenda includes:\\n\\n Using Wikipedia to promote the interests of the cigarette industry (through his advocacy in 44 detailed articles about the chain-smoking movie-maker José Mojica Marins whose main character Ze do Caixão (in English \"\"Coffin Joe\"\" sound like Joe Camel?) commits serial murders for sex and personal vindication).  I personally couldn't smoke enough tobacco to stay awake sitting through 88 hours of those horror flicks.  To reference another BRIC country: a 2004-05 study showed 89% of all movies made in India contained depictions of \"\"tobacco use\"\" (almost always cigarettes).\\n\\n Trying to remove from Wikipedia cannabis-related articles any information about possible Harm Reduction alternatives to hot burning overdose \"\"joint\"\" smoking such as one-hitters, kiseru, midwakh etc. \"\"joint\"\" and rolling papers are a handy Industry strategy to get children oriented to cigarette smoking.\\n\\n Trying to delete information that could serve as a warning against mixing cannabis with tobacco (for example, an edit deleting a reference in the hashish article to an Australian Department of Health study indicating that that practice could lead to unintended nicotine addiction (which is of course what cigarette companies want it to do).\\n\\nThis may explain why, in May 2010, Mjpresson nominated the One-hitter (smoking) article for deletion (reason: \"\"It's just a bad article.\"\") (vote: 4-1 for Keep).  By October 2010, after pictures of midwakh, kiseru etc. were added, the article ranked ninth in Category:Cannabis smoking with 1191 hits a day according to a rating survey.  This week, expecting to win the vote against Tokerdesigner at ANI, Mjpresson has deleted over 50% of the One-hitter (smoking) article, including pictures (all-important!) showing what a one-hitter is.\\n\\nAt ANI I have referenced the May 30, 2011 World Health Organization press release claiming that \"\"tobacco\"\" (mainly cigarette smoking of course) will kill 6 million human beings in 2011, and scheduled to rise at present rates to 8 million a year by 2030; so if Mjpresson says Tokerdesigner is a \"\"single-purpose editor\"\" at least you'll understand why.\\n\\nSo again, congratulations for opposing putting a picture of a \"\"joint\"\" atop the [[Cannabis (smoking) article (especially without any warning that there may be tobacco mixed into it), but beware, you have doubtless attracted \"\"their\"\" attention and Big 2WackGo may be after you.\\n\\n Note: beware of 3-R's, i.e. by simply reverting mJ'S edit three times you may violate a WP rule aimed at preventing edit wars; better strategy is to change something, add something different with each edit, trying to improve things each time in the interest of a positive solution.  Mj is a stickler for following the rules and will get you for that.  Though I consider him a stooge of the world's leading genocide-for-profit conspiracy I also recognize that Mj is talented and industrious and may do much good someday (after being \"\"forgiven on grounds of insanity\"\").\\n\\n Try to find more pictures (make a JPG file and upload to Wiki Commons, I don't have that technology yet) which show better what a one-hitter is (quarter-inch or 6-mm screened crater for 25-mg single servings, instead of 500 mg in a joint every time you want a smoke! avoiding heat shock and carbon monoxide and dopy \"\"stoner\"\" symptoms blamed on cannabis etc.)  Mj objects to the midwakh picture because it is traditionally used for tobacco, not cannabis, but he also deleted it from the one-hitter article where it was clearly described as used for tobacco.  The kiseru picture is a bit indistinct and doesn't show how narrow the crater is.  The major fear of the tobacco industry, even more than cannabis legalization, is the de facto legalization of harm reduction utensils which eliminate the need for high-profit cigarette papers.  Thanks,  \"   \n",
       "146106                                                                     \":::Even during the 1891 census, castes like Vilakkithalavan and Veluthedan were counted separately. 90% of the Nairs counted in 1891 belonged to the Kshatriya divisions. The remaining 10% were caste groups wrongly claiming the Nair status. Moreover, the 1891 census in Kerala was conducted by Iyer Brahmins, who had a deep seated resentment towards Nairs (Iyers were treated much below Illathu Nair and Swaroopathil Nair in Travancore caste system and they were not allowed to perform priestly functions). Since all the original castes composing the Nair supergroup were Kshatriya and none of the historians considered the primary occupation of Nairs anything other than being soldiers, there is no reason to change the introductory phrase. As pointed out in the reference, the Nairs were commonly referred as Kshatriyas (whether it is accurate or not is another question) by historians. KN Panikker, probably the most famous historian from Kerala, calls them \"\"a Dravidian variety of the Aryan Kshatriyas\"\". Chintaman Vinayak Vaidya calls them \"\"Nagara Kshatriyas\"\" in his book  Downfall of Hindu India. The question is not whether the much researched Nagvanshi origin is accurate or not. It is whether Nairs were known as Kshatriya during the last millenium. And the answer is yes, from multiple sources. \\n\\nHowever the caste system is the most complex in India, and this is the reason why Swami Vivekananda called Kerala a mental assylum. In Kerala, the son of a King can never be a Kshatriya, as according to Nambuthiri beliefs, a Kshatriya should have a Brahmin father and Kshatriya mother. This is the reason why the so called four \"\"Suryavanshi\"\" dynasties of Kerala always married off their females to Nambuthiris. These clans were known as Samanta Kshatriya and were regarded as equivalent to Kshatriya by the Nambuthiris. It should be noted that the Nambuthiris considered every other caste as Sudra, even the other Brahmin communities. The pollution time period (pula) gives an indication to this. Nambuthiris observed 10 days of pula (6 days in some places). The caste which is immediate next to them, the Samanta Kshatriyas observed 11 days of pula. Top most ranked Ambalavasi Brahmin communities like Elayathu and Moosad (unlike other Ambalavasi Brahmins like Maarar, these two castes were recognized by the Nambuthiris as a part of Brahmin community) observed 12 days of pula. This means that the position of Samanta Kshatriya was intermediate between Nambuthiri Brahmin and Ambalavasi Brahmin. The next higher ranking ones were some insignificant divisions of local Brahmins like Pushpaka Brahmins, who observed a pula ranging from 13 to 15 days. Higher ranking Chandravanshi and Nagvanshi Nair groups (all of the Samantans, most of the Kiryathils and most of Illathils) observed a pula of 15 days. Lower ranking Nairs (like Swaroopathil and Charna Nair) observed a pula of 16 days, so did Iyers and lower ranking Ambalavasis like Maarars in Trivandrum (In Palghat Iyers never observed any pula traditions and were independent on their own). \\n\\nRegarding the claim that people were granted the Nair title, I don't think a sufficiently large number of people belonging to other castes were granted the Nair title. A few occurrences are there in Travancore, where during the 18th century a very small number of Iyers were granted the Illath Nair status. During the 18th and 19th century a small number of Vellala and Maravar people were granted Nair status. Other than that there has been absolutely no \"\"conversion of caste\"\". The Portuguese record an incident, during 16th century when a Portuguese captain asked the Cochin King to elevate the status of some lower castes to Nair, the King told him that even the highest ranking Emperor does not have that power. During the end of 19th century, however as the Nair dominance was on a steep decline, a number of servant castes asked the Iyer census takers to count them as Nair, which they happily obeyed. And for a brief period, some of them even added \"\"Nair\"\" or \"\"Pillai\"\" to their surname, until the Kerala government nullified affirmative action benefits to all those who are having such a surname. These groups came not only from the Sudra division, but also from other divisions. These groups included Brahmins like Maarars, GSBs and Pisharodys (In Travancore, where Ambalavasis are having a lower status), Vaishyas like Chettys (in Travancore) and Arya Vaishyas (in Malabar) and even other Kshatriya communities like Marathas and Bunts.   \\n\\n\"   \n",
       "72736                                                   \"\\n\\nSo, the British sided with the Americans, and the current border reflects the American claim?\\nWhat were the differences between this and the Canadian claim? - Unsigned User:Geo Swan\\n\\nActually, the current boundary does not reflect the maximal U.S. claim.  I'll try to trype in some more info.   \\n\\nThe British didn't exactly side with the Americans; the border settlement was an arbitration (the Kaiser again, IIRC, as it had been with his father at the end of the San Juans Dispute).  The British backed down because of threats by T.E. Roosevelt that he would invade and annex British Columbia if he didn't get his way.  The main difference between the British hard position and the way things are now is that under the British terms, thet \"\"Yukon Ports\"\" - Skagway and Haines and Dyea etc would have been \"\"British\"\", i.e. part of British Columbia.\\n\\nCanada didn't have a say in it, other than consulting London; British North American (Canadian) foreign affairs were still in London's bailiwick at that time (until 1931 or 1927 or something).\\n\\nAs it is under the treaty, the site of Forts Stikine and Taku should be within British Columbia; and in fact the mouths of the Stikine and Taku should be, but they've silted in a few miles downstream since the treaty was signed; the border hasn't been revised to reflect that (obviously not, even though it's in the language; same thing with the mis-survey of the 49th Parallel that's not going to get corrected, either).\\n\\nThere are two sticking points remaining in the Alaska Boundary Settlement.  One is that the treaty stipulates that the western shoreline of the Portland Canal is the boundary; US maps continue to show mid-channel.  Similarly with the A-B Line, which is between Point A and Point B on the north side of the Dixon Entrance; US maps show the boundary as being mid-Dixon Entrance, and the US/Alaska have even issued oil/drilling-exploration permits on \"\"their\"\" side of that line.\\n\\nSame kind of fudge-up with the Oregon Treaty; during the Salmon War of the mid-1990s Canadian commercial vessels (whale watching boats) were busted by US Coast Guard in the area of the San Juans; but the treaty is very clear that ALL commercial vessels south of the 49th Parallel are to be unhindered; that would even include in Rosario Strait, far from the current border in the Haro Strait; during the same kafuffle Sen. Slade Gorton (State-Sen) in Washington invoked the treaty to demand free passage through the Johnstone Strait for American fishing vessels (nothing of the kind is guaranteed in the Oregon Treaty, or for that matter in the Alaska treaty either) and called on the US Navy to enforce the \"\"international waterway\"\" (which is all of a mile wide in spots).  Thing is it was the US who passed legislation that attacked non-American ships using this route, i.e. the act that makes it so that preference is given to vessels sailing from American port to American port over those from a \"\"foreign port\"\" to an American port; this act was passed specifically to route the Yukon shipping trade through Seattle over Vancouver, even though it was Canadian/British waters that the route traversed. \\n\\nFurther Thoughts\\n\\nJust considering the opening statements; the treaty was actually between the British Empire, with the Dominion of Canada as a signatory party, IIRC; BC was not involved in the actual signing.\\n\\nAnd just as aside the phrasing of the second condition of the treaty cited:\\n\\nWhenever the summit of the mountains shall be at a distance of more than ten marine leagues from the ocean, the limit shall be formed by a line parallel to the winding of the coast, and which shall never exceed the distance of ten marine leagues therefrom.\\n\\n...is completely bizarre for anybody who's ever actually looked at a map of the coastline.  The negotiators were in London and Washington and Ottawa, far away with only the dimmest idea of where they were talking about.  Much the same as the Oregon Treaty, only worse; there \"\"the deepest channel\"\" seemed at least a bit logical, even though they didn't note the issues on the map with Point Roberts and the Gulf Islands/San Juans which make that border a bit of an absurdity; which so is the 49th Parallel from the Rockies west....that aside, the Alaska treaty issue cited is utterly bizarre; the Alaskan coast is a ragged array of inlets and bays, pierced by several large rivers.  There is no \"\"crest of the mountains\"\", for one thing - other than crowsflight-drawn lines from high peak to high peak, which i   \n",
       "73269                     \"AIG Loan & IQ==\\nShould facts should be added about AIG loan in that, the preceding days before this loan was arranged, Timothy Geitner, president of NY Fed, had announced and published in NYC newspapers that he would not make this loan as AIG had been asking for a loan of 35 - 40 billion from the Fed Res for a week. And that public request resulted in the Timonthy Geitner refusal to loan AIG anything.\\n\\nThen, Geitner, Paulson and Bernake were all 3 informed of the 100s of billions in mortgage insurance that AIG had issued and also the trillions in derivatives insurance that AIG had issued and informed of the further clear conclusions that \\n...\\nwithout supporting the AIG loan and allowing AIG to fail, this massive amount of market related insurance would cause a global market collapse. This info did NOT come from AIG but from private party to these three, Paulson, Bernanke and Geitner who had no knowledge of AIG's importance to markets.\\n\\nAnd today making that AIG loan is credited with saving the global markets from collapse. \\n\\nBut that occurred as just explained and not from any knowledge of Bernanke, Paulson or Geitner but from advice of outside party that reversed the already refusal by the Fed to loan AIG anything as announced publicly by Gietner. (So that outside party is one who saved markets from collapse - NOT Geitner, Bernanke, Paulson)\\n\\nThis lack of market knowledge by all three , Paulson, Geitner, and Bernanke, is important to understand in understanding depth of market understanding in current proposals to allow US Treasury to dictate systemic risk decision, when no one at the US Treasury, other than saying those words , has shown any knowledge of markets to \\nbe able to determine what that is.\\n\\n/s/ Harvey Keitel, markit bon vivant jr 69.121.221.97 \\n\\nIQ & Markets\\nIn the IQ discussion in the article it is touted that the Bernanke has a higher IQ and that qualified\\nhim for his job.\\n\\nAlso it has been mentioned that he is an expert in Depression Era events.\\n\\nNeither worked to have Bernanke ACT appropriately in this global crisis which HE / Bernanke CAUSED\\nvia fighting the spike in oil and gold prices and his efforts directly caused THIS CRISIS.\\n\\nSO THAT with Bernanke's Higher IQ  did not have him perceive what he was doing would cause a near global market meltdown and his studies of the depression era did not clue him in not to cause nearly a depression.\\n\\n/s Too True IOQ IX 69.121.221.97 \\n\\nDemonizing Wall Street for US Government Caused Crisis\\nIn the bubble, all agree was caused by Greenspan, and in the huge push to give mortgages to those non qualified which all agree was caused by Fannie Mae , etc and by Congress, this directly lead to the subprime debacle and beginning of the global crisis -  NONE of which was caused by Wall Street.\\n\\nThen in the fight by Bernanke to stop the projected inflation caused by oil & gold spikes, his actions massively slammed the overall economy which was perking along just fine even with the subprime debaclev which WAS a smaller part of the USA $ 15 trillion economy.\\n\\nNEXT, massive jaw boning of the huge crisis was done by Paulson to get funds and that caused the coup de grace, the huge retrenchment of all spending by consumers....\\n\\nALL these events were NOT caused by Wall Street\\n\\nThen Paulson, Bernanke and later hugely OBAMA and Congress, again and again bad mouthed again and again\\nWall Street claiming that this whole series of events was caused by Wall Street when it was mainly caused by the US Governement and aided by consumer spending retrenchment but Congres and the pundits caused the US population to believe the lie it was Wall Street's fault due to GAMBLING.\\n\\nALL distortion 100 %.\\n\\nDestruction of Capital Formation and Wall Street\\nOne of the key features of Bernanke's job in oversight for the USA economy is in also protecting \\ncapital formation....\\n\\nAnd the engine of economic growth in the USA for 300 years has been the USA efficient capital distribution\\nto new ventures, old ventures, etc and the recent sequence of bad mouthing by all concerned of Wall Street\\npublicly now and including esp the talking heads on CNN and esp CNBC has severely damaged that core \\nof the reason for USA dominance and leadership for those 300 years.\\n\\nAdded to that huge destruction is the special refusal by ALL of the US Government to Identify and prosecute\\nthe huge fraudulent short selling of ALL major wall Street firms and major USA banks which was fraudulent\\nesp as done in a intentional and ever increasing crecend   \n",
       "\n",
       "        toxic   len  \n",
       "11166       0  4501  \n",
       "61371       0  4504  \n",
       "137641      0  4508  \n",
       "114808      1  4509  \n",
       "48154       0  4509  \n",
       "122987      0  4510  \n",
       "87728       0  4514  \n",
       "146106      0  4515  \n",
       "72736       0  4515  \n",
       "73269       0  4516  "
      ]
     },
     "execution_count": 19,
     "metadata": {},
     "output_type": "execute_result"
    }
   ],
   "source": [
    "# Посмотрим на сообщения от 4500 символов\n",
    "data_ml[data_ml['len'] > 4500].sort_values(by='len').head(10)"
   ]
  },
  {
   "cell_type": "markdown",
   "metadata": {},
   "source": [
    "Видим, что текст данных сообщений уникален, в нем пользователи высказывают подробно свое мнение. В отличии от комментариев на 5000 знаков, где пользователи копируют одну фразу много раз. \n",
    "\n",
    "Доля аномальных комментарии (длинной 5000 символов) всего 0,03% от всего датасета, на данном этапе удалять аномалии не будем, но будем иметь ввиду, что их можно будет удалить, для ускорения лемматизации текста. \n",
    "\n",
    "Проверим зависит ли токсичность комментариев от его длины. "
   ]
  },
  {
   "cell_type": "code",
   "execution_count": 20,
   "metadata": {},
   "outputs": [
    {
     "data": {
      "image/png": "[encoded data removed]",
      "text/plain": [
       "<Figure size 1080x720 with 1 Axes>"
      ]
     },
     "metadata": {
      "needs_background": "light"
     },
     "output_type": "display_data"
    }
   ],
   "source": [
    "#Разобьем данные по признаку длина сообщения на токсичные и не токсичные комментарии.\n",
    "data_ml_toxic = data_ml[data_ml['toxic'] == 1]['len']\n",
    "data_ml_no_toxic = data_ml[data_ml['toxic'] == 0]['len']\n",
    "\n",
    "#Пострим распределение \n",
    "plt.figure()\n",
    "sns.kdeplot(data_ml_toxic, fill=True, color='red', label='токсичные комментарии')\n",
    "sns.kdeplot(data_ml_no_toxic, fill=True, color='blue', label='не токсичные комментарии')\n",
    "plt.title('Плотность распределения комментариев по длине сообщения')\n",
    "plt.xlabel('Количество комментариев')\n",
    "plt.ylabel('Плотность')\n",
    "plt.legend()\n",
    "plt.show()"
   ]
  },
  {
   "cell_type": "markdown",
   "metadata": {},
   "source": [
    "Из графика можем сделать вывод, что токсичность комментария не зависит от его длины."
   ]
  },
  {
   "cell_type": "markdown",
   "metadata": {},
   "source": [
    "**Очистка текста + лемматизация**"
   ]
  },
  {
   "cell_type": "code",
   "execution_count": 21,
   "metadata": {},
   "outputs": [],
   "source": [
    "#Объявим лемматизатор\n",
    "nlp = spacy.load(\"en_core_web_sm\")"
   ]
  },
  {
   "cell_type": "code",
   "execution_count": 22,
   "metadata": {},
   "outputs": [
    {
     "name": "stdout",
     "output_type": "stream",
     "text": [
      "                                                      text\n",
      "0  The striped bats are hanging on their feet for best//  \n",
      "1            you should be ashamed of yourself went worked\n"
     ]
    }
   ],
   "source": [
    "# Убедимся на простом примере, что он работает\n",
    "sentence1 = \"The striped bats are hanging on their feet for best//  \"\n",
    "sentence2 = \"you should be ashamed of yourself went worked\"\n",
    "df_my = pd.DataFrame([sentence1, sentence2], columns = ['text'])\n",
    "print(df_my)"
   ]
  },
  {
   "cell_type": "code",
   "execution_count": 23,
   "metadata": {},
   "outputs": [],
   "source": [
    "def clear_text(text):\n",
    "    #перевод текста в нижний регистр\n",
    "    text = text.lower()\n",
    "    # Удаление всех символов, кроме английских букв и пробелов\n",
    "    text = re.sub(r'[^a-zA-Z]', ' ', text)\n",
    "    # Удаление лишних пробелов\n",
    "    text = \" \".join(text.split())\n",
    "    return text"
   ]
  },
  {
   "cell_type": "code",
   "execution_count": 24,
   "metadata": {},
   "outputs": [
    {
     "name": "stderr",
     "output_type": "stream",
     "text": [
      "100%|██████████| 2/2 [00:00<00:00, 100.03it/s]\n"
     ]
    },
    {
     "data": {
      "text/html": [
       "<div>\n",
       "<style scoped>\n",
       "    .dataframe tbody tr th:only-of-type {\n",
       "        vertical-align: middle;\n",
       "    }\n",
       "\n",
       "    .dataframe tbody tr th {\n",
       "        vertical-align: top;\n",
       "    }\n",
       "\n",
       "    .dataframe thead th {\n",
       "        text-align: right;\n",
       "    }\n",
       "</style>\n",
       "<table border=\"1\" class=\"dataframe\">\n",
       "  <thead>\n",
       "    <tr style=\"text-align: right;\">\n",
       "      <th></th>\n",
       "      <th>text</th>\n",
       "      <th>lemm_text</th>\n",
       "    </tr>\n",
       "  </thead>\n",
       "  <tbody>\n",
       "    <tr>\n",
       "      <th>0</th>\n",
       "      <td>The striped bats are hanging on their feet for best//</td>\n",
       "      <td>the stripe bat be hang on their foot for good</td>\n",
       "    </tr>\n",
       "    <tr>\n",
       "      <th>1</th>\n",
       "      <td>you should be ashamed of yourself went worked</td>\n",
       "      <td>you should be ashamed of yourself go work</td>\n",
       "    </tr>\n",
       "  </tbody>\n",
       "</table>\n",
       "</div>"
      ],
      "text/plain": [
       "                                                      text  \\\n",
       "0  The striped bats are hanging on their feet for best//     \n",
       "1            you should be ashamed of yourself went worked   \n",
       "\n",
       "                                       lemm_text  \n",
       "0  the stripe bat be hang on their foot for good  \n",
       "1      you should be ashamed of yourself go work  "
      ]
     },
     "execution_count": 24,
     "metadata": {},
     "output_type": "execute_result"
    }
   ],
   "source": [
    "# Убедимся на простом примере, что он работает\n",
    "lemm1 = []\n",
    "\n",
    "for i in tqdm(range(len(df_my))):\n",
    "    tokens = clear_text(df_my.text[i])\n",
    "    tokens = nlp(tokens)\n",
    "    lemm1.append(\" \".join([token.lemma_ for token in tokens]))\n",
    "\n",
    "df_my['lemm_text'] =  lemm1\n",
    "df_my"
   ]
  },
  {
   "cell_type": "markdown",
   "metadata": {},
   "source": [
    "Лемматизатор работает (striped  ------> stripe, went -------> go), применим его для нашего датасета"
   ]
  },
  {
   "cell_type": "code",
   "execution_count": 25,
   "metadata": {},
   "outputs": [
    {
     "name": "stderr",
     "output_type": "stream",
     "text": [
      "100%|██████████| 159292/159292 [39:16<00:00, 67.61it/s] \n"
     ]
    },
    {
     "data": {
      "text/html": [
       "<div>\n",
       "<style scoped>\n",
       "    .dataframe tbody tr th:only-of-type {\n",
       "        vertical-align: middle;\n",
       "    }\n",
       "\n",
       "    .dataframe tbody tr th {\n",
       "        vertical-align: top;\n",
       "    }\n",
       "\n",
       "    .dataframe thead th {\n",
       "        text-align: right;\n",
       "    }\n",
       "</style>\n",
       "<table border=\"1\" class=\"dataframe\">\n",
       "  <thead>\n",
       "    <tr style=\"text-align: right;\">\n",
       "      <th></th>\n",
       "      <th>text</th>\n",
       "      <th>toxic</th>\n",
       "      <th>len</th>\n",
       "      <th>lemm_text</th>\n",
       "    </tr>\n",
       "  </thead>\n",
       "  <tbody>\n",
       "    <tr>\n",
       "      <th>0</th>\n",
       "      <td>Explanation\\nWhy the edits made under my username Hardcore Metallica Fan were reverted? They weren't vandalisms, just closure on some GAs after I voted at New York Dolls FAC. And please don't remove the template from the talk page since I'm retired now.89.205.38.27</td>\n",
       "      <td>0</td>\n",
       "      <td>264</td>\n",
       "      <td>explanation why the edit make under my username hardcore metallica fan be revert they weren t vandalism just closure on some gas after I vote at new york doll fac and please don t remove the template from the talk page since I m retire now</td>\n",
       "    </tr>\n",
       "    <tr>\n",
       "      <th>1</th>\n",
       "      <td>D'aww! He matches this background colour I'm seemingly stuck with. Thanks.  (talk) 21:51, January 11, 2016 (UTC)</td>\n",
       "      <td>0</td>\n",
       "      <td>112</td>\n",
       "      <td>d aww he match this background colour I m seemingly stuck with thank talk january utc</td>\n",
       "    </tr>\n",
       "    <tr>\n",
       "      <th>2</th>\n",
       "      <td>Hey man, I'm really not trying to edit war. It's just that this guy is constantly removing relevant information and talking to me through edits instead of my talk page. He seems to care more about the formatting than the actual info.</td>\n",
       "      <td>0</td>\n",
       "      <td>233</td>\n",
       "      <td>hey man I m really not try to edit war it s just that this guy be constantly remove relevant information and talk to I through edit instead of my talk page he seem to care more about the formatting than the actual info</td>\n",
       "    </tr>\n",
       "    <tr>\n",
       "      <th>3</th>\n",
       "      <td>\"\\nMore\\nI can't make any real suggestions on improvement - I wondered if the section statistics should be later on, or a subsection of \"\"types of accidents\"\"  -I think the references may need tidying so that they are all in the exact same format ie date format etc. I can do that later on, if no-one else does first - if you have any preferences for formatting style on references or want to do it yourself please let me know.\\n\\nThere appears to be a backlog on articles for review so I guess there may be a delay until a reviewer turns up. It's listed in the relevant form eg Wikipedia:Good_article_nominations#Transport  \"</td>\n",
       "      <td>0</td>\n",
       "      <td>622</td>\n",
       "      <td>more I can t make any real suggestion on improvement I wonder if the section statistic should be later on or a subsection of type of accident I think the reference may need tidy so that they be all in the exact same format ie date format etc I can do that later on if no one else do first if you have any preference for format style on reference or want to do it yourself please let I know there appear to be a backlog on article for review so I guess there may be a delay until a reviewer turn up it s list in the relevant form eg wikipedia good article nomination transport</td>\n",
       "    </tr>\n",
       "    <tr>\n",
       "      <th>4</th>\n",
       "      <td>You, sir, are my hero. Any chance you remember what page that's on?</td>\n",
       "      <td>0</td>\n",
       "      <td>67</td>\n",
       "      <td>you sir be my hero any chance you remember what page that s on</td>\n",
       "    </tr>\n",
       "  </tbody>\n",
       "</table>\n",
       "</div>"
      ],
      "text/plain": [
       "                                                                                                                                                                                                                                                                                                                                                                                                                                                                                                                                                                                                                                                 text  \\\n",
       "0                                                                                                                                                                                                                                                                                                                                                                           Explanation\\nWhy the edits made under my username Hardcore Metallica Fan were reverted? They weren't vandalisms, just closure on some GAs after I voted at New York Dolls FAC. And please don't remove the template from the talk page since I'm retired now.89.205.38.27   \n",
       "1                                                                                                                                                                                                                                                                                                                                                                                                                                                                                                                                    D'aww! He matches this background colour I'm seemingly stuck with. Thanks.  (talk) 21:51, January 11, 2016 (UTC)   \n",
       "2                                                                                                                                                                                                                                                                                                                                                                                                           Hey man, I'm really not trying to edit war. It's just that this guy is constantly removing relevant information and talking to me through edits instead of my talk page. He seems to care more about the formatting than the actual info.   \n",
       "3  \"\\nMore\\nI can't make any real suggestions on improvement - I wondered if the section statistics should be later on, or a subsection of \"\"types of accidents\"\"  -I think the references may need tidying so that they are all in the exact same format ie date format etc. I can do that later on, if no-one else does first - if you have any preferences for formatting style on references or want to do it yourself please let me know.\\n\\nThere appears to be a backlog on articles for review so I guess there may be a delay until a reviewer turns up. It's listed in the relevant form eg Wikipedia:Good_article_nominations#Transport  \"   \n",
       "4                                                                                                                                                                                                                                                                                                                                                                                                                                                                                                                                                                                 You, sir, are my hero. Any chance you remember what page that's on?   \n",
       "\n",
       "   toxic  len  \\\n",
       "0      0  264   \n",
       "1      0  112   \n",
       "2      0  233   \n",
       "3      0  622   \n",
       "4      0   67   \n",
       "\n",
       "                                                                                                                                                                                                                                                                                                                                                                                                                                                                                                                                                                                         lemm_text  \n",
       "0                                                                                                                                                                                                                                                                                                                                                  explanation why the edit make under my username hardcore metallica fan be revert they weren t vandalism just closure on some gas after I vote at new york doll fac and please don t remove the template from the talk page since I m retire now  \n",
       "1                                                                                                                                                                                                                                                                                                                                                                                                                                                                                                            d aww he match this background colour I m seemingly stuck with thank talk january utc  \n",
       "2                                                                                                                                                                                                                                                                                                                                                                       hey man I m really not try to edit war it s just that this guy be constantly remove relevant information and talk to I through edit instead of my talk page he seem to care more about the formatting than the actual info  \n",
       "3  more I can t make any real suggestion on improvement I wonder if the section statistic should be later on or a subsection of type of accident I think the reference may need tidy so that they be all in the exact same format ie date format etc I can do that later on if no one else do first if you have any preference for format style on reference or want to do it yourself please let I know there appear to be a backlog on article for review so I guess there may be a delay until a reviewer turn up it s list in the relevant form eg wikipedia good article nomination transport  \n",
       "4                                                                                                                                                                                                                                                                                                                                                                                                                                                                                                                                   you sir be my hero any chance you remember what page that s on  "
      ]
     },
     "execution_count": 25,
     "metadata": {},
     "output_type": "execute_result"
    }
   ],
   "source": [
    "lemm = []\n",
    "\n",
    "for i in tqdm(range(len(data_ml))):\n",
    "    tokens = clear_text(data_ml.text[i])\n",
    "    tokens = nlp(tokens)\n",
    "    lemm.append(\" \".join([token.lemma_ for token in tokens]))\n",
    "\n",
    "data_ml['lemm_text'] =  lemm\n",
    "data_ml.head()"
   ]
  },
  {
   "cell_type": "markdown",
   "metadata": {},
   "source": [
    "Итак, мы привели текст к нижнему регистру, очистили от ненужных символов и лемматизировали (привели слова к начальным формам). Лемматизированный текст находится в столбце 'lemm_text'."
   ]
  },
  {
   "cell_type": "markdown",
   "metadata": {},
   "source": [
    "#### toxic"
   ]
  },
  {
   "cell_type": "code",
   "execution_count": 29,
   "metadata": {},
   "outputs": [
    {
     "data": {
      "text/plain": [
       "0    143106\n",
       "1     16186\n",
       "Name: toxic, dtype: int64"
      ]
     },
     "execution_count": 29,
     "metadata": {},
     "output_type": "execute_result"
    }
   ],
   "source": [
    "# найдем уникальные значения признака 'toxic'\n",
    "data_ml['toxic'].value_counts()"
   ]
  },
  {
   "cell_type": "code",
   "execution_count": 30,
   "metadata": {},
   "outputs": [
    {
     "data": {
      "image/png": "[encoded data removed]",
      "text/plain": [
       "<Figure size 1080x720 with 1 Axes>"
      ]
     },
     "metadata": {
      "needs_background": "light"
     },
     "output_type": "display_data"
    }
   ],
   "source": [
    "# проверим распределение классов\n",
    "data_ml['toxic'].value_counts().plot.bar()\n",
    "plt.title('Распределение целевого признака', fontsize = 20, fontweight='bold')\n",
    "plt.ylabel('Количество комментариев', fontsize = 15)\n",
    "plt.show()"
   ]
  },
  {
   "cell_type": "markdown",
   "metadata": {},
   "source": [
    "На лицо дисбаланс классов, учтем это при разбиении данных на выборки"
   ]
  },
  {
   "cell_type": "markdown",
   "metadata": {},
   "source": [
    "**Вывод**\n",
    "\n",
    "На этапе анализа и подготовки данных:\n",
    "\n",
    "Для признака text\n",
    "- Видим, что комментарии написаны на английском языке. Для комментариев используется разный регистр и неинформативные знаки. Сделали копию датасета и привели текст к нижнему регистру, очистили от ненужных символов и лемматизировали (привели слова к начальным формам). Лемматизированный текст находится в столбце 'lemm_text'.\n",
    "- Добавили признак, длина комментария. Определили, что длина самых длинных комментариев ограничена 5000 знаков. При этом стоит обратить внимание, что текст послания не большой, но дублируется много раз. Сделали вывод, что токсичность комментария не зависит от его длины.\n",
    "\n",
    "Для признака toxic - целевой признак\n",
    "\n",
    "- Содержит два значения 0 и 1.\n",
    "- Выявили дисбаланс классов, учтем это при разбиении данных на выборки \n",
    "\n",
    "    "
   ]
  },
  {
   "cell_type": "markdown",
   "metadata": {},
   "source": [
    "## Обучение"
   ]
  },
  {
   "cell_type": "markdown",
   "metadata": {},
   "source": [
    "### Подготовка данных"
   ]
  },
  {
   "cell_type": "code",
   "execution_count": 31,
   "metadata": {},
   "outputs": [],
   "source": [
    "#сохраним входные и целевой признаки\n",
    "X = data_ml['lemm_text']\n",
    "y = data_ml['toxic']"
   ]
  },
  {
   "cell_type": "code",
   "execution_count": 32,
   "metadata": {},
   "outputs": [
    {
     "data": {
      "text/plain": [
       "((127433,), (31859,), (127433,), (31859,))"
      ]
     },
     "execution_count": 32,
     "metadata": {},
     "output_type": "execute_result"
    }
   ],
   "source": [
    "# разделим входные и целевой признаки на тренировочную и тестовую выборки в соотношении 80:20\n",
    "# укажем stratify=y, т.к. необходимо сохранить соотношение классов при разделении\n",
    "X_train, X_test, y_train, y_test = train_test_split(X, y, test_size=0.2, random_state=RANDOM_STATE, stratify=y) \n",
    "\n",
    "X_train.shape, X_test.shape, y_train.shape, y_test.shape"
   ]
  },
  {
   "cell_type": "code",
   "execution_count": 33,
   "metadata": {},
   "outputs": [
    {
     "name": "stdout",
     "output_type": "stream",
     "text": [
      "Соотшошение токсичных комментариев к нетоксичным на train: 0.11311\n",
      "Соотшошение токсичных комментариев к нетоксичным на test: 0.11309\n"
     ]
    }
   ],
   "source": [
    "# Проверим на дисбаланс классов\n",
    "\n",
    "print('Соотшошение токсичных комментариев к нетоксичным на train:', round((y_train == 1).sum() / (y_train == 0).sum(), 5))\n",
    "print('Соотшошение токсичных комментариев к нетоксичным на test:', round((y_test == 1).sum() / (y_test == 0).sum(), 5))"
   ]
  },
  {
   "cell_type": "code",
   "execution_count": 34,
   "metadata": {},
   "outputs": [],
   "source": [
    "# X_train = X_train.values.astype('U')\n",
    "# X_test = X_test.values.astype('U')"
   ]
  },
  {
   "cell_type": "code",
   "execution_count": 35,
   "metadata": {},
   "outputs": [],
   "source": [
    "# найдём стоп-слова (слова без смысловой нагрузки)\n",
    "stopwords = list(nltk_stopwords.words('english'))"
   ]
  },
  {
   "cell_type": "code",
   "execution_count": 36,
   "metadata": {},
   "outputs": [],
   "source": [
    "# создадим счётчик и передадим в него список стоп-слов\n",
    "count_tf_idf = TfidfVectorizer(stop_words=stopwords)"
   ]
  },
  {
   "cell_type": "code",
   "execution_count": 37,
   "metadata": {},
   "outputs": [],
   "source": [
    "# считаем величину TF-IDF\n",
    "\n",
    "train_tf_idf = count_tf_idf.fit_transform(X_train)\n",
    "test_tf_idf = count_tf_idf.transform(X_test)"
   ]
  },
  {
   "cell_type": "code",
   "execution_count": 38,
   "metadata": {},
   "outputs": [
    {
     "name": "stdout",
     "output_type": "stream",
     "text": [
      "Размер матрицы train: (127433, 132365)\n",
      "Размер матрицы test: (31859, 132365)\n"
     ]
    }
   ],
   "source": [
    "print(\"Размер матрицы train:\", train_tf_idf.shape)\n",
    "print(\"Размер матрицы test:\", test_tf_idf.shape)"
   ]
  },
  {
   "cell_type": "markdown",
   "metadata": {},
   "source": [
    "**Вывод** На этапе подготовки данных к обучению модели разбили данные на тренировочную и тестовые выборки в соотношении 80:20 с учетом дисбаланса классов. Закодировали признаки с помощью TFIDF"
   ]
  },
  {
   "cell_type": "markdown",
   "metadata": {},
   "source": [
    "### Обучение моделей"
   ]
  },
  {
   "cell_type": "code",
   "execution_count": 40,
   "metadata": {},
   "outputs": [],
   "source": [
    "# #Определим функцию grid для подбора параметров\n",
    "def grid(model, params):\n",
    "    pipeline = Pipeline([('model', model)])    \n",
    "    grid = GridSearchCV(\n",
    "        pipeline, \n",
    "        cv = 5, \n",
    "        n_jobs = -1, \n",
    "        param_grid = params ,\n",
    "        scoring = 'f1', \n",
    "        verbose = False)\n",
    "    grid.fit(train_tf_idf, y_train)\n",
    "    print('Лучший результат:', grid.best_score_)\n",
    "    print('Лучшие параметры:', grid.best_params_)\n",
    "    return grid   "
   ]
  },
  {
   "cell_type": "code",
   "execution_count": 41,
   "metadata": {
    "scrolled": true
   },
   "outputs": [
    {
     "name": "stderr",
     "output_type": "stream",
     "text": [
      "/opt/conda/lib/python3.9/site-packages/sklearn/linear_model/_logistic.py:444: ConvergenceWarning: lbfgs failed to converge (status=1):\n",
      "STOP: TOTAL NO. of ITERATIONS REACHED LIMIT.\n",
      "\n",
      "Increase the number of iterations (max_iter) or scale the data as shown in:\n",
      "    https://scikit-learn.org/stable/modules/preprocessing.html\n",
      "Please also refer to the documentation for alternative solver options:\n",
      "    https://scikit-learn.org/stable/modules/linear_model.html#logistic-regression\n",
      "  n_iter_i = _check_optimize_result(\n",
      "/opt/conda/lib/python3.9/site-packages/sklearn/linear_model/_logistic.py:444: ConvergenceWarning: lbfgs failed to converge (status=1):\n",
      "STOP: TOTAL NO. of ITERATIONS REACHED LIMIT.\n",
      "\n",
      "Increase the number of iterations (max_iter) or scale the data as shown in:\n",
      "    https://scikit-learn.org/stable/modules/preprocessing.html\n",
      "Please also refer to the documentation for alternative solver options:\n",
      "    https://scikit-learn.org/stable/modules/linear_model.html#logistic-regression\n",
      "  n_iter_i = _check_optimize_result(\n",
      "/opt/conda/lib/python3.9/site-packages/sklearn/linear_model/_logistic.py:444: ConvergenceWarning: lbfgs failed to converge (status=1):\n",
      "STOP: TOTAL NO. of ITERATIONS REACHED LIMIT.\n",
      "\n",
      "Increase the number of iterations (max_iter) or scale the data as shown in:\n",
      "    https://scikit-learn.org/stable/modules/preprocessing.html\n",
      "Please also refer to the documentation for alternative solver options:\n",
      "    https://scikit-learn.org/stable/modules/linear_model.html#logistic-regression\n",
      "  n_iter_i = _check_optimize_result(\n",
      "/opt/conda/lib/python3.9/site-packages/sklearn/linear_model/_logistic.py:444: ConvergenceWarning: lbfgs failed to converge (status=1):\n",
      "STOP: TOTAL NO. of ITERATIONS REACHED LIMIT.\n",
      "\n",
      "Increase the number of iterations (max_iter) or scale the data as shown in:\n",
      "    https://scikit-learn.org/stable/modules/preprocessing.html\n",
      "Please also refer to the documentation for alternative solver options:\n",
      "    https://scikit-learn.org/stable/modules/linear_model.html#logistic-regression\n",
      "  n_iter_i = _check_optimize_result(\n",
      "/opt/conda/lib/python3.9/site-packages/sklearn/linear_model/_logistic.py:444: ConvergenceWarning: lbfgs failed to converge (status=1):\n",
      "STOP: TOTAL NO. of ITERATIONS REACHED LIMIT.\n",
      "\n",
      "Increase the number of iterations (max_iter) or scale the data as shown in:\n",
      "    https://scikit-learn.org/stable/modules/preprocessing.html\n",
      "Please also refer to the documentation for alternative solver options:\n",
      "    https://scikit-learn.org/stable/modules/linear_model.html#logistic-regression\n",
      "  n_iter_i = _check_optimize_result(\n",
      "/opt/conda/lib/python3.9/site-packages/sklearn/linear_model/_logistic.py:444: ConvergenceWarning: lbfgs failed to converge (status=1):\n",
      "STOP: TOTAL NO. of ITERATIONS REACHED LIMIT.\n",
      "\n",
      "Increase the number of iterations (max_iter) or scale the data as shown in:\n",
      "    https://scikit-learn.org/stable/modules/preprocessing.html\n",
      "Please also refer to the documentation for alternative solver options:\n",
      "    https://scikit-learn.org/stable/modules/linear_model.html#logistic-regression\n",
      "  n_iter_i = _check_optimize_result(\n",
      "/opt/conda/lib/python3.9/site-packages/sklearn/linear_model/_logistic.py:444: ConvergenceWarning: lbfgs failed to converge (status=1):\n",
      "STOP: TOTAL NO. of ITERATIONS REACHED LIMIT.\n",
      "\n",
      "Increase the number of iterations (max_iter) or scale the data as shown in:\n",
      "    https://scikit-learn.org/stable/modules/preprocessing.html\n",
      "Please also refer to the documentation for alternative solver options:\n",
      "    https://scikit-learn.org/stable/modules/linear_model.html#logistic-regression\n",
      "  n_iter_i = _check_optimize_result(\n",
      "/opt/conda/lib/python3.9/site-packages/sklearn/linear_model/_logistic.py:444: ConvergenceWarning: lbfgs failed to converge (status=1):\n",
      "STOP: TOTAL NO. of ITERATIONS REACHED LIMIT.\n",
      "\n",
      "Increase the number of iterations (max_iter) or scale the data as shown in:\n",
      "    https://scikit-learn.org/stable/modules/preprocessing.html\n",
      "Please also refer to the documentation for alternative solver options:\n",
      "    https://scikit-learn.org/stable/modules/linear_model.html#logistic-regression\n",
      "  n_iter_i = _check_optimize_result(\n",
      "/opt/conda/lib/python3.9/site-packages/sklearn/linear_model/_logistic.py:444: ConvergenceWarning: lbfgs failed to converge (status=1):\n",
      "STOP: TOTAL NO. of ITERATIONS REACHED LIMIT.\n",
      "\n",
      "Increase the number of iterations (max_iter) or scale the data as shown in:\n",
      "    https://scikit-learn.org/stable/modules/preprocessing.html\n",
      "Please also refer to the documentation for alternative solver options:\n",
      "    https://scikit-learn.org/stable/modules/linear_model.html#logistic-regression\n",
      "  n_iter_i = _check_optimize_result(\n",
      "/opt/conda/lib/python3.9/site-packages/sklearn/linear_model/_logistic.py:444: ConvergenceWarning: lbfgs failed to converge (status=1):\n",
      "STOP: TOTAL NO. of ITERATIONS REACHED LIMIT.\n",
      "\n",
      "Increase the number of iterations (max_iter) or scale the data as shown in:\n",
      "    https://scikit-learn.org/stable/modules/preprocessing.html\n",
      "Please also refer to the documentation for alternative solver options:\n",
      "    https://scikit-learn.org/stable/modules/linear_model.html#logistic-regression\n",
      "  n_iter_i = _check_optimize_result(\n",
      "/opt/conda/lib/python3.9/site-packages/sklearn/linear_model/_logistic.py:444: ConvergenceWarning: lbfgs failed to converge (status=1):\n",
      "STOP: TOTAL NO. of ITERATIONS REACHED LIMIT.\n",
      "\n",
      "Increase the number of iterations (max_iter) or scale the data as shown in:\n",
      "    https://scikit-learn.org/stable/modules/preprocessing.html\n",
      "Please also refer to the documentation for alternative solver options:\n",
      "    https://scikit-learn.org/stable/modules/linear_model.html#logistic-regression\n",
      "  n_iter_i = _check_optimize_result(\n",
      "/opt/conda/lib/python3.9/site-packages/sklearn/linear_model/_logistic.py:444: ConvergenceWarning: lbfgs failed to converge (status=1):\n",
      "STOP: TOTAL NO. of ITERATIONS REACHED LIMIT.\n",
      "\n",
      "Increase the number of iterations (max_iter) or scale the data as shown in:\n",
      "    https://scikit-learn.org/stable/modules/preprocessing.html\n",
      "Please also refer to the documentation for alternative solver options:\n",
      "    https://scikit-learn.org/stable/modules/linear_model.html#logistic-regression\n",
      "  n_iter_i = _check_optimize_result(\n",
      "/opt/conda/lib/python3.9/site-packages/sklearn/linear_model/_logistic.py:444: ConvergenceWarning: lbfgs failed to converge (status=1):\n",
      "STOP: TOTAL NO. of ITERATIONS REACHED LIMIT.\n",
      "\n",
      "Increase the number of iterations (max_iter) or scale the data as shown in:\n",
      "    https://scikit-learn.org/stable/modules/preprocessing.html\n",
      "Please also refer to the documentation for alternative solver options:\n",
      "    https://scikit-learn.org/stable/modules/linear_model.html#logistic-regression\n",
      "  n_iter_i = _check_optimize_result(\n",
      "/opt/conda/lib/python3.9/site-packages/sklearn/linear_model/_logistic.py:444: ConvergenceWarning: lbfgs failed to converge (status=1):\n",
      "STOP: TOTAL NO. of ITERATIONS REACHED LIMIT.\n",
      "\n",
      "Increase the number of iterations (max_iter) or scale the data as shown in:\n",
      "    https://scikit-learn.org/stable/modules/preprocessing.html\n",
      "Please also refer to the documentation for alternative solver options:\n",
      "    https://scikit-learn.org/stable/modules/linear_model.html#logistic-regression\n",
      "  n_iter_i = _check_optimize_result(\n",
      "/opt/conda/lib/python3.9/site-packages/sklearn/linear_model/_logistic.py:444: ConvergenceWarning: lbfgs failed to converge (status=1):\n",
      "STOP: TOTAL NO. of ITERATIONS REACHED LIMIT.\n",
      "\n",
      "Increase the number of iterations (max_iter) or scale the data as shown in:\n",
      "    https://scikit-learn.org/stable/modules/preprocessing.html\n",
      "Please also refer to the documentation for alternative solver options:\n",
      "    https://scikit-learn.org/stable/modules/linear_model.html#logistic-regression\n",
      "  n_iter_i = _check_optimize_result(\n",
      "/opt/conda/lib/python3.9/site-packages/sklearn/linear_model/_logistic.py:444: ConvergenceWarning: lbfgs failed to converge (status=1):\n",
      "STOP: TOTAL NO. of ITERATIONS REACHED LIMIT.\n",
      "\n",
      "Increase the number of iterations (max_iter) or scale the data as shown in:\n",
      "    https://scikit-learn.org/stable/modules/preprocessing.html\n",
      "Please also refer to the documentation for alternative solver options:\n",
      "    https://scikit-learn.org/stable/modules/linear_model.html#logistic-regression\n",
      "  n_iter_i = _check_optimize_result(\n",
      "/opt/conda/lib/python3.9/site-packages/sklearn/linear_model/_logistic.py:444: ConvergenceWarning: lbfgs failed to converge (status=1):\n",
      "STOP: TOTAL NO. of ITERATIONS REACHED LIMIT.\n",
      "\n",
      "Increase the number of iterations (max_iter) or scale the data as shown in:\n",
      "    https://scikit-learn.org/stable/modules/preprocessing.html\n",
      "Please also refer to the documentation for alternative solver options:\n",
      "    https://scikit-learn.org/stable/modules/linear_model.html#logistic-regression\n",
      "  n_iter_i = _check_optimize_result(\n",
      "/opt/conda/lib/python3.9/site-packages/sklearn/linear_model/_logistic.py:444: ConvergenceWarning: lbfgs failed to converge (status=1):\n",
      "STOP: TOTAL NO. of ITERATIONS REACHED LIMIT.\n",
      "\n",
      "Increase the number of iterations (max_iter) or scale the data as shown in:\n",
      "    https://scikit-learn.org/stable/modules/preprocessing.html\n",
      "Please also refer to the documentation for alternative solver options:\n",
      "    https://scikit-learn.org/stable/modules/linear_model.html#logistic-regression\n",
      "  n_iter_i = _check_optimize_result(\n",
      "/opt/conda/lib/python3.9/site-packages/sklearn/linear_model/_logistic.py:444: ConvergenceWarning: lbfgs failed to converge (status=1):\n",
      "STOP: TOTAL NO. of ITERATIONS REACHED LIMIT.\n",
      "\n",
      "Increase the number of iterations (max_iter) or scale the data as shown in:\n",
      "    https://scikit-learn.org/stable/modules/preprocessing.html\n",
      "Please also refer to the documentation for alternative solver options:\n",
      "    https://scikit-learn.org/stable/modules/linear_model.html#logistic-regression\n",
      "  n_iter_i = _check_optimize_result(\n",
      "/opt/conda/lib/python3.9/site-packages/sklearn/linear_model/_logistic.py:444: ConvergenceWarning: lbfgs failed to converge (status=1):\n",
      "STOP: TOTAL NO. of ITERATIONS REACHED LIMIT.\n",
      "\n",
      "Increase the number of iterations (max_iter) or scale the data as shown in:\n",
      "    https://scikit-learn.org/stable/modules/preprocessing.html\n",
      "Please also refer to the documentation for alternative solver options:\n",
      "    https://scikit-learn.org/stable/modules/linear_model.html#logistic-regression\n",
      "  n_iter_i = _check_optimize_result(\n",
      "/opt/conda/lib/python3.9/site-packages/sklearn/linear_model/_logistic.py:444: ConvergenceWarning: lbfgs failed to converge (status=1):\n",
      "STOP: TOTAL NO. of ITERATIONS REACHED LIMIT.\n",
      "\n",
      "Increase the number of iterations (max_iter) or scale the data as shown in:\n",
      "    https://scikit-learn.org/stable/modules/preprocessing.html\n",
      "Please also refer to the documentation for alternative solver options:\n",
      "    https://scikit-learn.org/stable/modules/linear_model.html#logistic-regression\n",
      "  n_iter_i = _check_optimize_result(\n",
      "/opt/conda/lib/python3.9/site-packages/sklearn/linear_model/_logistic.py:444: ConvergenceWarning: lbfgs failed to converge (status=1):\n",
      "STOP: TOTAL NO. of ITERATIONS REACHED LIMIT.\n",
      "\n",
      "Increase the number of iterations (max_iter) or scale the data as shown in:\n",
      "    https://scikit-learn.org/stable/modules/preprocessing.html\n",
      "Please also refer to the documentation for alternative solver options:\n",
      "    https://scikit-learn.org/stable/modules/linear_model.html#logistic-regression\n",
      "  n_iter_i = _check_optimize_result(\n",
      "/opt/conda/lib/python3.9/site-packages/sklearn/linear_model/_logistic.py:444: ConvergenceWarning: lbfgs failed to converge (status=1):\n",
      "STOP: TOTAL NO. of ITERATIONS REACHED LIMIT.\n",
      "\n",
      "Increase the number of iterations (max_iter) or scale the data as shown in:\n",
      "    https://scikit-learn.org/stable/modules/preprocessing.html\n",
      "Please also refer to the documentation for alternative solver options:\n",
      "    https://scikit-learn.org/stable/modules/linear_model.html#logistic-regression\n",
      "  n_iter_i = _check_optimize_result(\n",
      "/opt/conda/lib/python3.9/site-packages/sklearn/linear_model/_logistic.py:444: ConvergenceWarning: lbfgs failed to converge (status=1):\n",
      "STOP: TOTAL NO. of ITERATIONS REACHED LIMIT.\n",
      "\n",
      "Increase the number of iterations (max_iter) or scale the data as shown in:\n",
      "    https://scikit-learn.org/stable/modules/preprocessing.html\n",
      "Please also refer to the documentation for alternative solver options:\n",
      "    https://scikit-learn.org/stable/modules/linear_model.html#logistic-regression\n",
      "  n_iter_i = _check_optimize_result(\n",
      "/opt/conda/lib/python3.9/site-packages/sklearn/linear_model/_logistic.py:444: ConvergenceWarning: lbfgs failed to converge (status=1):\n",
      "STOP: TOTAL NO. of ITERATIONS REACHED LIMIT.\n",
      "\n",
      "Increase the number of iterations (max_iter) or scale the data as shown in:\n",
      "    https://scikit-learn.org/stable/modules/preprocessing.html\n",
      "Please also refer to the documentation for alternative solver options:\n",
      "    https://scikit-learn.org/stable/modules/linear_model.html#logistic-regression\n",
      "  n_iter_i = _check_optimize_result(\n",
      "/opt/conda/lib/python3.9/site-packages/sklearn/linear_model/_logistic.py:444: ConvergenceWarning: lbfgs failed to converge (status=1):\n",
      "STOP: TOTAL NO. of ITERATIONS REACHED LIMIT.\n",
      "\n",
      "Increase the number of iterations (max_iter) or scale the data as shown in:\n",
      "    https://scikit-learn.org/stable/modules/preprocessing.html\n",
      "Please also refer to the documentation for alternative solver options:\n",
      "    https://scikit-learn.org/stable/modules/linear_model.html#logistic-regression\n",
      "  n_iter_i = _check_optimize_result(\n",
      "/opt/conda/lib/python3.9/site-packages/sklearn/linear_model/_logistic.py:444: ConvergenceWarning: lbfgs failed to converge (status=1):\n",
      "STOP: TOTAL NO. of ITERATIONS REACHED LIMIT.\n",
      "\n",
      "Increase the number of iterations (max_iter) or scale the data as shown in:\n",
      "    https://scikit-learn.org/stable/modules/preprocessing.html\n",
      "Please also refer to the documentation for alternative solver options:\n",
      "    https://scikit-learn.org/stable/modules/linear_model.html#logistic-regression\n",
      "  n_iter_i = _check_optimize_result(\n",
      "/opt/conda/lib/python3.9/site-packages/sklearn/linear_model/_logistic.py:444: ConvergenceWarning: lbfgs failed to converge (status=1):\n",
      "STOP: TOTAL NO. of ITERATIONS REACHED LIMIT.\n",
      "\n",
      "Increase the number of iterations (max_iter) or scale the data as shown in:\n",
      "    https://scikit-learn.org/stable/modules/preprocessing.html\n",
      "Please also refer to the documentation for alternative solver options:\n",
      "    https://scikit-learn.org/stable/modules/linear_model.html#logistic-regression\n",
      "  n_iter_i = _check_optimize_result(\n",
      "/opt/conda/lib/python3.9/site-packages/sklearn/linear_model/_logistic.py:444: ConvergenceWarning: lbfgs failed to converge (status=1):\n",
      "STOP: TOTAL NO. of ITERATIONS REACHED LIMIT.\n",
      "\n",
      "Increase the number of iterations (max_iter) or scale the data as shown in:\n",
      "    https://scikit-learn.org/stable/modules/preprocessing.html\n",
      "Please also refer to the documentation for alternative solver options:\n",
      "    https://scikit-learn.org/stable/modules/linear_model.html#logistic-regression\n",
      "  n_iter_i = _check_optimize_result(\n",
      "/opt/conda/lib/python3.9/site-packages/sklearn/linear_model/_logistic.py:444: ConvergenceWarning: lbfgs failed to converge (status=1):\n",
      "STOP: TOTAL NO. of ITERATIONS REACHED LIMIT.\n",
      "\n",
      "Increase the number of iterations (max_iter) or scale the data as shown in:\n",
      "    https://scikit-learn.org/stable/modules/preprocessing.html\n",
      "Please also refer to the documentation for alternative solver options:\n",
      "    https://scikit-learn.org/stable/modules/linear_model.html#logistic-regression\n",
      "  n_iter_i = _check_optimize_result(\n",
      "/opt/conda/lib/python3.9/site-packages/sklearn/linear_model/_logistic.py:444: ConvergenceWarning: lbfgs failed to converge (status=1):\n",
      "STOP: TOTAL NO. of ITERATIONS REACHED LIMIT.\n",
      "\n",
      "Increase the number of iterations (max_iter) or scale the data as shown in:\n",
      "    https://scikit-learn.org/stable/modules/preprocessing.html\n",
      "Please also refer to the documentation for alternative solver options:\n",
      "    https://scikit-learn.org/stable/modules/linear_model.html#logistic-regression\n",
      "  n_iter_i = _check_optimize_result(\n",
      "/opt/conda/lib/python3.9/site-packages/sklearn/linear_model/_logistic.py:444: ConvergenceWarning: lbfgs failed to converge (status=1):\n",
      "STOP: TOTAL NO. of ITERATIONS REACHED LIMIT.\n",
      "\n",
      "Increase the number of iterations (max_iter) or scale the data as shown in:\n",
      "    https://scikit-learn.org/stable/modules/preprocessing.html\n",
      "Please also refer to the documentation for alternative solver options:\n",
      "    https://scikit-learn.org/stable/modules/linear_model.html#logistic-regression\n",
      "  n_iter_i = _check_optimize_result(\n",
      "/opt/conda/lib/python3.9/site-packages/sklearn/linear_model/_logistic.py:444: ConvergenceWarning: lbfgs failed to converge (status=1):\n",
      "STOP: TOTAL NO. of ITERATIONS REACHED LIMIT.\n",
      "\n",
      "Increase the number of iterations (max_iter) or scale the data as shown in:\n",
      "    https://scikit-learn.org/stable/modules/preprocessing.html\n",
      "Please also refer to the documentation for alternative solver options:\n",
      "    https://scikit-learn.org/stable/modules/linear_model.html#logistic-regression\n",
      "  n_iter_i = _check_optimize_result(\n",
      "/opt/conda/lib/python3.9/site-packages/sklearn/linear_model/_logistic.py:444: ConvergenceWarning: lbfgs failed to converge (status=1):\n",
      "STOP: TOTAL NO. of ITERATIONS REACHED LIMIT.\n",
      "\n",
      "Increase the number of iterations (max_iter) or scale the data as shown in:\n",
      "    https://scikit-learn.org/stable/modules/preprocessing.html\n",
      "Please also refer to the documentation for alternative solver options:\n",
      "    https://scikit-learn.org/stable/modules/linear_model.html#logistic-regression\n",
      "  n_iter_i = _check_optimize_result(\n",
      "/opt/conda/lib/python3.9/site-packages/sklearn/linear_model/_logistic.py:444: ConvergenceWarning: lbfgs failed to converge (status=1):\n",
      "STOP: TOTAL NO. of ITERATIONS REACHED LIMIT.\n",
      "\n",
      "Increase the number of iterations (max_iter) or scale the data as shown in:\n",
      "    https://scikit-learn.org/stable/modules/preprocessing.html\n",
      "Please also refer to the documentation for alternative solver options:\n",
      "    https://scikit-learn.org/stable/modules/linear_model.html#logistic-regression\n",
      "  n_iter_i = _check_optimize_result(\n",
      "/opt/conda/lib/python3.9/site-packages/sklearn/linear_model/_logistic.py:444: ConvergenceWarning: lbfgs failed to converge (status=1):\n",
      "STOP: TOTAL NO. of ITERATIONS REACHED LIMIT.\n",
      "\n",
      "Increase the number of iterations (max_iter) or scale the data as shown in:\n",
      "    https://scikit-learn.org/stable/modules/preprocessing.html\n",
      "Please also refer to the documentation for alternative solver options:\n",
      "    https://scikit-learn.org/stable/modules/linear_model.html#logistic-regression\n",
      "  n_iter_i = _check_optimize_result(\n",
      "/opt/conda/lib/python3.9/site-packages/sklearn/linear_model/_logistic.py:444: ConvergenceWarning: lbfgs failed to converge (status=1):\n",
      "STOP: TOTAL NO. of ITERATIONS REACHED LIMIT.\n",
      "\n",
      "Increase the number of iterations (max_iter) or scale the data as shown in:\n",
      "    https://scikit-learn.org/stable/modules/preprocessing.html\n",
      "Please also refer to the documentation for alternative solver options:\n",
      "    https://scikit-learn.org/stable/modules/linear_model.html#logistic-regression\n",
      "  n_iter_i = _check_optimize_result(\n",
      "/opt/conda/lib/python3.9/site-packages/sklearn/linear_model/_logistic.py:444: ConvergenceWarning: lbfgs failed to converge (status=1):\n",
      "STOP: TOTAL NO. of ITERATIONS REACHED LIMIT.\n",
      "\n",
      "Increase the number of iterations (max_iter) or scale the data as shown in:\n",
      "    https://scikit-learn.org/stable/modules/preprocessing.html\n",
      "Please also refer to the documentation for alternative solver options:\n",
      "    https://scikit-learn.org/stable/modules/linear_model.html#logistic-regression\n",
      "  n_iter_i = _check_optimize_result(\n",
      "/opt/conda/lib/python3.9/site-packages/sklearn/linear_model/_logistic.py:444: ConvergenceWarning: lbfgs failed to converge (status=1):\n",
      "STOP: TOTAL NO. of ITERATIONS REACHED LIMIT.\n",
      "\n",
      "Increase the number of iterations (max_iter) or scale the data as shown in:\n",
      "    https://scikit-learn.org/stable/modules/preprocessing.html\n",
      "Please also refer to the documentation for alternative solver options:\n",
      "    https://scikit-learn.org/stable/modules/linear_model.html#logistic-regression\n",
      "  n_iter_i = _check_optimize_result(\n",
      "/opt/conda/lib/python3.9/site-packages/sklearn/linear_model/_logistic.py:444: ConvergenceWarning: lbfgs failed to converge (status=1):\n",
      "STOP: TOTAL NO. of ITERATIONS REACHED LIMIT.\n",
      "\n",
      "Increase the number of iterations (max_iter) or scale the data as shown in:\n",
      "    https://scikit-learn.org/stable/modules/preprocessing.html\n",
      "Please also refer to the documentation for alternative solver options:\n",
      "    https://scikit-learn.org/stable/modules/linear_model.html#logistic-regression\n",
      "  n_iter_i = _check_optimize_result(\n",
      "/opt/conda/lib/python3.9/site-packages/sklearn/linear_model/_logistic.py:444: ConvergenceWarning: lbfgs failed to converge (status=1):\n",
      "STOP: TOTAL NO. of ITERATIONS REACHED LIMIT.\n",
      "\n",
      "Increase the number of iterations (max_iter) or scale the data as shown in:\n",
      "    https://scikit-learn.org/stable/modules/preprocessing.html\n",
      "Please also refer to the documentation for alternative solver options:\n",
      "    https://scikit-learn.org/stable/modules/linear_model.html#logistic-regression\n",
      "  n_iter_i = _check_optimize_result(\n",
      "/opt/conda/lib/python3.9/site-packages/sklearn/linear_model/_logistic.py:444: ConvergenceWarning: lbfgs failed to converge (status=1):\n",
      "STOP: TOTAL NO. of ITERATIONS REACHED LIMIT.\n",
      "\n",
      "Increase the number of iterations (max_iter) or scale the data as shown in:\n",
      "    https://scikit-learn.org/stable/modules/preprocessing.html\n",
      "Please also refer to the documentation for alternative solver options:\n",
      "    https://scikit-learn.org/stable/modules/linear_model.html#logistic-regression\n",
      "  n_iter_i = _check_optimize_result(\n",
      "/opt/conda/lib/python3.9/site-packages/sklearn/linear_model/_logistic.py:444: ConvergenceWarning: lbfgs failed to converge (status=1):\n",
      "STOP: TOTAL NO. of ITERATIONS REACHED LIMIT.\n",
      "\n",
      "Increase the number of iterations (max_iter) or scale the data as shown in:\n",
      "    https://scikit-learn.org/stable/modules/preprocessing.html\n",
      "Please also refer to the documentation for alternative solver options:\n",
      "    https://scikit-learn.org/stable/modules/linear_model.html#logistic-regression\n",
      "  n_iter_i = _check_optimize_result(\n",
      "/opt/conda/lib/python3.9/site-packages/sklearn/linear_model/_logistic.py:444: ConvergenceWarning: lbfgs failed to converge (status=1):\n",
      "STOP: TOTAL NO. of ITERATIONS REACHED LIMIT.\n",
      "\n",
      "Increase the number of iterations (max_iter) or scale the data as shown in:\n",
      "    https://scikit-learn.org/stable/modules/preprocessing.html\n",
      "Please also refer to the documentation for alternative solver options:\n",
      "    https://scikit-learn.org/stable/modules/linear_model.html#logistic-regression\n",
      "  n_iter_i = _check_optimize_result(\n",
      "/opt/conda/lib/python3.9/site-packages/sklearn/linear_model/_logistic.py:444: ConvergenceWarning: lbfgs failed to converge (status=1):\n",
      "STOP: TOTAL NO. of ITERATIONS REACHED LIMIT.\n",
      "\n",
      "Increase the number of iterations (max_iter) or scale the data as shown in:\n",
      "    https://scikit-learn.org/stable/modules/preprocessing.html\n",
      "Please also refer to the documentation for alternative solver options:\n",
      "    https://scikit-learn.org/stable/modules/linear_model.html#logistic-regression\n",
      "  n_iter_i = _check_optimize_result(\n",
      "/opt/conda/lib/python3.9/site-packages/sklearn/linear_model/_logistic.py:444: ConvergenceWarning: lbfgs failed to converge (status=1):\n",
      "STOP: TOTAL NO. of ITERATIONS REACHED LIMIT.\n",
      "\n",
      "Increase the number of iterations (max_iter) or scale the data as shown in:\n",
      "    https://scikit-learn.org/stable/modules/preprocessing.html\n",
      "Please also refer to the documentation for alternative solver options:\n",
      "    https://scikit-learn.org/stable/modules/linear_model.html#logistic-regression\n",
      "  n_iter_i = _check_optimize_result(\n",
      "/opt/conda/lib/python3.9/site-packages/sklearn/linear_model/_logistic.py:444: ConvergenceWarning: lbfgs failed to converge (status=1):\n",
      "STOP: TOTAL NO. of ITERATIONS REACHED LIMIT.\n",
      "\n",
      "Increase the number of iterations (max_iter) or scale the data as shown in:\n",
      "    https://scikit-learn.org/stable/modules/preprocessing.html\n",
      "Please also refer to the documentation for alternative solver options:\n",
      "    https://scikit-learn.org/stable/modules/linear_model.html#logistic-regression\n",
      "  n_iter_i = _check_optimize_result(\n",
      "/opt/conda/lib/python3.9/site-packages/sklearn/linear_model/_logistic.py:444: ConvergenceWarning: lbfgs failed to converge (status=1):\n",
      "STOP: TOTAL NO. of ITERATIONS REACHED LIMIT.\n",
      "\n",
      "Increase the number of iterations (max_iter) or scale the data as shown in:\n",
      "    https://scikit-learn.org/stable/modules/preprocessing.html\n",
      "Please also refer to the documentation for alternative solver options:\n",
      "    https://scikit-learn.org/stable/modules/linear_model.html#logistic-regression\n",
      "  n_iter_i = _check_optimize_result(\n",
      "/opt/conda/lib/python3.9/site-packages/sklearn/linear_model/_logistic.py:444: ConvergenceWarning: lbfgs failed to converge (status=1):\n",
      "STOP: TOTAL NO. of ITERATIONS REACHED LIMIT.\n",
      "\n",
      "Increase the number of iterations (max_iter) or scale the data as shown in:\n",
      "    https://scikit-learn.org/stable/modules/preprocessing.html\n",
      "Please also refer to the documentation for alternative solver options:\n",
      "    https://scikit-learn.org/stable/modules/linear_model.html#logistic-regression\n",
      "  n_iter_i = _check_optimize_result(\n",
      "/opt/conda/lib/python3.9/site-packages/sklearn/model_selection/_validation.py:378: FitFailedWarning: \n",
      "50 fits failed out of a total of 100.\n",
      "The score on these train-test partitions for these parameters will be set to nan.\n",
      "If these failures are not expected, you can try to debug them by setting error_score='raise'.\n",
      "\n",
      "Below are more details about the failures:\n",
      "--------------------------------------------------------------------------------\n",
      "50 fits failed with the following error:\n",
      "Traceback (most recent call last):\n",
      "  File \"/opt/conda/lib/python3.9/site-packages/sklearn/model_selection/_validation.py\", line 686, in _fit_and_score\n",
      "    estimator.fit(X_train, y_train, **fit_params)\n",
      "  File \"/opt/conda/lib/python3.9/site-packages/sklearn/pipeline.py\", line 382, in fit\n",
      "    self._final_estimator.fit(Xt, y, **fit_params_last_step)\n",
      "  File \"/opt/conda/lib/python3.9/site-packages/sklearn/linear_model/_logistic.py\", line 1091, in fit\n",
      "    solver = _check_solver(self.solver, self.penalty, self.dual)\n",
      "  File \"/opt/conda/lib/python3.9/site-packages/sklearn/linear_model/_logistic.py\", line 61, in _check_solver\n",
      "    raise ValueError(\n",
      "ValueError: Solver lbfgs supports only 'l2' or 'none' penalties, got l1 penalty.\n",
      "\n",
      "  warnings.warn(some_fits_failed_message, FitFailedWarning)\n",
      "/opt/conda/lib/python3.9/site-packages/sklearn/model_selection/_search.py:953: UserWarning: One or more of the test scores are non-finite: [       nan 0.76698347        nan 0.76970458        nan 0.77030328\n",
      "        nan 0.77207078        nan 0.77227352        nan 0.77213828\n",
      "        nan 0.77220734        nan 0.77201323        nan 0.77234467\n",
      "        nan 0.77197826]\n",
      "  warnings.warn(\n"
     ]
    },
    {
     "name": "stdout",
     "output_type": "stream",
     "text": [
      "Лучший результат: 0.7723446727352241\n",
      "Лучшие параметры: {'model__C': 13, 'model__penalty': 'l2'}\n"
     ]
    },
    {
     "name": "stderr",
     "output_type": "stream",
     "text": [
      "/opt/conda/lib/python3.9/site-packages/sklearn/linear_model/_logistic.py:444: ConvergenceWarning: lbfgs failed to converge (status=1):\n",
      "STOP: TOTAL NO. of ITERATIONS REACHED LIMIT.\n",
      "\n",
      "Increase the number of iterations (max_iter) or scale the data as shown in:\n",
      "    https://scikit-learn.org/stable/modules/preprocessing.html\n",
      "Please also refer to the documentation for alternative solver options:\n",
      "    https://scikit-learn.org/stable/modules/linear_model.html#logistic-regression\n",
      "  n_iter_i = _check_optimize_result(\n"
     ]
    }
   ],
   "source": [
    "#Логистическая регресия\n",
    "log_reg = grid(LogisticRegression(), {\"model__C\":range(5,15), \"model__penalty\":[\"l1\", \"l2\"]})"
   ]
  },
  {
   "cell_type": "code",
   "execution_count": 42,
   "metadata": {},
   "outputs": [
    {
     "name": "stdout",
     "output_type": "stream",
     "text": [
      "Лучший результат: 0.1853794987976634\n",
      "Лучшие параметры: {'model__class_weight': 'balanced', 'model__max_depth': 5, 'model__max_features': 8}\n"
     ]
    }
   ],
   "source": [
    "#DecisionTreeClassifier\n",
    "dec_tree = grid(DecisionTreeClassifier(), {'model__class_weight':['balanced'], \n",
    "                                           'model__max_depth':range(1,10), \n",
    "                                           'model__max_features': range(1,10)})"
   ]
  },
  {
   "cell_type": "code",
   "execution_count": 43,
   "metadata": {},
   "outputs": [],
   "source": [
    "#CatBoostClassifier\n",
    "# cat_boost = grid(CatBoostClassifier(logging_level='Silent'), {'model__depth': [2, 4, 6],\n",
    "#                  'model__learning_rate' : [0.05, 0.1],\n",
    "#                   'model__iterations' : [50, 100]})"
   ]
  },
  {
   "cell_type": "markdown",
   "metadata": {},
   "source": [
    "<div class=\"alert alert-info\">\n",
    "<h2> Комментарий<a class=\"tocSkip\"> </h2>\n",
    "\n",
    "На прошлом шаге подобрала лучшие параметры для модели CatBoostClassifier, сейчас уже запускаю функцию grid только для них, так она очень долго работает\n",
    "\n",
    "</div>\n"
   ]
  },
  {
   "cell_type": "code",
   "execution_count": 44,
   "metadata": {},
   "outputs": [
    {
     "name": "stdout",
     "output_type": "stream",
     "text": [
      "Лучший результат: 0.6538555436655619\n",
      "Лучшие параметры: {'model__depth': 6, 'model__iterations': 100, 'model__learning_rate': 0.1}\n"
     ]
    }
   ],
   "source": [
    "#CatBoostClassifier\n",
    "cat_boost = grid(CatBoostClassifier(logging_level='Silent'), {'model__depth': [6],\n",
    "                 'model__learning_rate' : [0.1],\n",
    "                  'model__iterations' : [100]})"
   ]
  },
  {
   "cell_type": "code",
   "execution_count": 45,
   "metadata": {},
   "outputs": [
    {
     "data": {
      "text/html": [
       "<div>\n",
       "<style scoped>\n",
       "    .dataframe tbody tr th:only-of-type {\n",
       "        vertical-align: middle;\n",
       "    }\n",
       "\n",
       "    .dataframe tbody tr th {\n",
       "        vertical-align: top;\n",
       "    }\n",
       "\n",
       "    .dataframe thead th {\n",
       "        text-align: right;\n",
       "    }\n",
       "</style>\n",
       "<table border=\"1\" class=\"dataframe\">\n",
       "  <thead>\n",
       "    <tr style=\"text-align: right;\">\n",
       "      <th></th>\n",
       "      <th>Модель</th>\n",
       "      <th>f1_score</th>\n",
       "    </tr>\n",
       "  </thead>\n",
       "  <tbody>\n",
       "    <tr>\n",
       "      <th>0</th>\n",
       "      <td>LogisticRegression</td>\n",
       "      <td>0.772345</td>\n",
       "    </tr>\n",
       "    <tr>\n",
       "      <th>2</th>\n",
       "      <td>CatBoostClassifier</td>\n",
       "      <td>0.653856</td>\n",
       "    </tr>\n",
       "    <tr>\n",
       "      <th>1</th>\n",
       "      <td>DecisionTreeClassifier</td>\n",
       "      <td>0.185379</td>\n",
       "    </tr>\n",
       "  </tbody>\n",
       "</table>\n",
       "</div>"
      ],
      "text/plain": [
       "                   Модель  f1_score\n",
       "0      LogisticRegression  0.772345\n",
       "2      CatBoostClassifier  0.653856\n",
       "1  DecisionTreeClassifier  0.185379"
      ]
     },
     "metadata": {},
     "output_type": "display_data"
    }
   ],
   "source": [
    "# Создадим датафрйм с результатами\n",
    "results = pd.DataFrame({'Модель': ['LogisticRegression', 'DecisionTreeClassifier', 'CatBoostClassifier'],\n",
    "                        'f1_score': [log_reg.best_score_, dec_tree.best_score_, cat_boost.best_score_]})\n",
    "display(results.sort_values(by='f1_score', ascending=False))"
   ]
  },
  {
   "cell_type": "markdown",
   "metadata": {},
   "source": [
    "Лучше всего на себя показала модель Логистической регрессии, к тому же она отрабатывает быстрее всех.\n",
    "\n",
    "Отметим, что метрика качества других моделей меньше 0,75, что не подходит нам по условию задачи"
   ]
  },
  {
   "cell_type": "markdown",
   "metadata": {},
   "source": [
    "### Тестирование моделей"
   ]
  },
  {
   "cell_type": "code",
   "execution_count": 46,
   "metadata": {},
   "outputs": [
    {
     "data": {
      "text/plain": [
       "0.7831571769519263"
      ]
     },
     "execution_count": 46,
     "metadata": {},
     "output_type": "execute_result"
    }
   ],
   "source": [
    "# Проверим качество лучшей модели (LogisticRegression) на тестовой выборке.\n",
    "y_pred = log_reg.predict(test_tf_idf)\n",
    "f1_score_pred = f1_score(y_test, y_pred)\n",
    "f1_score_pred"
   ]
  },
  {
   "cell_type": "markdown",
   "metadata": {},
   "source": [
    "Итак, лучшая модель (LogisticRegression) на тестовой выборке показала отличные результаты."
   ]
  },
  {
   "cell_type": "markdown",
   "metadata": {},
   "source": [
    "## Выводы"
   ]
  },
  {
   "cell_type": "markdown",
   "metadata": {},
   "source": [
    "# Проект для «Викишоп»\n",
    "Интернет-магазин «Викишоп» запускает новый сервис. Теперь пользователи могут редактировать и дополнять описания товаров, как в вики-сообществах. То есть клиенты предлагают свои правки и комментируют изменения других. Магазину нужен инструмент, который будет искать токсичные комментарии и отправлять их на модерацию. \n",
    "\n",
    "Обучите модель классифицировать комментарии на позитивные и негативные. В вашем распоряжении набор данных с разметкой о токсичности правок.\n",
    "\n",
    "Постройте модель со значением метрики качества *F1* не меньше 0.75. \n",
    "\n",
    "---\n",
    "\n",
    "**Задачи исследования:**\n",
    "\n",
    "1. Загрузить и подготовить данные.\n",
    "2. Обучить модели. \n",
    "3. Сделайте выводы.\n",
    "\n",
    "---\n",
    "\n",
    "**Цель исследования** - построить модель для классификации комментариев на позитивные и негативные.\n",
    "\n",
    "**Описание данных**\n",
    "\n",
    "Данные находятся в файле `toxic_comments.csv`. \n",
    "- *text* — текст комментария\n",
    "- *toxic* — целевой признак.\n",
    "\n",
    "---\n",
    "\n",
    "**Загрузка данных**\n",
    "\n",
    "Данные в датасете соответствуют описанию.\n",
    "\n",
    "Количество сток - 159 292, Количество столбцов - 2. \n",
    "\n",
    "Тип данных указан верно, пропусков и дубликатов в датафрейме нет, название столбцов сответсвуют стилю написания snake_case \n",
    "\n",
    "---\n",
    "**Анализ и подготовка данных**\n",
    "\n",
    "На этапе анализа и подготовки данных:\n",
    "\n",
    "Для признака text\n",
    "- Видим, что комментарии написаны на английском языке. Для комментариев используется разный регистр и неинформативные знаки. Сделали копию датасета и привели текст к нижнему регистру, очистили от ненужных символов и лемматизировали (привели слова к начальным формам). Лемматизированный текст находится в столбце 'lemm_text'.\n",
    "- Добавили признак, длина комментария. Определили, что длина самых длинных комментариев ограничена 5000 знаков. При этом стоит обратить внимание, что текст послания не большой, но дублируется много раз. Сделали вывод, что токсичность комментария не зависит от его длины.\n",
    "\n",
    "Для признака toxic - целевой признак\n",
    "\n",
    "- Содержит два значения 0 и 1.\n",
    "- Выявили дисбаланс классов, учтем это при разбиении данных на выборки \n",
    "\n",
    "На этапе подготовки данных к обучению модели: разбили данные на тренировочную и тестовые выборки в соотношении 80:20 с учетом дисбаланса классов. Закодировали признаки с помощью TFIDF\n",
    "\n",
    "---\n",
    "\n",
    "**Обучение моделей**\n",
    "\n",
    "Для поиска лучшей модели:\n",
    "- была проведена подготовка данных \n",
    "- в качестве моделей рассматривались: LogisticRegression(), CatBoostClassifier(), DecisionTreeClassifier()\n",
    "- для моделей были подобраны гиперпараметры\n",
    "- для перебора параметров использовали функцию grid\n",
    "- в качестве метрики оценки модели была определена метрика f1_score\n",
    "\n",
    "Лучшей моделью оказалась: \n",
    "- LogisticRegression(C = 9, penalty= 'l2')\n",
    "- Метрика лучшей модели на тренировочной выборке: 0,7723\n",
    "- Метрика f1_score на тестовых данных: 0,7832"
   ]
  },
  {
   "cell_type": "code",
   "execution_count": null,
   "metadata": {},
   "outputs": [],
   "source": []
  }
 ],
 "metadata": {
  "ExecuteTimeLog": [
   {
    "duration": 1426,
    "start_time": "2024-08-08T04:46:03.980Z"
   },
   {
    "duration": 2,
    "start_time": "2024-08-08T04:46:12.681Z"
   },
   {
    "duration": 1378,
    "start_time": "2024-08-08T04:47:11.341Z"
   },
   {
    "duration": 3,
    "start_time": "2024-08-08T04:54:14.299Z"
   },
   {
    "duration": 12,
    "start_time": "2024-08-08T04:54:46.224Z"
   },
   {
    "duration": 10,
    "start_time": "2024-08-08T04:56:03.714Z"
   },
   {
    "duration": 42,
    "start_time": "2024-08-08T04:56:26.415Z"
   },
   {
    "duration": 59,
    "start_time": "2024-08-08T04:57:20.140Z"
   },
   {
    "duration": 342,
    "start_time": "2024-08-08T04:58:38.148Z"
   },
   {
    "duration": 22,
    "start_time": "2024-08-08T05:07:25.916Z"
   },
   {
    "duration": 110,
    "start_time": "2024-08-08T05:07:35.107Z"
   },
   {
    "duration": 55,
    "start_time": "2024-08-08T05:07:47.809Z"
   },
   {
    "duration": 0,
    "start_time": "2024-08-08T05:07:47.866Z"
   },
   {
    "duration": 0,
    "start_time": "2024-08-08T05:07:47.868Z"
   },
   {
    "duration": 0,
    "start_time": "2024-08-08T05:07:47.869Z"
   },
   {
    "duration": 0,
    "start_time": "2024-08-08T05:07:47.871Z"
   },
   {
    "duration": 0,
    "start_time": "2024-08-08T05:07:47.872Z"
   },
   {
    "duration": 1220,
    "start_time": "2024-08-08T05:08:08.044Z"
   },
   {
    "duration": 3,
    "start_time": "2024-08-08T05:08:09.267Z"
   },
   {
    "duration": 13,
    "start_time": "2024-08-08T05:08:09.272Z"
   },
   {
    "duration": 971,
    "start_time": "2024-08-08T05:08:09.287Z"
   },
   {
    "duration": 343,
    "start_time": "2024-08-08T05:08:10.260Z"
   },
   {
    "duration": 17,
    "start_time": "2024-08-08T05:08:10.605Z"
   },
   {
    "duration": 193,
    "start_time": "2024-08-08T05:08:45.834Z"
   },
   {
    "duration": 190,
    "start_time": "2024-08-08T05:09:15.214Z"
   },
   {
    "duration": 8,
    "start_time": "2024-08-08T05:21:41.662Z"
   },
   {
    "duration": 13,
    "start_time": "2024-08-08T05:29:26.099Z"
   },
   {
    "duration": 98,
    "start_time": "2024-08-08T05:35:04.525Z"
   },
   {
    "duration": 90,
    "start_time": "2024-08-08T05:35:16.330Z"
   },
   {
    "duration": 20,
    "start_time": "2024-08-08T05:35:54.173Z"
   },
   {
    "duration": 12,
    "start_time": "2024-08-08T05:36:03.040Z"
   },
   {
    "duration": 385,
    "start_time": "2024-08-08T05:37:44.502Z"
   },
   {
    "duration": 402,
    "start_time": "2024-08-08T05:38:43.556Z"
   },
   {
    "duration": 368,
    "start_time": "2024-08-08T05:39:52.000Z"
   },
   {
    "duration": 15,
    "start_time": "2024-08-08T05:42:17.853Z"
   },
   {
    "duration": 11,
    "start_time": "2024-08-08T05:42:44.836Z"
   },
   {
    "duration": 8,
    "start_time": "2024-08-08T05:44:02.705Z"
   },
   {
    "duration": 8,
    "start_time": "2024-08-08T05:44:47.248Z"
   },
   {
    "duration": 9,
    "start_time": "2024-08-08T05:45:05.368Z"
   },
   {
    "duration": 284,
    "start_time": "2024-08-08T05:46:36.118Z"
   },
   {
    "duration": 368,
    "start_time": "2024-08-08T05:46:52.833Z"
   },
   {
    "duration": 47,
    "start_time": "2024-08-08T05:47:13.396Z"
   },
   {
    "duration": 37,
    "start_time": "2024-08-08T05:48:26.813Z"
   },
   {
    "duration": 36,
    "start_time": "2024-08-08T05:52:58.519Z"
   },
   {
    "duration": 38,
    "start_time": "2024-08-08T05:53:15.466Z"
   },
   {
    "duration": 383,
    "start_time": "2024-08-08T05:57:47.025Z"
   },
   {
    "duration": 10,
    "start_time": "2024-08-08T05:58:06.876Z"
   },
   {
    "duration": 75,
    "start_time": "2024-08-08T05:58:30.086Z"
   },
   {
    "duration": 6,
    "start_time": "2024-08-08T05:58:38.203Z"
   },
   {
    "duration": 42,
    "start_time": "2024-08-08T05:59:28.618Z"
   },
   {
    "duration": 1253,
    "start_time": "2024-08-08T06:51:41.494Z"
   },
   {
    "duration": 1137,
    "start_time": "2024-08-08T06:53:07.468Z"
   },
   {
    "duration": 3,
    "start_time": "2024-08-08T06:53:30.792Z"
   },
   {
    "duration": 326,
    "start_time": "2024-08-08T06:53:39.182Z"
   },
   {
    "duration": 1133,
    "start_time": "2024-08-08T06:53:46.982Z"
   },
   {
    "duration": 1249,
    "start_time": "2024-08-08T06:56:19.972Z"
   },
   {
    "duration": 1270,
    "start_time": "2024-08-08T07:05:26.241Z"
   },
   {
    "duration": 1283,
    "start_time": "2024-08-08T07:05:42.018Z"
   },
   {
    "duration": 1151,
    "start_time": "2024-08-08T07:05:51.306Z"
   },
   {
    "duration": 7,
    "start_time": "2024-08-08T07:08:45.728Z"
   },
   {
    "duration": 14,
    "start_time": "2024-08-08T07:12:16.638Z"
   },
   {
    "duration": 12,
    "start_time": "2024-08-08T07:13:04.747Z"
   },
   {
    "duration": 8,
    "start_time": "2024-08-08T07:16:33.807Z"
   },
   {
    "duration": 7,
    "start_time": "2024-08-08T07:16:38.661Z"
   },
   {
    "duration": 7,
    "start_time": "2024-08-08T07:16:42.630Z"
   },
   {
    "duration": 1143,
    "start_time": "2024-08-08T07:54:24.271Z"
   },
   {
    "duration": 8,
    "start_time": "2024-08-08T09:14:58.346Z"
   },
   {
    "duration": 5,
    "start_time": "2024-08-08T09:21:43.799Z"
   },
   {
    "duration": 4,
    "start_time": "2024-08-08T09:21:44.735Z"
   },
   {
    "duration": 23,
    "start_time": "2024-08-08T09:23:20.116Z"
   },
   {
    "duration": 10,
    "start_time": "2024-08-08T09:26:23.830Z"
   },
   {
    "duration": 12,
    "start_time": "2024-08-08T09:26:52.111Z"
   },
   {
    "duration": 4,
    "start_time": "2024-08-08T09:29:11.162Z"
   },
   {
    "duration": 283,
    "start_time": "2024-08-08T09:29:31.627Z"
   },
   {
    "duration": 4,
    "start_time": "2024-08-08T09:30:00.513Z"
   },
   {
    "duration": 256,
    "start_time": "2024-08-08T09:30:01.831Z"
   },
   {
    "duration": 4,
    "start_time": "2024-08-08T09:32:06.261Z"
   },
   {
    "duration": 10,
    "start_time": "2024-08-08T09:35:30.384Z"
   },
   {
    "duration": 305030,
    "start_time": "2024-08-08T09:35:53.437Z"
   },
   {
    "duration": 10,
    "start_time": "2024-08-08T09:41:38.820Z"
   },
   {
    "duration": 3,
    "start_time": "2024-08-08T09:42:36.093Z"
   },
   {
    "duration": 78969,
    "start_time": "2024-08-08T09:42:37.274Z"
   },
   {
    "duration": 9,
    "start_time": "2024-08-08T09:45:07.554Z"
   },
   {
    "duration": 5,
    "start_time": "2024-08-08T09:50:20.381Z"
   },
   {
    "duration": 8,
    "start_time": "2024-08-08T09:50:43.901Z"
   },
   {
    "duration": 147,
    "start_time": "2024-08-08T09:51:29.995Z"
   },
   {
    "duration": 152,
    "start_time": "2024-08-08T09:52:55.304Z"
   },
   {
    "duration": 161,
    "start_time": "2024-08-08T09:54:09.927Z"
   },
   {
    "duration": 4,
    "start_time": "2024-08-08T09:59:56.373Z"
   },
   {
    "duration": 281,
    "start_time": "2024-08-08T10:23:11.438Z"
   },
   {
    "duration": 3,
    "start_time": "2024-08-08T10:23:40.286Z"
   },
   {
    "duration": 2725,
    "start_time": "2024-08-08T10:24:22.076Z"
   },
   {
    "duration": 70,
    "start_time": "2024-08-08T10:25:21.430Z"
   },
   {
    "duration": 4,
    "start_time": "2024-08-08T10:29:55.128Z"
   },
   {
    "duration": 11,
    "start_time": "2024-08-08T10:30:19.771Z"
   },
   {
    "duration": 4,
    "start_time": "2024-08-08T10:30:26.222Z"
   },
   {
    "duration": 9,
    "start_time": "2024-08-08T10:30:57.278Z"
   },
   {
    "duration": 1286,
    "start_time": "2024-08-08T10:31:44.840Z"
   },
   {
    "duration": 3,
    "start_time": "2024-08-08T10:31:46.128Z"
   },
   {
    "duration": 7,
    "start_time": "2024-08-08T10:31:46.133Z"
   },
   {
    "duration": 1346,
    "start_time": "2024-08-08T10:31:46.141Z"
   },
   {
    "duration": 323,
    "start_time": "2024-08-08T10:31:47.489Z"
   },
   {
    "duration": 18,
    "start_time": "2024-08-08T10:31:47.814Z"
   },
   {
    "duration": 213,
    "start_time": "2024-08-08T10:31:47.833Z"
   },
   {
    "duration": 17,
    "start_time": "2024-08-08T10:31:48.048Z"
   },
   {
    "duration": 7,
    "start_time": "2024-08-08T10:31:48.066Z"
   },
   {
    "duration": 76,
    "start_time": "2024-08-08T10:31:48.074Z"
   },
   {
    "duration": 13,
    "start_time": "2024-08-08T10:31:48.165Z"
   },
   {
    "duration": 36,
    "start_time": "2024-08-08T10:31:48.180Z"
   },
   {
    "duration": 65,
    "start_time": "2024-08-08T10:31:48.217Z"
   },
   {
    "duration": 387,
    "start_time": "2024-08-08T10:31:48.285Z"
   },
   {
    "duration": 11,
    "start_time": "2024-08-08T10:31:48.673Z"
   },
   {
    "duration": 6,
    "start_time": "2024-08-08T10:31:48.686Z"
   },
   {
    "duration": 10,
    "start_time": "2024-08-08T10:31:48.693Z"
   },
   {
    "duration": 44,
    "start_time": "2024-08-08T10:31:48.704Z"
   },
   {
    "duration": 1143,
    "start_time": "2024-08-08T10:31:48.750Z"
   },
   {
    "duration": 4,
    "start_time": "2024-08-08T10:31:49.894Z"
   },
   {
    "duration": 27,
    "start_time": "2024-08-08T10:31:49.899Z"
   },
   {
    "duration": 77676,
    "start_time": "2024-08-08T10:31:49.927Z"
   },
   {
    "duration": 11,
    "start_time": "2024-08-08T10:33:07.605Z"
   },
   {
    "duration": 15,
    "start_time": "2024-08-08T10:33:07.618Z"
   },
   {
    "duration": 184,
    "start_time": "2024-08-08T10:33:07.635Z"
   },
   {
    "duration": 103,
    "start_time": "2024-08-08T10:33:07.822Z"
   },
   {
    "duration": 2263,
    "start_time": "2024-08-08T10:33:07.927Z"
   },
   {
    "duration": 8,
    "start_time": "2024-08-08T10:33:10.192Z"
   },
   {
    "duration": 156,
    "start_time": "2024-08-08T10:37:05.171Z"
   },
   {
    "duration": 5,
    "start_time": "2024-08-08T10:37:06.201Z"
   },
   {
    "duration": 3,
    "start_time": "2024-08-08T10:37:32.943Z"
   },
   {
    "duration": 107,
    "start_time": "2024-08-08T10:39:01.164Z"
   },
   {
    "duration": 312,
    "start_time": "2024-08-08T10:39:40.022Z"
   },
   {
    "duration": 23,
    "start_time": "2024-08-08T10:39:43.787Z"
   },
   {
    "duration": 3,
    "start_time": "2024-08-08T10:40:05.103Z"
   },
   {
    "duration": 212,
    "start_time": "2024-08-08T10:40:05.802Z"
   },
   {
    "duration": 6,
    "start_time": "2024-08-08T10:42:22.913Z"
   },
   {
    "duration": 16,
    "start_time": "2024-08-08T10:42:31.882Z"
   },
   {
    "duration": 22,
    "start_time": "2024-08-08T10:43:08.367Z"
   },
   {
    "duration": 15,
    "start_time": "2024-08-08T10:43:34.542Z"
   },
   {
    "duration": 11,
    "start_time": "2024-08-08T10:43:58.235Z"
   },
   {
    "duration": 11,
    "start_time": "2024-08-08T10:44:05.472Z"
   },
   {
    "duration": 15,
    "start_time": "2024-08-08T10:44:27.745Z"
   },
   {
    "duration": 14,
    "start_time": "2024-08-08T10:44:50.940Z"
   },
   {
    "duration": 16,
    "start_time": "2024-08-08T10:45:09.663Z"
   },
   {
    "duration": 15,
    "start_time": "2024-08-08T10:45:17.487Z"
   },
   {
    "duration": 24,
    "start_time": "2024-08-08T10:45:48.414Z"
   },
   {
    "duration": 24,
    "start_time": "2024-08-08T10:46:55.150Z"
   },
   {
    "duration": 23,
    "start_time": "2024-08-08T10:47:04.136Z"
   },
   {
    "duration": 28,
    "start_time": "2024-08-08T10:48:43.480Z"
   },
   {
    "duration": 2475,
    "start_time": "2024-08-08T10:51:44.796Z"
   },
   {
    "duration": 5,
    "start_time": "2024-08-08T10:51:51.800Z"
   },
   {
    "duration": 13,
    "start_time": "2024-08-08T10:53:24.977Z"
   },
   {
    "duration": 12,
    "start_time": "2024-08-08T10:53:36.011Z"
   },
   {
    "duration": 7328,
    "start_time": "2024-08-08T10:53:47.916Z"
   },
   {
    "duration": 9,
    "start_time": "2024-08-08T10:54:59.524Z"
   },
   {
    "duration": 423,
    "start_time": "2024-08-08T10:55:36.337Z"
   },
   {
    "duration": 30,
    "start_time": "2024-08-08T10:55:44.804Z"
   },
   {
    "duration": 5,
    "start_time": "2024-08-08T10:56:24.062Z"
   },
   {
    "duration": 4,
    "start_time": "2024-08-08T10:56:33.016Z"
   },
   {
    "duration": 11,
    "start_time": "2024-08-08T10:57:23.308Z"
   },
   {
    "duration": 10384,
    "start_time": "2024-08-08T10:58:10.438Z"
   },
   {
    "duration": 4,
    "start_time": "2024-08-08T10:58:47.920Z"
   },
   {
    "duration": 1771,
    "start_time": "2024-08-08T12:59:42.779Z"
   },
   {
    "duration": 3,
    "start_time": "2024-08-08T12:59:44.553Z"
   },
   {
    "duration": 12,
    "start_time": "2024-08-08T12:59:44.557Z"
   },
   {
    "duration": 925,
    "start_time": "2024-08-08T12:59:44.571Z"
   },
   {
    "duration": 406,
    "start_time": "2024-08-08T12:59:45.499Z"
   },
   {
    "duration": 16,
    "start_time": "2024-08-08T12:59:45.906Z"
   },
   {
    "duration": 210,
    "start_time": "2024-08-08T12:59:45.924Z"
   },
   {
    "duration": 7,
    "start_time": "2024-08-08T12:59:46.136Z"
   },
   {
    "duration": 21,
    "start_time": "2024-08-08T12:59:46.145Z"
   },
   {
    "duration": 90,
    "start_time": "2024-08-08T12:59:46.167Z"
   },
   {
    "duration": 12,
    "start_time": "2024-08-08T12:59:46.266Z"
   },
   {
    "duration": 40,
    "start_time": "2024-08-08T12:59:46.280Z"
   },
   {
    "duration": 57,
    "start_time": "2024-08-08T12:59:46.322Z"
   },
   {
    "duration": 376,
    "start_time": "2024-08-08T12:59:46.381Z"
   },
   {
    "duration": 15,
    "start_time": "2024-08-08T12:59:46.759Z"
   },
   {
    "duration": 31,
    "start_time": "2024-08-08T12:59:46.775Z"
   },
   {
    "duration": 7,
    "start_time": "2024-08-08T12:59:46.809Z"
   },
   {
    "duration": 31,
    "start_time": "2024-08-08T12:59:46.817Z"
   },
   {
    "duration": 1146,
    "start_time": "2024-08-08T12:59:46.850Z"
   },
   {
    "duration": 3,
    "start_time": "2024-08-08T12:59:47.997Z"
   },
   {
    "duration": 7,
    "start_time": "2024-08-08T12:59:48.002Z"
   },
   {
    "duration": 78241,
    "start_time": "2024-08-08T12:59:48.010Z"
   },
   {
    "duration": 13,
    "start_time": "2024-08-08T13:01:06.253Z"
   },
   {
    "duration": 6,
    "start_time": "2024-08-08T13:01:06.268Z"
   },
   {
    "duration": 184,
    "start_time": "2024-08-08T13:01:06.275Z"
   },
   {
    "duration": 104,
    "start_time": "2024-08-08T13:01:06.461Z"
   },
   {
    "duration": 26,
    "start_time": "2024-08-08T13:01:06.567Z"
   },
   {
    "duration": 205,
    "start_time": "2024-08-08T13:01:06.594Z"
   },
   {
    "duration": 24,
    "start_time": "2024-08-08T13:01:06.800Z"
   },
   {
    "duration": 2903,
    "start_time": "2024-08-08T13:01:06.825Z"
   },
   {
    "duration": 4,
    "start_time": "2024-08-08T13:01:09.729Z"
   },
   {
    "duration": 55,
    "start_time": "2024-08-08T13:01:09.734Z"
   },
   {
    "duration": 9710,
    "start_time": "2024-08-08T13:01:09.791Z"
   },
   {
    "duration": 4,
    "start_time": "2024-08-08T13:01:19.503Z"
   },
   {
    "duration": 2,
    "start_time": "2024-08-08T13:15:11.798Z"
   },
   {
    "duration": 1725,
    "start_time": "2024-08-08T13:15:27.904Z"
   },
   {
    "duration": 2,
    "start_time": "2024-08-08T13:15:29.631Z"
   },
   {
    "duration": 4,
    "start_time": "2024-08-08T13:15:29.635Z"
   },
   {
    "duration": 965,
    "start_time": "2024-08-08T13:15:29.640Z"
   },
   {
    "duration": 448,
    "start_time": "2024-08-08T13:15:30.607Z"
   },
   {
    "duration": 20,
    "start_time": "2024-08-08T13:15:31.057Z"
   },
   {
    "duration": 254,
    "start_time": "2024-08-08T13:15:31.079Z"
   },
   {
    "duration": 9,
    "start_time": "2024-08-08T13:15:31.335Z"
   },
   {
    "duration": 56,
    "start_time": "2024-08-08T13:15:31.345Z"
   },
   {
    "duration": 111,
    "start_time": "2024-08-08T13:15:31.403Z"
   },
   {
    "duration": 13,
    "start_time": "2024-08-08T13:15:31.516Z"
   },
   {
    "duration": 64,
    "start_time": "2024-08-08T13:15:31.531Z"
   },
   {
    "duration": 37,
    "start_time": "2024-08-08T13:15:31.597Z"
   },
   {
    "duration": 388,
    "start_time": "2024-08-08T13:15:31.638Z"
   },
   {
    "duration": 12,
    "start_time": "2024-08-08T13:15:32.028Z"
   },
   {
    "duration": 23,
    "start_time": "2024-08-08T13:15:32.042Z"
   },
   {
    "duration": 8,
    "start_time": "2024-08-08T13:15:32.067Z"
   },
   {
    "duration": 39,
    "start_time": "2024-08-08T13:15:32.077Z"
   },
   {
    "duration": 1164,
    "start_time": "2024-08-08T13:15:32.119Z"
   },
   {
    "duration": 3,
    "start_time": "2024-08-08T13:15:33.285Z"
   },
   {
    "duration": 17,
    "start_time": "2024-08-08T13:15:33.289Z"
   },
   {
    "duration": 78098,
    "start_time": "2024-08-08T13:15:33.307Z"
   },
   {
    "duration": 10,
    "start_time": "2024-08-08T13:16:51.407Z"
   },
   {
    "duration": 15,
    "start_time": "2024-08-08T13:16:51.419Z"
   },
   {
    "duration": 189,
    "start_time": "2024-08-08T13:16:51.435Z"
   },
   {
    "duration": 3,
    "start_time": "2024-08-08T13:16:51.625Z"
   },
   {
    "duration": 5,
    "start_time": "2024-08-08T13:16:51.630Z"
   },
   {
    "duration": 120,
    "start_time": "2024-08-08T13:16:51.637Z"
   },
   {
    "duration": 11,
    "start_time": "2024-08-08T13:16:51.758Z"
   },
   {
    "duration": 2550,
    "start_time": "2024-08-08T13:16:51.771Z"
   },
   {
    "duration": 4,
    "start_time": "2024-08-08T13:16:54.322Z"
   },
   {
    "duration": 6,
    "start_time": "2024-08-08T13:16:54.328Z"
   },
   {
    "duration": 9582,
    "start_time": "2024-08-08T13:16:54.335Z"
   },
   {
    "duration": 4,
    "start_time": "2024-08-08T13:17:03.918Z"
   },
   {
    "duration": 8,
    "start_time": "2024-08-08T13:17:33.360Z"
   },
   {
    "duration": 8,
    "start_time": "2024-08-08T13:17:50.363Z"
   },
   {
    "duration": 142,
    "start_time": "2024-08-08T15:11:26.227Z"
   },
   {
    "duration": 30764,
    "start_time": "2024-08-08T15:13:02.312Z"
   },
   {
    "duration": 4,
    "start_time": "2024-08-08T15:16:46.584Z"
   },
   {
    "duration": 181,
    "start_time": "2024-08-08T15:49:24.566Z"
   },
   {
    "duration": 3,
    "start_time": "2024-08-08T15:49:49.234Z"
   },
   {
    "duration": 12,
    "start_time": "2024-08-08T16:05:44.576Z"
   },
   {
    "duration": 1678,
    "start_time": "2024-08-08T16:06:31.218Z"
   },
   {
    "duration": 3,
    "start_time": "2024-08-08T16:06:32.899Z"
   },
   {
    "duration": 12,
    "start_time": "2024-08-08T16:06:32.904Z"
   },
   {
    "duration": 999,
    "start_time": "2024-08-08T16:06:32.918Z"
   },
   {
    "duration": 409,
    "start_time": "2024-08-08T16:06:33.920Z"
   },
   {
    "duration": 16,
    "start_time": "2024-08-08T16:06:34.331Z"
   },
   {
    "duration": 212,
    "start_time": "2024-08-08T16:06:34.348Z"
   },
   {
    "duration": 9,
    "start_time": "2024-08-08T16:06:34.562Z"
   },
   {
    "duration": 6,
    "start_time": "2024-08-08T16:06:34.572Z"
   },
   {
    "duration": 68,
    "start_time": "2024-08-08T16:06:34.580Z"
   },
   {
    "duration": 26,
    "start_time": "2024-08-08T16:06:34.649Z"
   },
   {
    "duration": 33,
    "start_time": "2024-08-08T16:06:34.677Z"
   },
   {
    "duration": 57,
    "start_time": "2024-08-08T16:06:34.712Z"
   },
   {
    "duration": 351,
    "start_time": "2024-08-08T16:06:34.772Z"
   },
   {
    "duration": 12,
    "start_time": "2024-08-08T16:06:35.124Z"
   },
   {
    "duration": 7,
    "start_time": "2024-08-08T16:06:35.138Z"
   },
   {
    "duration": 23,
    "start_time": "2024-08-08T16:06:35.147Z"
   },
   {
    "duration": 30,
    "start_time": "2024-08-08T16:06:35.172Z"
   },
   {
    "duration": 1258,
    "start_time": "2024-08-08T16:06:35.204Z"
   },
   {
    "duration": 3,
    "start_time": "2024-08-08T16:06:36.464Z"
   },
   {
    "duration": 5,
    "start_time": "2024-08-08T16:06:36.469Z"
   },
   {
    "duration": 85722,
    "start_time": "2024-08-08T16:06:36.475Z"
   },
   {
    "duration": 9,
    "start_time": "2024-08-08T16:08:02.199Z"
   },
   {
    "duration": 91,
    "start_time": "2024-08-08T16:08:02.210Z"
   },
   {
    "duration": 211,
    "start_time": "2024-08-08T16:08:02.303Z"
   },
   {
    "duration": 2,
    "start_time": "2024-08-08T16:08:02.516Z"
   },
   {
    "duration": 13,
    "start_time": "2024-08-08T16:08:02.519Z"
   },
   {
    "duration": 121,
    "start_time": "2024-08-08T16:08:02.533Z"
   },
   {
    "duration": 13,
    "start_time": "2024-08-08T16:08:02.656Z"
   },
   {
    "duration": 3131,
    "start_time": "2024-08-08T16:08:02.672Z"
   },
   {
    "duration": 16,
    "start_time": "2024-08-08T16:08:05.805Z"
   },
   {
    "duration": 5,
    "start_time": "2024-08-08T16:08:05.822Z"
   },
   {
    "duration": 10880,
    "start_time": "2024-08-08T16:08:05.829Z"
   },
   {
    "duration": 5,
    "start_time": "2024-08-08T16:08:16.711Z"
   },
   {
    "duration": 28613,
    "start_time": "2024-08-08T16:08:16.718Z"
   },
   {
    "duration": 0,
    "start_time": "2024-08-08T16:08:45.332Z"
   },
   {
    "duration": 0,
    "start_time": "2024-08-08T16:08:45.334Z"
   },
   {
    "duration": 0,
    "start_time": "2024-08-08T16:08:45.336Z"
   },
   {
    "duration": 29901,
    "start_time": "2024-08-08T16:09:32.895Z"
   },
   {
    "duration": 5,
    "start_time": "2024-08-08T16:10:43.574Z"
   },
   {
    "duration": 3,
    "start_time": "2024-08-08T16:10:44.411Z"
   },
   {
    "duration": 12,
    "start_time": "2024-08-08T16:10:50.196Z"
   },
   {
    "duration": 6730,
    "start_time": "2024-08-08T16:15:23.834Z"
   },
   {
    "duration": 1828,
    "start_time": "2024-08-08T16:15:30.568Z"
   },
   {
    "duration": 3,
    "start_time": "2024-08-08T16:15:32.397Z"
   },
   {
    "duration": 77,
    "start_time": "2024-08-08T16:15:32.402Z"
   },
   {
    "duration": 1378,
    "start_time": "2024-08-08T16:15:32.481Z"
   },
   {
    "duration": 339,
    "start_time": "2024-08-08T16:15:33.860Z"
   },
   {
    "duration": 17,
    "start_time": "2024-08-08T16:15:34.201Z"
   },
   {
    "duration": 215,
    "start_time": "2024-08-08T16:15:34.220Z"
   },
   {
    "duration": 7,
    "start_time": "2024-08-08T16:15:34.437Z"
   },
   {
    "duration": 32,
    "start_time": "2024-08-08T16:15:34.446Z"
   },
   {
    "duration": 67,
    "start_time": "2024-08-08T16:15:34.482Z"
   },
   {
    "duration": 16,
    "start_time": "2024-08-08T16:15:34.550Z"
   },
   {
    "duration": 39,
    "start_time": "2024-08-08T16:15:34.568Z"
   },
   {
    "duration": 58,
    "start_time": "2024-08-08T16:15:34.610Z"
   },
   {
    "duration": 421,
    "start_time": "2024-08-08T16:15:34.670Z"
   },
   {
    "duration": 15,
    "start_time": "2024-08-08T16:15:35.093Z"
   },
   {
    "duration": 7,
    "start_time": "2024-08-08T16:15:35.109Z"
   },
   {
    "duration": 18,
    "start_time": "2024-08-08T16:15:35.117Z"
   },
   {
    "duration": 34,
    "start_time": "2024-08-08T16:15:35.137Z"
   },
   {
    "duration": 1253,
    "start_time": "2024-08-08T16:15:35.174Z"
   },
   {
    "duration": 4,
    "start_time": "2024-08-08T16:15:36.428Z"
   },
   {
    "duration": 36,
    "start_time": "2024-08-08T16:15:36.433Z"
   },
   {
    "duration": 83838,
    "start_time": "2024-08-08T16:15:36.471Z"
   },
   {
    "duration": 9,
    "start_time": "2024-08-08T16:17:00.311Z"
   },
   {
    "duration": 89,
    "start_time": "2024-08-08T16:17:00.322Z"
   },
   {
    "duration": 274,
    "start_time": "2024-08-08T16:17:00.413Z"
   },
   {
    "duration": 3,
    "start_time": "2024-08-08T16:17:00.688Z"
   },
   {
    "duration": 64,
    "start_time": "2024-08-08T16:17:00.693Z"
   },
   {
    "duration": 193,
    "start_time": "2024-08-08T16:17:00.759Z"
   },
   {
    "duration": 11,
    "start_time": "2024-08-08T16:17:00.954Z"
   },
   {
    "duration": 2526,
    "start_time": "2024-08-08T16:17:00.967Z"
   },
   {
    "duration": 4,
    "start_time": "2024-08-08T16:17:03.495Z"
   },
   {
    "duration": 3,
    "start_time": "2024-08-08T16:17:03.501Z"
   },
   {
    "duration": 10160,
    "start_time": "2024-08-08T16:17:03.506Z"
   },
   {
    "duration": 3,
    "start_time": "2024-08-08T16:17:13.668Z"
   },
   {
    "duration": 29795,
    "start_time": "2024-08-08T16:17:13.672Z"
   },
   {
    "duration": 5,
    "start_time": "2024-08-08T16:17:43.469Z"
   },
   {
    "duration": 18,
    "start_time": "2024-08-08T16:17:43.475Z"
   },
   {
    "duration": 172,
    "start_time": "2024-08-08T16:17:43.494Z"
   },
   {
    "duration": 10,
    "start_time": "2024-08-08T16:27:50.878Z"
   },
   {
    "duration": 8,
    "start_time": "2024-08-08T16:28:43.958Z"
   },
   {
    "duration": 2,
    "start_time": "2024-08-08T16:28:52.061Z"
   },
   {
    "duration": 3,
    "start_time": "2024-08-08T16:28:55.106Z"
   },
   {
    "duration": 17,
    "start_time": "2024-08-08T16:29:49.272Z"
   },
   {
    "duration": 14,
    "start_time": "2024-08-08T16:34:34.712Z"
   },
   {
    "duration": 67,
    "start_time": "2024-08-08T16:37:04.232Z"
   },
   {
    "duration": 3,
    "start_time": "2024-08-08T16:37:15.359Z"
   },
   {
    "duration": 63,
    "start_time": "2024-08-08T16:37:16.087Z"
   },
   {
    "duration": 3,
    "start_time": "2024-08-08T16:37:31.900Z"
   },
   {
    "duration": 70,
    "start_time": "2024-08-08T16:37:35.044Z"
   },
   {
    "duration": 4,
    "start_time": "2024-08-08T16:38:00.340Z"
   },
   {
    "duration": 68,
    "start_time": "2024-08-08T16:38:01.028Z"
   },
   {
    "duration": 62,
    "start_time": "2024-08-08T16:38:19.758Z"
   },
   {
    "duration": 71,
    "start_time": "2024-08-08T16:38:30.265Z"
   },
   {
    "duration": 4,
    "start_time": "2024-08-08T16:38:37.173Z"
   },
   {
    "duration": 4,
    "start_time": "2024-08-08T16:38:45.964Z"
   },
   {
    "duration": 11,
    "start_time": "2024-08-08T16:39:03.912Z"
   },
   {
    "duration": 5,
    "start_time": "2024-08-08T16:39:40.048Z"
   },
   {
    "duration": 11,
    "start_time": "2024-08-08T16:39:47.708Z"
   },
   {
    "duration": 2,
    "start_time": "2024-08-08T16:46:21.971Z"
   },
   {
    "duration": 9,
    "start_time": "2024-08-08T16:46:57.270Z"
   },
   {
    "duration": 9,
    "start_time": "2024-08-08T16:47:07.513Z"
   },
   {
    "duration": 3,
    "start_time": "2024-08-08T16:47:19.665Z"
   },
   {
    "duration": 3,
    "start_time": "2024-08-08T16:47:20.487Z"
   },
   {
    "duration": 43,
    "start_time": "2024-08-08T16:47:58.616Z"
   },
   {
    "duration": 10,
    "start_time": "2024-08-08T16:49:53.576Z"
   },
   {
    "duration": 4,
    "start_time": "2024-08-08T16:51:23.578Z"
   },
   {
    "duration": 68,
    "start_time": "2024-08-08T16:51:48.251Z"
   },
   {
    "duration": 4,
    "start_time": "2024-08-08T16:57:13.636Z"
   },
   {
    "duration": 11,
    "start_time": "2024-08-08T16:57:36.371Z"
   },
   {
    "duration": 50,
    "start_time": "2024-08-08T16:58:03.386Z"
   },
   {
    "duration": 2526,
    "start_time": "2024-08-08T16:58:09.675Z"
   },
   {
    "duration": 2083,
    "start_time": "2024-08-08T16:58:12.205Z"
   },
   {
    "duration": 3,
    "start_time": "2024-08-08T16:58:14.289Z"
   },
   {
    "duration": 3,
    "start_time": "2024-08-08T16:58:14.294Z"
   },
   {
    "duration": 1297,
    "start_time": "2024-08-08T16:58:14.299Z"
   },
   {
    "duration": 337,
    "start_time": "2024-08-08T16:58:15.598Z"
   },
   {
    "duration": 17,
    "start_time": "2024-08-08T16:58:15.937Z"
   },
   {
    "duration": 234,
    "start_time": "2024-08-08T16:58:15.964Z"
   },
   {
    "duration": 8,
    "start_time": "2024-08-08T16:58:16.200Z"
   },
   {
    "duration": 26,
    "start_time": "2024-08-08T16:58:16.210Z"
   },
   {
    "duration": 70,
    "start_time": "2024-08-08T16:58:16.238Z"
   },
   {
    "duration": 14,
    "start_time": "2024-08-08T16:58:16.310Z"
   },
   {
    "duration": 55,
    "start_time": "2024-08-08T16:58:16.325Z"
   },
   {
    "duration": 36,
    "start_time": "2024-08-08T16:58:16.384Z"
   },
   {
    "duration": 374,
    "start_time": "2024-08-08T16:58:16.421Z"
   },
   {
    "duration": 12,
    "start_time": "2024-08-08T16:58:16.796Z"
   },
   {
    "duration": 7,
    "start_time": "2024-08-08T16:58:16.809Z"
   },
   {
    "duration": 8,
    "start_time": "2024-08-08T16:58:16.817Z"
   },
   {
    "duration": 39,
    "start_time": "2024-08-08T16:58:16.827Z"
   },
   {
    "duration": 1257,
    "start_time": "2024-08-08T16:58:16.869Z"
   },
   {
    "duration": 3,
    "start_time": "2024-08-08T16:58:18.128Z"
   },
   {
    "duration": 5,
    "start_time": "2024-08-08T16:58:18.133Z"
   },
   {
    "duration": 77786,
    "start_time": "2024-08-08T16:58:18.140Z"
   },
   {
    "duration": 9,
    "start_time": "2024-08-08T16:59:35.928Z"
   },
   {
    "duration": 51,
    "start_time": "2024-08-08T16:59:35.939Z"
   },
   {
    "duration": 186,
    "start_time": "2024-08-08T16:59:35.992Z"
   },
   {
    "duration": 3,
    "start_time": "2024-08-08T16:59:36.180Z"
   },
   {
    "duration": 5,
    "start_time": "2024-08-08T16:59:36.184Z"
   },
   {
    "duration": 106,
    "start_time": "2024-08-08T16:59:36.190Z"
   },
   {
    "duration": 8,
    "start_time": "2024-08-08T16:59:36.297Z"
   },
   {
    "duration": 2681,
    "start_time": "2024-08-08T16:59:36.306Z"
   },
   {
    "duration": 14,
    "start_time": "2024-08-08T16:59:38.989Z"
   },
   {
    "duration": 3,
    "start_time": "2024-08-08T16:59:39.005Z"
   },
   {
    "duration": 9765,
    "start_time": "2024-08-08T16:59:39.009Z"
   },
   {
    "duration": 4,
    "start_time": "2024-08-08T16:59:48.776Z"
   },
   {
    "duration": 2467,
    "start_time": "2024-08-08T17:00:45.318Z"
   },
   {
    "duration": 2113,
    "start_time": "2024-08-08T17:00:47.787Z"
   },
   {
    "duration": 3,
    "start_time": "2024-08-08T17:00:49.902Z"
   },
   {
    "duration": 5,
    "start_time": "2024-08-08T17:00:49.908Z"
   },
   {
    "duration": 1244,
    "start_time": "2024-08-08T17:00:49.915Z"
   },
   {
    "duration": 334,
    "start_time": "2024-08-08T17:00:51.161Z"
   },
   {
    "duration": 17,
    "start_time": "2024-08-08T17:00:51.497Z"
   },
   {
    "duration": 212,
    "start_time": "2024-08-08T17:00:51.516Z"
   },
   {
    "duration": 8,
    "start_time": "2024-08-08T17:00:51.730Z"
   },
   {
    "duration": 21,
    "start_time": "2024-08-08T17:00:51.741Z"
   },
   {
    "duration": 90,
    "start_time": "2024-08-08T17:00:51.764Z"
   },
   {
    "duration": 21,
    "start_time": "2024-08-08T17:00:51.855Z"
   },
   {
    "duration": 41,
    "start_time": "2024-08-08T17:00:51.878Z"
   },
   {
    "duration": 64,
    "start_time": "2024-08-08T17:00:51.921Z"
   },
   {
    "duration": 366,
    "start_time": "2024-08-08T17:00:51.988Z"
   },
   {
    "duration": 18,
    "start_time": "2024-08-08T17:00:52.356Z"
   },
   {
    "duration": 71,
    "start_time": "2024-08-08T17:00:52.375Z"
   },
   {
    "duration": 11,
    "start_time": "2024-08-08T17:00:52.448Z"
   },
   {
    "duration": 15,
    "start_time": "2024-08-08T17:00:52.461Z"
   },
   {
    "duration": 1254,
    "start_time": "2024-08-08T17:00:52.477Z"
   },
   {
    "duration": 3,
    "start_time": "2024-08-08T17:00:53.732Z"
   },
   {
    "duration": 33,
    "start_time": "2024-08-08T17:00:53.737Z"
   },
   {
    "duration": 77236,
    "start_time": "2024-08-08T17:00:53.772Z"
   },
   {
    "duration": 9,
    "start_time": "2024-08-08T17:02:11.009Z"
   },
   {
    "duration": 53,
    "start_time": "2024-08-08T17:02:11.019Z"
   },
   {
    "duration": 176,
    "start_time": "2024-08-08T17:02:11.074Z"
   },
   {
    "duration": 2,
    "start_time": "2024-08-08T17:02:11.253Z"
   },
   {
    "duration": 2,
    "start_time": "2024-08-08T17:02:11.265Z"
   },
   {
    "duration": 106,
    "start_time": "2024-08-08T17:02:11.269Z"
   },
   {
    "duration": 7,
    "start_time": "2024-08-08T17:02:11.377Z"
   },
   {
    "duration": 2309,
    "start_time": "2024-08-08T17:02:11.386Z"
   },
   {
    "duration": 5,
    "start_time": "2024-08-08T17:02:13.696Z"
   },
   {
    "duration": 7,
    "start_time": "2024-08-08T17:02:13.702Z"
   },
   {
    "duration": 9785,
    "start_time": "2024-08-08T17:02:13.710Z"
   },
   {
    "duration": 4,
    "start_time": "2024-08-08T17:02:23.496Z"
   },
   {
    "duration": 29973,
    "start_time": "2024-08-08T17:02:23.501Z"
   },
   {
    "duration": 5,
    "start_time": "2024-08-08T17:02:53.475Z"
   },
   {
    "duration": 21,
    "start_time": "2024-08-08T17:02:53.481Z"
   },
   {
    "duration": 9,
    "start_time": "2024-08-08T17:03:32.689Z"
   },
   {
    "duration": 44,
    "start_time": "2024-08-08T17:03:36.037Z"
   },
   {
    "duration": 2493,
    "start_time": "2024-08-08T17:03:41.920Z"
   },
   {
    "duration": 2115,
    "start_time": "2024-08-08T17:03:44.416Z"
   },
   {
    "duration": 3,
    "start_time": "2024-08-08T17:03:46.532Z"
   },
   {
    "duration": 52,
    "start_time": "2024-08-08T17:03:46.537Z"
   },
   {
    "duration": 1247,
    "start_time": "2024-08-08T17:03:46.590Z"
   },
   {
    "duration": 341,
    "start_time": "2024-08-08T17:03:47.838Z"
   },
   {
    "duration": 17,
    "start_time": "2024-08-08T17:03:48.180Z"
   },
   {
    "duration": 211,
    "start_time": "2024-08-08T17:03:48.199Z"
   },
   {
    "duration": 7,
    "start_time": "2024-08-08T17:03:48.412Z"
   },
   {
    "duration": 42,
    "start_time": "2024-08-08T17:03:48.422Z"
   },
   {
    "duration": 95,
    "start_time": "2024-08-08T17:03:48.466Z"
   },
   {
    "duration": 11,
    "start_time": "2024-08-08T17:03:48.563Z"
   },
   {
    "duration": 56,
    "start_time": "2024-08-08T17:03:48.576Z"
   },
   {
    "duration": 35,
    "start_time": "2024-08-08T17:03:48.633Z"
   },
   {
    "duration": 345,
    "start_time": "2024-08-08T17:03:48.670Z"
   },
   {
    "duration": 11,
    "start_time": "2024-08-08T17:03:49.017Z"
   },
   {
    "duration": 9,
    "start_time": "2024-08-08T17:03:49.029Z"
   },
   {
    "duration": 25,
    "start_time": "2024-08-08T17:03:49.040Z"
   },
   {
    "duration": 27,
    "start_time": "2024-08-08T17:03:49.067Z"
   },
   {
    "duration": 1211,
    "start_time": "2024-08-08T17:03:49.095Z"
   },
   {
    "duration": 3,
    "start_time": "2024-08-08T17:03:50.308Z"
   },
   {
    "duration": 4,
    "start_time": "2024-08-08T17:03:50.313Z"
   },
   {
    "duration": 76878,
    "start_time": "2024-08-08T17:03:50.318Z"
   },
   {
    "duration": 9,
    "start_time": "2024-08-08T17:05:07.198Z"
   },
   {
    "duration": 7,
    "start_time": "2024-08-08T17:05:07.209Z"
   },
   {
    "duration": 189,
    "start_time": "2024-08-08T17:05:07.218Z"
   },
   {
    "duration": 2,
    "start_time": "2024-08-08T17:05:07.409Z"
   },
   {
    "duration": 6,
    "start_time": "2024-08-08T17:05:07.414Z"
   },
   {
    "duration": 111,
    "start_time": "2024-08-08T17:05:07.421Z"
   },
   {
    "duration": 9,
    "start_time": "2024-08-08T17:05:07.534Z"
   },
   {
    "duration": 2376,
    "start_time": "2024-08-08T17:05:07.545Z"
   },
   {
    "duration": 4,
    "start_time": "2024-08-08T17:05:09.923Z"
   },
   {
    "duration": 15,
    "start_time": "2024-08-08T17:05:09.929Z"
   },
   {
    "duration": 9637,
    "start_time": "2024-08-08T17:05:09.946Z"
   },
   {
    "duration": 5,
    "start_time": "2024-08-08T17:05:19.584Z"
   },
   {
    "duration": 49,
    "start_time": "2024-08-08T17:05:45.191Z"
   },
   {
    "duration": 2492,
    "start_time": "2024-08-08T17:05:54.979Z"
   },
   {
    "duration": 1986,
    "start_time": "2024-08-08T17:05:57.474Z"
   },
   {
    "duration": 3,
    "start_time": "2024-08-08T17:05:59.461Z"
   },
   {
    "duration": 25,
    "start_time": "2024-08-08T17:05:59.466Z"
   },
   {
    "duration": 1300,
    "start_time": "2024-08-08T17:05:59.493Z"
   },
   {
    "duration": 329,
    "start_time": "2024-08-08T17:06:00.796Z"
   },
   {
    "duration": 17,
    "start_time": "2024-08-08T17:06:01.127Z"
   },
   {
    "duration": 223,
    "start_time": "2024-08-08T17:06:01.146Z"
   },
   {
    "duration": 7,
    "start_time": "2024-08-08T17:06:01.371Z"
   },
   {
    "duration": 43,
    "start_time": "2024-08-08T17:06:01.380Z"
   },
   {
    "duration": 134,
    "start_time": "2024-08-08T17:06:01.424Z"
   },
   {
    "duration": 22,
    "start_time": "2024-08-08T17:06:01.560Z"
   },
   {
    "duration": 59,
    "start_time": "2024-08-08T17:06:01.584Z"
   },
   {
    "duration": 78,
    "start_time": "2024-08-08T17:06:01.647Z"
   },
   {
    "duration": 418,
    "start_time": "2024-08-08T17:06:01.727Z"
   },
   {
    "duration": 19,
    "start_time": "2024-08-08T17:06:02.146Z"
   },
   {
    "duration": 7,
    "start_time": "2024-08-08T17:06:02.167Z"
   },
   {
    "duration": 6,
    "start_time": "2024-08-08T17:06:02.175Z"
   },
   {
    "duration": 13,
    "start_time": "2024-08-08T17:06:02.183Z"
   },
   {
    "duration": 1293,
    "start_time": "2024-08-08T17:06:02.198Z"
   },
   {
    "duration": 3,
    "start_time": "2024-08-08T17:06:03.493Z"
   },
   {
    "duration": 10,
    "start_time": "2024-08-08T17:06:03.497Z"
   },
   {
    "duration": 77007,
    "start_time": "2024-08-08T17:06:03.508Z"
   },
   {
    "duration": 9,
    "start_time": "2024-08-08T17:07:20.517Z"
   },
   {
    "duration": 33,
    "start_time": "2024-08-08T17:07:20.527Z"
   },
   {
    "duration": 238,
    "start_time": "2024-08-08T17:07:20.561Z"
   },
   {
    "duration": 2,
    "start_time": "2024-08-08T17:07:20.801Z"
   },
   {
    "duration": 5,
    "start_time": "2024-08-08T17:07:20.805Z"
   },
   {
    "duration": 102,
    "start_time": "2024-08-08T17:07:20.812Z"
   },
   {
    "duration": 7,
    "start_time": "2024-08-08T17:07:20.915Z"
   },
   {
    "duration": 2357,
    "start_time": "2024-08-08T17:07:20.924Z"
   },
   {
    "duration": 5,
    "start_time": "2024-08-08T17:07:23.282Z"
   },
   {
    "duration": 7,
    "start_time": "2024-08-08T17:07:23.288Z"
   },
   {
    "duration": 9645,
    "start_time": "2024-08-08T17:07:23.297Z"
   },
   {
    "duration": 4,
    "start_time": "2024-08-08T17:07:32.944Z"
   },
   {
    "duration": 2487,
    "start_time": "2024-08-08T17:08:31.375Z"
   },
   {
    "duration": 1949,
    "start_time": "2024-08-08T17:08:33.865Z"
   },
   {
    "duration": 4,
    "start_time": "2024-08-08T17:08:35.816Z"
   },
   {
    "duration": 33,
    "start_time": "2024-08-08T17:08:35.822Z"
   },
   {
    "duration": 1257,
    "start_time": "2024-08-08T17:08:35.857Z"
   },
   {
    "duration": 307,
    "start_time": "2024-08-08T17:08:37.115Z"
   },
   {
    "duration": 17,
    "start_time": "2024-08-08T17:08:37.424Z"
   },
   {
    "duration": 200,
    "start_time": "2024-08-08T17:08:37.443Z"
   },
   {
    "duration": 8,
    "start_time": "2024-08-08T17:08:37.645Z"
   },
   {
    "duration": 7,
    "start_time": "2024-08-08T17:08:37.664Z"
   },
   {
    "duration": 66,
    "start_time": "2024-08-08T17:08:37.673Z"
   },
   {
    "duration": 30,
    "start_time": "2024-08-08T17:08:37.740Z"
   },
   {
    "duration": 35,
    "start_time": "2024-08-08T17:08:37.772Z"
   },
   {
    "duration": 34,
    "start_time": "2024-08-08T17:08:37.810Z"
   },
   {
    "duration": 353,
    "start_time": "2024-08-08T17:08:37.865Z"
   },
   {
    "duration": 11,
    "start_time": "2024-08-08T17:08:38.220Z"
   },
   {
    "duration": 13,
    "start_time": "2024-08-08T17:08:38.232Z"
   },
   {
    "duration": 19,
    "start_time": "2024-08-08T17:08:38.247Z"
   },
   {
    "duration": 12,
    "start_time": "2024-08-08T17:08:38.268Z"
   },
   {
    "duration": 1193,
    "start_time": "2024-08-08T17:08:38.281Z"
   },
   {
    "duration": 3,
    "start_time": "2024-08-08T17:08:39.476Z"
   },
   {
    "duration": 6,
    "start_time": "2024-08-08T17:08:39.481Z"
   },
   {
    "duration": 80026,
    "start_time": "2024-08-08T17:08:39.488Z"
   },
   {
    "duration": 9,
    "start_time": "2024-08-08T17:09:59.516Z"
   },
   {
    "duration": 7,
    "start_time": "2024-08-08T17:09:59.526Z"
   },
   {
    "duration": 185,
    "start_time": "2024-08-08T17:09:59.535Z"
   },
   {
    "duration": 2,
    "start_time": "2024-08-08T17:09:59.721Z"
   },
   {
    "duration": 6,
    "start_time": "2024-08-08T17:09:59.725Z"
   },
   {
    "duration": 117,
    "start_time": "2024-08-08T17:09:59.732Z"
   },
   {
    "duration": 16,
    "start_time": "2024-08-08T17:09:59.851Z"
   },
   {
    "duration": 2374,
    "start_time": "2024-08-08T17:09:59.869Z"
   },
   {
    "duration": 4,
    "start_time": "2024-08-08T17:10:02.244Z"
   },
   {
    "duration": 15,
    "start_time": "2024-08-08T17:10:02.250Z"
   },
   {
    "duration": 9717,
    "start_time": "2024-08-08T17:10:02.267Z"
   },
   {
    "duration": 4,
    "start_time": "2024-08-08T17:10:11.986Z"
   },
   {
    "duration": 2532,
    "start_time": "2024-08-09T02:38:20.947Z"
   },
   {
    "duration": 1990,
    "start_time": "2024-08-09T02:38:23.482Z"
   },
   {
    "duration": 3,
    "start_time": "2024-08-09T02:38:25.474Z"
   },
   {
    "duration": 22,
    "start_time": "2024-08-09T02:38:25.479Z"
   },
   {
    "duration": 1263,
    "start_time": "2024-08-09T02:38:25.503Z"
   },
   {
    "duration": 321,
    "start_time": "2024-08-09T02:38:26.768Z"
   },
   {
    "duration": 17,
    "start_time": "2024-08-09T02:38:27.091Z"
   },
   {
    "duration": 206,
    "start_time": "2024-08-09T02:38:27.110Z"
   },
   {
    "duration": 7,
    "start_time": "2024-08-09T02:38:27.317Z"
   },
   {
    "duration": 14,
    "start_time": "2024-08-09T02:38:27.327Z"
   },
   {
    "duration": 71,
    "start_time": "2024-08-09T02:38:27.343Z"
   },
   {
    "duration": 12,
    "start_time": "2024-08-09T02:38:27.415Z"
   },
   {
    "duration": 48,
    "start_time": "2024-08-09T02:38:27.428Z"
   },
   {
    "duration": 34,
    "start_time": "2024-08-09T02:38:27.477Z"
   },
   {
    "duration": 367,
    "start_time": "2024-08-09T02:38:27.513Z"
   },
   {
    "duration": 15,
    "start_time": "2024-08-09T02:38:27.882Z"
   },
   {
    "duration": 18,
    "start_time": "2024-08-09T02:38:27.899Z"
   },
   {
    "duration": 7,
    "start_time": "2024-08-09T02:38:27.919Z"
   },
   {
    "duration": 12,
    "start_time": "2024-08-09T02:38:27.928Z"
   },
   {
    "duration": 1217,
    "start_time": "2024-08-09T02:38:27.941Z"
   },
   {
    "duration": 3,
    "start_time": "2024-08-09T02:38:29.164Z"
   },
   {
    "duration": 14,
    "start_time": "2024-08-09T02:38:29.168Z"
   },
   {
    "duration": 74694,
    "start_time": "2024-08-09T02:38:29.184Z"
   },
   {
    "duration": 8,
    "start_time": "2024-08-09T02:39:43.880Z"
   },
   {
    "duration": 15,
    "start_time": "2024-08-09T02:39:43.890Z"
   },
   {
    "duration": 181,
    "start_time": "2024-08-09T02:39:43.906Z"
   },
   {
    "duration": 2,
    "start_time": "2024-08-09T02:39:44.089Z"
   },
   {
    "duration": 55,
    "start_time": "2024-08-09T02:39:44.096Z"
   },
   {
    "duration": 135,
    "start_time": "2024-08-09T02:39:44.153Z"
   },
   {
    "duration": 9,
    "start_time": "2024-08-09T02:39:44.289Z"
   },
   {
    "duration": 2975,
    "start_time": "2024-08-09T02:39:44.300Z"
   },
   {
    "duration": 5,
    "start_time": "2024-08-09T02:39:47.277Z"
   },
   {
    "duration": 6,
    "start_time": "2024-08-09T02:39:47.283Z"
   },
   {
    "duration": 9621,
    "start_time": "2024-08-09T02:39:47.291Z"
   },
   {
    "duration": 4,
    "start_time": "2024-08-09T02:39:56.913Z"
   },
   {
    "duration": 2395,
    "start_time": "2024-08-09T02:50:26.170Z"
   },
   {
    "duration": 2939,
    "start_time": "2024-08-09T02:50:28.568Z"
   },
   {
    "duration": 4,
    "start_time": "2024-08-09T02:50:31.508Z"
   },
   {
    "duration": 127,
    "start_time": "2024-08-09T02:50:31.514Z"
   },
   {
    "duration": 1279,
    "start_time": "2024-08-09T02:50:31.643Z"
   },
   {
    "duration": 315,
    "start_time": "2024-08-09T02:50:32.924Z"
   },
   {
    "duration": 25,
    "start_time": "2024-08-09T02:50:33.241Z"
   },
   {
    "duration": 198,
    "start_time": "2024-08-09T02:50:33.268Z"
   },
   {
    "duration": 7,
    "start_time": "2024-08-09T02:50:33.468Z"
   },
   {
    "duration": 9,
    "start_time": "2024-08-09T02:50:33.478Z"
   },
   {
    "duration": 79,
    "start_time": "2024-08-09T02:50:33.488Z"
   },
   {
    "duration": 11,
    "start_time": "2024-08-09T02:50:33.569Z"
   },
   {
    "duration": 34,
    "start_time": "2024-08-09T02:50:33.582Z"
   },
   {
    "duration": 61,
    "start_time": "2024-08-09T02:50:33.618Z"
   },
   {
    "duration": 348,
    "start_time": "2024-08-09T02:50:33.681Z"
   },
   {
    "duration": 11,
    "start_time": "2024-08-09T02:50:34.031Z"
   },
   {
    "duration": 22,
    "start_time": "2024-08-09T02:50:34.043Z"
   },
   {
    "duration": 7,
    "start_time": "2024-08-09T02:50:34.066Z"
   },
   {
    "duration": 12,
    "start_time": "2024-08-09T02:50:34.074Z"
   },
   {
    "duration": 1203,
    "start_time": "2024-08-09T02:50:34.087Z"
   },
   {
    "duration": 3,
    "start_time": "2024-08-09T02:50:35.292Z"
   },
   {
    "duration": 11,
    "start_time": "2024-08-09T02:50:35.296Z"
   },
   {
    "duration": 33084,
    "start_time": "2024-08-09T02:50:35.309Z"
   },
   {
    "duration": 0,
    "start_time": "2024-08-09T02:51:08.395Z"
   },
   {
    "duration": 0,
    "start_time": "2024-08-09T02:51:08.397Z"
   },
   {
    "duration": 0,
    "start_time": "2024-08-09T02:51:08.398Z"
   },
   {
    "duration": 0,
    "start_time": "2024-08-09T02:51:08.399Z"
   },
   {
    "duration": 0,
    "start_time": "2024-08-09T02:51:08.400Z"
   },
   {
    "duration": 0,
    "start_time": "2024-08-09T02:51:08.401Z"
   },
   {
    "duration": 0,
    "start_time": "2024-08-09T02:51:08.402Z"
   },
   {
    "duration": 0,
    "start_time": "2024-08-09T02:51:08.403Z"
   },
   {
    "duration": 0,
    "start_time": "2024-08-09T02:51:08.404Z"
   },
   {
    "duration": 0,
    "start_time": "2024-08-09T02:51:08.405Z"
   },
   {
    "duration": 0,
    "start_time": "2024-08-09T02:51:08.406Z"
   },
   {
    "duration": 0,
    "start_time": "2024-08-09T02:51:08.408Z"
   },
   {
    "duration": 0,
    "start_time": "2024-08-09T02:51:08.409Z"
   },
   {
    "duration": 0,
    "start_time": "2024-08-09T02:51:08.410Z"
   },
   {
    "duration": 0,
    "start_time": "2024-08-09T02:51:08.411Z"
   },
   {
    "duration": 0,
    "start_time": "2024-08-09T02:51:08.412Z"
   },
   {
    "duration": 2477,
    "start_time": "2024-08-09T02:51:44.057Z"
   },
   {
    "duration": 1517,
    "start_time": "2024-08-09T02:51:46.536Z"
   },
   {
    "duration": 3,
    "start_time": "2024-08-09T02:51:48.055Z"
   },
   {
    "duration": 11,
    "start_time": "2024-08-09T02:51:48.059Z"
   },
   {
    "duration": 854,
    "start_time": "2024-08-09T02:51:48.072Z"
   },
   {
    "duration": 325,
    "start_time": "2024-08-09T02:51:48.928Z"
   },
   {
    "duration": 24,
    "start_time": "2024-08-09T02:51:49.255Z"
   },
   {
    "duration": 200,
    "start_time": "2024-08-09T02:51:49.280Z"
   },
   {
    "duration": 8,
    "start_time": "2024-08-09T02:51:49.482Z"
   },
   {
    "duration": 19,
    "start_time": "2024-08-09T02:51:49.492Z"
   },
   {
    "duration": 70,
    "start_time": "2024-08-09T02:51:49.512Z"
   },
   {
    "duration": 12,
    "start_time": "2024-08-09T02:51:49.583Z"
   },
   {
    "duration": 45,
    "start_time": "2024-08-09T02:51:49.597Z"
   },
   {
    "duration": 35,
    "start_time": "2024-08-09T02:51:49.664Z"
   },
   {
    "duration": 354,
    "start_time": "2024-08-09T02:51:49.701Z"
   },
   {
    "duration": 17,
    "start_time": "2024-08-09T02:51:50.057Z"
   },
   {
    "duration": 42,
    "start_time": "2024-08-09T02:51:50.076Z"
   },
   {
    "duration": 37,
    "start_time": "2024-08-09T02:51:50.120Z"
   },
   {
    "duration": 23,
    "start_time": "2024-08-09T02:51:50.159Z"
   },
   {
    "duration": 1224,
    "start_time": "2024-08-09T02:51:50.184Z"
   },
   {
    "duration": 3,
    "start_time": "2024-08-09T02:51:51.410Z"
   },
   {
    "duration": 23,
    "start_time": "2024-08-09T02:51:51.414Z"
   },
   {
    "duration": 73280,
    "start_time": "2024-08-09T02:51:51.439Z"
   },
   {
    "duration": 9,
    "start_time": "2024-08-09T02:53:04.720Z"
   },
   {
    "duration": 9,
    "start_time": "2024-08-09T02:53:04.731Z"
   },
   {
    "duration": 194,
    "start_time": "2024-08-09T02:53:04.742Z"
   },
   {
    "duration": 3,
    "start_time": "2024-08-09T02:53:04.937Z"
   },
   {
    "duration": 8,
    "start_time": "2024-08-09T02:53:04.942Z"
   },
   {
    "duration": 113,
    "start_time": "2024-08-09T02:53:04.952Z"
   },
   {
    "duration": 8,
    "start_time": "2024-08-09T02:53:05.066Z"
   },
   {
    "duration": 2454,
    "start_time": "2024-08-09T02:53:05.075Z"
   },
   {
    "duration": 17,
    "start_time": "2024-08-09T02:53:07.530Z"
   },
   {
    "duration": 3,
    "start_time": "2024-08-09T02:53:07.548Z"
   },
   {
    "duration": 9565,
    "start_time": "2024-08-09T02:53:07.553Z"
   },
   {
    "duration": 5,
    "start_time": "2024-08-09T02:53:17.119Z"
   },
   {
    "duration": 2424,
    "start_time": "2024-08-09T03:04:06.408Z"
   },
   {
    "duration": 1896,
    "start_time": "2024-08-09T03:04:08.834Z"
   },
   {
    "duration": 3,
    "start_time": "2024-08-09T03:04:10.732Z"
   },
   {
    "duration": 32,
    "start_time": "2024-08-09T03:04:10.737Z"
   },
   {
    "duration": 1263,
    "start_time": "2024-08-09T03:04:10.771Z"
   },
   {
    "duration": 315,
    "start_time": "2024-08-09T03:04:12.036Z"
   },
   {
    "duration": 26,
    "start_time": "2024-08-09T03:04:12.353Z"
   },
   {
    "duration": 202,
    "start_time": "2024-08-09T03:04:12.381Z"
   },
   {
    "duration": 7,
    "start_time": "2024-08-09T03:04:12.585Z"
   },
   {
    "duration": 39,
    "start_time": "2024-08-09T03:04:12.595Z"
   },
   {
    "duration": 95,
    "start_time": "2024-08-09T03:04:12.636Z"
   },
   {
    "duration": 12,
    "start_time": "2024-08-09T03:04:12.733Z"
   },
   {
    "duration": 41,
    "start_time": "2024-08-09T03:04:12.746Z"
   },
   {
    "duration": 34,
    "start_time": "2024-08-09T03:04:12.789Z"
   },
   {
    "duration": 368,
    "start_time": "2024-08-09T03:04:12.824Z"
   },
   {
    "duration": 11,
    "start_time": "2024-08-09T03:04:13.194Z"
   },
   {
    "duration": 72,
    "start_time": "2024-08-09T03:04:13.206Z"
   },
   {
    "duration": 10,
    "start_time": "2024-08-09T03:04:13.279Z"
   },
   {
    "duration": 15,
    "start_time": "2024-08-09T03:04:13.290Z"
   },
   {
    "duration": 1158,
    "start_time": "2024-08-09T03:04:13.307Z"
   },
   {
    "duration": 3,
    "start_time": "2024-08-09T03:04:14.466Z"
   },
   {
    "duration": 9,
    "start_time": "2024-08-09T03:04:14.471Z"
   },
   {
    "duration": 78627,
    "start_time": "2024-08-09T03:04:14.481Z"
   },
   {
    "duration": 59,
    "start_time": "2024-08-09T03:05:33.109Z"
   },
   {
    "duration": 10,
    "start_time": "2024-08-09T03:05:33.169Z"
   },
   {
    "duration": 311,
    "start_time": "2024-08-09T03:05:33.181Z"
   },
   {
    "duration": 3,
    "start_time": "2024-08-09T03:05:33.493Z"
   },
   {
    "duration": 3,
    "start_time": "2024-08-09T03:05:33.501Z"
   },
   {
    "duration": 203,
    "start_time": "2024-08-09T03:05:33.506Z"
   },
   {
    "duration": 10,
    "start_time": "2024-08-09T03:05:33.765Z"
   },
   {
    "duration": 2881,
    "start_time": "2024-08-09T03:05:33.777Z"
   },
   {
    "duration": 8,
    "start_time": "2024-08-09T03:05:36.665Z"
   },
   {
    "duration": 6,
    "start_time": "2024-08-09T03:05:36.674Z"
   },
   {
    "duration": 2419,
    "start_time": "2024-08-09T03:08:50.860Z"
   },
   {
    "duration": 2058,
    "start_time": "2024-08-09T03:08:53.281Z"
   },
   {
    "duration": 4,
    "start_time": "2024-08-09T03:08:55.341Z"
   },
   {
    "duration": 15,
    "start_time": "2024-08-09T03:08:55.346Z"
   },
   {
    "duration": 1326,
    "start_time": "2024-08-09T03:08:55.364Z"
   },
   {
    "duration": 309,
    "start_time": "2024-08-09T03:08:56.691Z"
   },
   {
    "duration": 17,
    "start_time": "2024-08-09T03:08:57.002Z"
   },
   {
    "duration": 200,
    "start_time": "2024-08-09T03:08:57.020Z"
   },
   {
    "duration": 7,
    "start_time": "2024-08-09T03:08:57.222Z"
   },
   {
    "duration": 7,
    "start_time": "2024-08-09T03:08:57.231Z"
   },
   {
    "duration": 85,
    "start_time": "2024-08-09T03:08:57.239Z"
   },
   {
    "duration": 13,
    "start_time": "2024-08-09T03:08:57.325Z"
   },
   {
    "duration": 48,
    "start_time": "2024-08-09T03:08:57.340Z"
   },
   {
    "duration": 34,
    "start_time": "2024-08-09T03:08:57.391Z"
   },
   {
    "duration": 353,
    "start_time": "2024-08-09T03:08:57.427Z"
   },
   {
    "duration": 14,
    "start_time": "2024-08-09T03:08:57.782Z"
   },
   {
    "duration": 7,
    "start_time": "2024-08-09T03:08:57.797Z"
   },
   {
    "duration": 7,
    "start_time": "2024-08-09T03:08:57.805Z"
   },
   {
    "duration": 16,
    "start_time": "2024-08-09T03:08:57.814Z"
   },
   {
    "duration": 1222,
    "start_time": "2024-08-09T03:08:57.864Z"
   },
   {
    "duration": 4,
    "start_time": "2024-08-09T03:08:59.087Z"
   },
   {
    "duration": 8,
    "start_time": "2024-08-09T03:08:59.093Z"
   },
   {
    "duration": 73248,
    "start_time": "2024-08-09T03:08:59.103Z"
   },
   {
    "duration": 14,
    "start_time": "2024-08-09T03:10:12.353Z"
   },
   {
    "duration": 14,
    "start_time": "2024-08-09T03:10:12.368Z"
   },
   {
    "duration": 176,
    "start_time": "2024-08-09T03:10:12.385Z"
   },
   {
    "duration": 2,
    "start_time": "2024-08-09T03:10:12.565Z"
   },
   {
    "duration": 17,
    "start_time": "2024-08-09T03:10:12.568Z"
   },
   {
    "duration": 95,
    "start_time": "2024-08-09T03:10:12.587Z"
   },
   {
    "duration": 8,
    "start_time": "2024-08-09T03:10:12.684Z"
   },
   {
    "duration": 2396,
    "start_time": "2024-08-09T03:10:12.694Z"
   },
   {
    "duration": 4,
    "start_time": "2024-08-09T03:10:15.091Z"
   },
   {
    "duration": 23,
    "start_time": "2024-08-09T03:10:15.097Z"
   },
   {
    "duration": 9393,
    "start_time": "2024-08-09T03:10:15.121Z"
   },
   {
    "duration": 5,
    "start_time": "2024-08-09T03:10:24.515Z"
   },
   {
    "duration": 30851,
    "start_time": "2024-08-09T03:10:24.521Z"
   },
   {
    "duration": 4,
    "start_time": "2024-08-09T03:10:55.373Z"
   },
   {
    "duration": 6,
    "start_time": "2024-08-09T03:10:55.378Z"
   },
   {
    "duration": 5,
    "start_time": "2024-08-09T03:10:55.385Z"
   },
   {
    "duration": 4,
    "start_time": "2024-08-09T03:12:24.220Z"
   },
   {
    "duration": 149,
    "start_time": "2024-08-09T03:12:34.118Z"
   },
   {
    "duration": 5,
    "start_time": "2024-08-09T04:26:59.456Z"
   },
   {
    "duration": 2465,
    "start_time": "2024-08-09T04:27:12.382Z"
   },
   {
    "duration": 2104,
    "start_time": "2024-08-09T04:27:14.850Z"
   },
   {
    "duration": 3,
    "start_time": "2024-08-09T04:27:16.955Z"
   },
   {
    "duration": 4,
    "start_time": "2024-08-09T04:27:16.960Z"
   },
   {
    "duration": 1260,
    "start_time": "2024-08-09T04:27:16.965Z"
   },
   {
    "duration": 331,
    "start_time": "2024-08-09T04:27:18.227Z"
   },
   {
    "duration": 18,
    "start_time": "2024-08-09T04:27:18.560Z"
   },
   {
    "duration": 205,
    "start_time": "2024-08-09T04:27:18.580Z"
   },
   {
    "duration": 7,
    "start_time": "2024-08-09T04:27:18.786Z"
   },
   {
    "duration": 6,
    "start_time": "2024-08-09T04:27:18.796Z"
   },
   {
    "duration": 82,
    "start_time": "2024-08-09T04:27:18.804Z"
   },
   {
    "duration": 12,
    "start_time": "2024-08-09T04:27:18.888Z"
   },
   {
    "duration": 37,
    "start_time": "2024-08-09T04:27:18.902Z"
   },
   {
    "duration": 50,
    "start_time": "2024-08-09T04:27:18.940Z"
   },
   {
    "duration": 381,
    "start_time": "2024-08-09T04:27:18.991Z"
   },
   {
    "duration": 11,
    "start_time": "2024-08-09T04:27:19.373Z"
   },
   {
    "duration": 15,
    "start_time": "2024-08-09T04:27:19.385Z"
   },
   {
    "duration": 15,
    "start_time": "2024-08-09T04:27:19.402Z"
   },
   {
    "duration": 11,
    "start_time": "2024-08-09T04:27:19.418Z"
   },
   {
    "duration": 1261,
    "start_time": "2024-08-09T04:27:19.431Z"
   },
   {
    "duration": 4,
    "start_time": "2024-08-09T04:27:20.693Z"
   },
   {
    "duration": 25,
    "start_time": "2024-08-09T04:27:20.699Z"
   },
   {
    "duration": 74531,
    "start_time": "2024-08-09T04:27:20.727Z"
   },
   {
    "duration": 11,
    "start_time": "2024-08-09T04:28:35.259Z"
   },
   {
    "duration": 8,
    "start_time": "2024-08-09T04:28:35.272Z"
   },
   {
    "duration": 259,
    "start_time": "2024-08-09T04:28:35.281Z"
   },
   {
    "duration": 2,
    "start_time": "2024-08-09T04:28:35.542Z"
   },
   {
    "duration": 5,
    "start_time": "2024-08-09T04:28:35.547Z"
   },
   {
    "duration": 100,
    "start_time": "2024-08-09T04:28:35.553Z"
   },
   {
    "duration": 16,
    "start_time": "2024-08-09T04:28:35.654Z"
   },
   {
    "duration": 2972,
    "start_time": "2024-08-09T04:28:35.672Z"
   },
   {
    "duration": 6,
    "start_time": "2024-08-09T04:28:38.646Z"
   },
   {
    "duration": 12,
    "start_time": "2024-08-09T04:28:38.653Z"
   },
   {
    "duration": 9470,
    "start_time": "2024-08-09T04:28:38.666Z"
   },
   {
    "duration": 4,
    "start_time": "2024-08-09T04:28:48.138Z"
   },
   {
    "duration": 2421,
    "start_time": "2024-08-09T04:29:54.067Z"
   },
   {
    "duration": 2121,
    "start_time": "2024-08-09T04:29:56.491Z"
   },
   {
    "duration": 3,
    "start_time": "2024-08-09T04:29:58.614Z"
   },
   {
    "duration": 6,
    "start_time": "2024-08-09T04:29:58.618Z"
   },
   {
    "duration": 1303,
    "start_time": "2024-08-09T04:29:58.626Z"
   },
   {
    "duration": 341,
    "start_time": "2024-08-09T04:29:59.931Z"
   },
   {
    "duration": 19,
    "start_time": "2024-08-09T04:30:00.273Z"
   },
   {
    "duration": 248,
    "start_time": "2024-08-09T04:30:00.293Z"
   },
   {
    "duration": 8,
    "start_time": "2024-08-09T04:30:00.542Z"
   },
   {
    "duration": 68,
    "start_time": "2024-08-09T04:30:00.551Z"
   },
   {
    "duration": 157,
    "start_time": "2024-08-09T04:30:00.621Z"
   },
   {
    "duration": 70,
    "start_time": "2024-08-09T04:30:00.780Z"
   },
   {
    "duration": 69,
    "start_time": "2024-08-09T04:30:00.852Z"
   },
   {
    "duration": 44,
    "start_time": "2024-08-09T04:30:00.925Z"
   },
   {
    "duration": 384,
    "start_time": "2024-08-09T04:30:00.971Z"
   },
   {
    "duration": 18,
    "start_time": "2024-08-09T04:30:01.357Z"
   },
   {
    "duration": 66,
    "start_time": "2024-08-09T04:30:01.377Z"
   },
   {
    "duration": 165,
    "start_time": "2024-08-09T04:30:01.445Z"
   },
   {
    "duration": 34,
    "start_time": "2024-08-09T04:30:01.612Z"
   },
   {
    "duration": 1256,
    "start_time": "2024-08-09T04:30:01.647Z"
   },
   {
    "duration": 3,
    "start_time": "2024-08-09T04:30:02.905Z"
   },
   {
    "duration": 29,
    "start_time": "2024-08-09T04:30:02.910Z"
   },
   {
    "duration": 76192,
    "start_time": "2024-08-09T04:30:02.940Z"
   },
   {
    "duration": 8,
    "start_time": "2024-08-09T04:31:19.134Z"
   },
   {
    "duration": 8,
    "start_time": "2024-08-09T04:31:19.144Z"
   },
   {
    "duration": 166,
    "start_time": "2024-08-09T04:31:19.165Z"
   },
   {
    "duration": 2,
    "start_time": "2024-08-09T04:31:19.333Z"
   },
   {
    "duration": 10,
    "start_time": "2024-08-09T04:31:19.336Z"
   },
   {
    "duration": 93,
    "start_time": "2024-08-09T04:31:19.347Z"
   },
   {
    "duration": 7,
    "start_time": "2024-08-09T04:31:19.442Z"
   },
   {
    "duration": 2404,
    "start_time": "2024-08-09T04:31:19.450Z"
   },
   {
    "duration": 9,
    "start_time": "2024-08-09T04:31:21.857Z"
   },
   {
    "duration": 5,
    "start_time": "2024-08-09T04:31:21.868Z"
   },
   {
    "duration": 9458,
    "start_time": "2024-08-09T04:31:21.875Z"
   },
   {
    "duration": 4,
    "start_time": "2024-08-09T04:31:31.335Z"
   },
   {
    "duration": 2404,
    "start_time": "2024-08-09T04:45:21.131Z"
   },
   {
    "duration": 2212,
    "start_time": "2024-08-09T04:45:23.537Z"
   },
   {
    "duration": 3,
    "start_time": "2024-08-09T04:45:25.751Z"
   },
   {
    "duration": 5,
    "start_time": "2024-08-09T04:45:25.756Z"
   },
   {
    "duration": 1259,
    "start_time": "2024-08-09T04:45:25.763Z"
   },
   {
    "duration": 320,
    "start_time": "2024-08-09T04:45:27.024Z"
   },
   {
    "duration": 23,
    "start_time": "2024-08-09T04:45:27.345Z"
   },
   {
    "duration": 206,
    "start_time": "2024-08-09T04:45:27.370Z"
   },
   {
    "duration": 8,
    "start_time": "2024-08-09T04:45:27.577Z"
   },
   {
    "duration": 6,
    "start_time": "2024-08-09T04:45:27.587Z"
   },
   {
    "duration": 86,
    "start_time": "2024-08-09T04:45:27.594Z"
   },
   {
    "duration": 12,
    "start_time": "2024-08-09T04:45:27.681Z"
   },
   {
    "duration": 34,
    "start_time": "2024-08-09T04:45:27.695Z"
   },
   {
    "duration": 57,
    "start_time": "2024-08-09T04:45:27.730Z"
   },
   {
    "duration": 352,
    "start_time": "2024-08-09T04:45:27.789Z"
   },
   {
    "duration": 23,
    "start_time": "2024-08-09T04:45:28.143Z"
   },
   {
    "duration": 6,
    "start_time": "2024-08-09T04:45:28.167Z"
   },
   {
    "duration": 12,
    "start_time": "2024-08-09T04:45:28.175Z"
   },
   {
    "duration": 13,
    "start_time": "2024-08-09T04:45:28.188Z"
   },
   {
    "duration": 1261,
    "start_time": "2024-08-09T04:45:28.203Z"
   },
   {
    "duration": 3,
    "start_time": "2024-08-09T04:45:29.467Z"
   },
   {
    "duration": 19,
    "start_time": "2024-08-09T04:45:29.473Z"
   },
   {
    "duration": 74363,
    "start_time": "2024-08-09T04:45:29.495Z"
   },
   {
    "duration": 13,
    "start_time": "2024-08-09T04:46:43.860Z"
   },
   {
    "duration": 8,
    "start_time": "2024-08-09T04:46:43.875Z"
   },
   {
    "duration": 188,
    "start_time": "2024-08-09T04:46:43.885Z"
   },
   {
    "duration": 2,
    "start_time": "2024-08-09T04:46:44.075Z"
   },
   {
    "duration": 3,
    "start_time": "2024-08-09T04:46:44.080Z"
   },
   {
    "duration": 97,
    "start_time": "2024-08-09T04:46:44.084Z"
   },
   {
    "duration": 7,
    "start_time": "2024-08-09T04:46:44.182Z"
   },
   {
    "duration": 2553,
    "start_time": "2024-08-09T04:46:44.191Z"
   },
   {
    "duration": 4,
    "start_time": "2024-08-09T04:46:46.745Z"
   },
   {
    "duration": 13,
    "start_time": "2024-08-09T04:46:46.751Z"
   },
   {
    "duration": 9582,
    "start_time": "2024-08-09T04:46:46.765Z"
   },
   {
    "duration": 4,
    "start_time": "2024-08-09T04:46:56.348Z"
   },
   {
    "duration": 2424,
    "start_time": "2024-08-09T04:53:14.133Z"
   },
   {
    "duration": 2834,
    "start_time": "2024-08-09T04:53:16.560Z"
   },
   {
    "duration": 3,
    "start_time": "2024-08-09T04:53:19.397Z"
   },
   {
    "duration": 3,
    "start_time": "2024-08-09T04:53:19.403Z"
   },
   {
    "duration": 1234,
    "start_time": "2024-08-09T04:53:19.408Z"
   },
   {
    "duration": 342,
    "start_time": "2024-08-09T04:53:20.643Z"
   },
   {
    "duration": 19,
    "start_time": "2024-08-09T04:53:20.987Z"
   },
   {
    "duration": 219,
    "start_time": "2024-08-09T04:53:21.008Z"
   },
   {
    "duration": 7,
    "start_time": "2024-08-09T04:53:21.229Z"
   },
   {
    "duration": 15,
    "start_time": "2024-08-09T04:53:21.238Z"
   },
   {
    "duration": 74,
    "start_time": "2024-08-09T04:53:21.254Z"
   },
   {
    "duration": 12,
    "start_time": "2024-08-09T04:53:21.329Z"
   },
   {
    "duration": 51,
    "start_time": "2024-08-09T04:53:21.343Z"
   },
   {
    "duration": 35,
    "start_time": "2024-08-09T04:53:21.397Z"
   },
   {
    "duration": 352,
    "start_time": "2024-08-09T04:53:21.434Z"
   },
   {
    "duration": 11,
    "start_time": "2024-08-09T04:53:21.788Z"
   },
   {
    "duration": 5,
    "start_time": "2024-08-09T04:53:21.801Z"
   },
   {
    "duration": 9,
    "start_time": "2024-08-09T04:53:21.808Z"
   },
   {
    "duration": 12,
    "start_time": "2024-08-09T04:53:21.819Z"
   },
   {
    "duration": 1264,
    "start_time": "2024-08-09T04:53:21.833Z"
   },
   {
    "duration": 4,
    "start_time": "2024-08-09T04:53:23.099Z"
   },
   {
    "duration": 6,
    "start_time": "2024-08-09T04:53:23.105Z"
   },
   {
    "duration": 74043,
    "start_time": "2024-08-09T04:53:23.112Z"
   },
   {
    "duration": 13,
    "start_time": "2024-08-09T04:54:37.157Z"
   },
   {
    "duration": 8,
    "start_time": "2024-08-09T04:54:37.172Z"
   },
   {
    "duration": 179,
    "start_time": "2024-08-09T04:54:37.182Z"
   },
   {
    "duration": 3,
    "start_time": "2024-08-09T04:54:37.364Z"
   },
   {
    "duration": 8,
    "start_time": "2024-08-09T04:54:37.369Z"
   },
   {
    "duration": 97,
    "start_time": "2024-08-09T04:54:37.379Z"
   },
   {
    "duration": 9,
    "start_time": "2024-08-09T04:54:37.477Z"
   },
   {
    "duration": 2493,
    "start_time": "2024-08-09T04:54:37.487Z"
   },
   {
    "duration": 4,
    "start_time": "2024-08-09T04:54:39.982Z"
   },
   {
    "duration": 11,
    "start_time": "2024-08-09T04:54:39.987Z"
   },
   {
    "duration": 9531,
    "start_time": "2024-08-09T04:54:40.000Z"
   },
   {
    "duration": 4,
    "start_time": "2024-08-09T04:54:49.533Z"
   },
   {
    "duration": 30938,
    "start_time": "2024-08-09T04:54:49.539Z"
   },
   {
    "duration": 4,
    "start_time": "2024-08-09T04:55:20.479Z"
   },
   {
    "duration": 41,
    "start_time": "2024-08-09T04:55:20.484Z"
   },
   {
    "duration": 2563,
    "start_time": "2024-08-09T05:10:30.252Z"
   },
   {
    "duration": 2048,
    "start_time": "2024-08-09T05:10:32.818Z"
   },
   {
    "duration": 3,
    "start_time": "2024-08-09T05:10:34.868Z"
   },
   {
    "duration": 15,
    "start_time": "2024-08-09T05:10:34.872Z"
   },
   {
    "duration": 1271,
    "start_time": "2024-08-09T05:10:34.890Z"
   },
   {
    "duration": 328,
    "start_time": "2024-08-09T05:10:36.162Z"
   },
   {
    "duration": 18,
    "start_time": "2024-08-09T05:10:36.491Z"
   },
   {
    "duration": 247,
    "start_time": "2024-08-09T05:10:36.510Z"
   },
   {
    "duration": 9,
    "start_time": "2024-08-09T05:10:36.758Z"
   },
   {
    "duration": 7,
    "start_time": "2024-08-09T05:10:36.768Z"
   },
   {
    "duration": 68,
    "start_time": "2024-08-09T05:10:36.776Z"
   },
   {
    "duration": 26,
    "start_time": "2024-08-09T05:10:36.846Z"
   },
   {
    "duration": 34,
    "start_time": "2024-08-09T05:10:36.873Z"
   },
   {
    "duration": 33,
    "start_time": "2024-08-09T05:10:36.910Z"
   },
   {
    "duration": 348,
    "start_time": "2024-08-09T05:10:36.965Z"
   },
   {
    "duration": 12,
    "start_time": "2024-08-09T05:10:37.315Z"
   },
   {
    "duration": 8,
    "start_time": "2024-08-09T05:10:37.329Z"
   },
   {
    "duration": 29,
    "start_time": "2024-08-09T05:10:37.339Z"
   },
   {
    "duration": 15,
    "start_time": "2024-08-09T05:10:37.371Z"
   },
   {
    "duration": 1163,
    "start_time": "2024-08-09T05:10:37.388Z"
   },
   {
    "duration": 3,
    "start_time": "2024-08-09T05:10:38.553Z"
   },
   {
    "duration": 9,
    "start_time": "2024-08-09T05:10:38.557Z"
   },
   {
    "duration": 75386,
    "start_time": "2024-08-09T05:10:38.567Z"
   },
   {
    "duration": 14,
    "start_time": "2024-08-09T05:11:53.954Z"
   },
   {
    "duration": 13,
    "start_time": "2024-08-09T05:11:53.970Z"
   },
   {
    "duration": 168,
    "start_time": "2024-08-09T05:11:53.985Z"
   },
   {
    "duration": 2,
    "start_time": "2024-08-09T05:11:54.155Z"
   },
   {
    "duration": 7,
    "start_time": "2024-08-09T05:11:54.159Z"
   },
   {
    "duration": 99,
    "start_time": "2024-08-09T05:11:54.167Z"
   },
   {
    "duration": 7,
    "start_time": "2024-08-09T05:11:54.267Z"
   },
   {
    "duration": 2524,
    "start_time": "2024-08-09T05:11:54.276Z"
   },
   {
    "duration": 4,
    "start_time": "2024-08-09T05:11:56.801Z"
   },
   {
    "duration": 4,
    "start_time": "2024-08-09T05:11:56.807Z"
   },
   {
    "duration": 9648,
    "start_time": "2024-08-09T05:11:56.813Z"
   },
   {
    "duration": 4,
    "start_time": "2024-08-09T05:12:06.463Z"
   },
   {
    "duration": 6684,
    "start_time": "2024-08-10T06:45:49.132Z"
   },
   {
    "duration": 1614,
    "start_time": "2024-08-10T06:45:55.819Z"
   },
   {
    "duration": 3,
    "start_time": "2024-08-10T06:45:57.435Z"
   },
   {
    "duration": 31,
    "start_time": "2024-08-10T06:45:57.440Z"
   },
   {
    "duration": 1245,
    "start_time": "2024-08-10T06:45:57.472Z"
   },
   {
    "duration": 320,
    "start_time": "2024-08-10T06:45:58.719Z"
   },
   {
    "duration": 16,
    "start_time": "2024-08-10T06:45:59.040Z"
   },
   {
    "duration": 191,
    "start_time": "2024-08-10T06:45:59.065Z"
   },
   {
    "duration": 9,
    "start_time": "2024-08-10T06:45:59.257Z"
   },
   {
    "duration": 31,
    "start_time": "2024-08-10T06:45:59.268Z"
   },
   {
    "duration": 79,
    "start_time": "2024-08-10T06:45:59.301Z"
   },
   {
    "duration": 11,
    "start_time": "2024-08-10T06:45:59.382Z"
   },
   {
    "duration": 40,
    "start_time": "2024-08-10T06:45:59.395Z"
   },
   {
    "duration": 43,
    "start_time": "2024-08-10T06:45:59.437Z"
   },
   {
    "duration": 422,
    "start_time": "2024-08-10T06:45:59.481Z"
   },
   {
    "duration": 10,
    "start_time": "2024-08-10T06:45:59.905Z"
   },
   {
    "duration": 49,
    "start_time": "2024-08-10T06:45:59.917Z"
   },
   {
    "duration": 6,
    "start_time": "2024-08-10T06:45:59.968Z"
   },
   {
    "duration": 37,
    "start_time": "2024-08-10T06:45:59.975Z"
   },
   {
    "duration": 1217,
    "start_time": "2024-08-10T06:46:00.014Z"
   },
   {
    "duration": 3,
    "start_time": "2024-08-10T06:46:01.233Z"
   },
   {
    "duration": 71,
    "start_time": "2024-08-10T06:46:01.238Z"
   },
   {
    "duration": 74990,
    "start_time": "2024-08-10T06:46:01.311Z"
   },
   {
    "duration": 8,
    "start_time": "2024-08-10T06:47:16.302Z"
   },
   {
    "duration": 24,
    "start_time": "2024-08-10T06:47:16.312Z"
   },
   {
    "duration": 160,
    "start_time": "2024-08-10T06:47:16.337Z"
   },
   {
    "duration": 2,
    "start_time": "2024-08-10T06:47:16.499Z"
   },
   {
    "duration": 7,
    "start_time": "2024-08-10T06:47:16.504Z"
   },
   {
    "duration": 98,
    "start_time": "2024-08-10T06:47:16.513Z"
   },
   {
    "duration": 8,
    "start_time": "2024-08-10T06:47:16.613Z"
   },
   {
    "duration": 2509,
    "start_time": "2024-08-10T06:47:16.622Z"
   },
   {
    "duration": 4,
    "start_time": "2024-08-10T06:47:19.133Z"
   },
   {
    "duration": 7,
    "start_time": "2024-08-10T06:47:19.138Z"
   },
   {
    "duration": 9812,
    "start_time": "2024-08-10T06:47:19.146Z"
   },
   {
    "duration": 7,
    "start_time": "2024-08-10T06:47:28.959Z"
   },
   {
    "duration": 31103,
    "start_time": "2024-08-10T06:47:28.968Z"
   },
   {
    "duration": 5,
    "start_time": "2024-08-10T06:48:00.073Z"
   },
   {
    "duration": 216,
    "start_time": "2024-08-10T06:48:00.084Z"
   },
   {
    "duration": 165,
    "start_time": "2024-08-10T06:48:30.951Z"
   },
   {
    "duration": 7,
    "start_time": "2024-08-10T06:48:43.835Z"
   },
   {
    "duration": 2402,
    "start_time": "2024-08-10T06:49:22.906Z"
   },
   {
    "duration": 1886,
    "start_time": "2024-08-10T06:49:25.310Z"
   },
   {
    "duration": 3,
    "start_time": "2024-08-10T06:49:27.197Z"
   },
   {
    "duration": 3,
    "start_time": "2024-08-10T06:49:27.202Z"
   },
   {
    "duration": 1200,
    "start_time": "2024-08-10T06:49:27.207Z"
   },
   {
    "duration": 318,
    "start_time": "2024-08-10T06:49:28.408Z"
   },
   {
    "duration": 17,
    "start_time": "2024-08-10T06:49:28.727Z"
   },
   {
    "duration": 214,
    "start_time": "2024-08-10T06:49:28.745Z"
   },
   {
    "duration": 7,
    "start_time": "2024-08-10T06:49:28.965Z"
   },
   {
    "duration": 6,
    "start_time": "2024-08-10T06:49:28.974Z"
   },
   {
    "duration": 81,
    "start_time": "2024-08-10T06:49:28.982Z"
   },
   {
    "duration": 13,
    "start_time": "2024-08-10T06:49:29.064Z"
   },
   {
    "duration": 34,
    "start_time": "2024-08-10T06:49:29.078Z"
   },
   {
    "duration": 51,
    "start_time": "2024-08-10T06:49:29.115Z"
   },
   {
    "duration": 342,
    "start_time": "2024-08-10T06:49:29.168Z"
   },
   {
    "duration": 11,
    "start_time": "2024-08-10T06:49:29.512Z"
   },
   {
    "duration": 6,
    "start_time": "2024-08-10T06:49:29.524Z"
   },
   {
    "duration": 5,
    "start_time": "2024-08-10T06:49:29.532Z"
   },
   {
    "duration": 73,
    "start_time": "2024-08-10T06:49:29.539Z"
   },
   {
    "duration": 1202,
    "start_time": "2024-08-10T06:49:29.614Z"
   },
   {
    "duration": 3,
    "start_time": "2024-08-10T06:49:30.818Z"
   },
   {
    "duration": 153,
    "start_time": "2024-08-10T06:49:30.823Z"
   },
   {
    "duration": 76383,
    "start_time": "2024-08-10T06:49:30.978Z"
   },
   {
    "duration": 11,
    "start_time": "2024-08-10T06:50:47.365Z"
   },
   {
    "duration": 6,
    "start_time": "2024-08-10T06:50:47.378Z"
   },
   {
    "duration": 250,
    "start_time": "2024-08-10T06:50:47.386Z"
   },
   {
    "duration": 3,
    "start_time": "2024-08-10T06:50:47.638Z"
   },
   {
    "duration": 28,
    "start_time": "2024-08-10T06:50:47.642Z"
   },
   {
    "duration": 61,
    "start_time": "2024-08-10T06:50:47.671Z"
   },
   {
    "duration": 7,
    "start_time": "2024-08-10T06:50:47.733Z"
   },
   {
    "duration": 2239,
    "start_time": "2024-08-10T06:50:47.741Z"
   },
   {
    "duration": 141,
    "start_time": "2024-08-10T06:50:49.983Z"
   },
   {
    "duration": 0,
    "start_time": "2024-08-10T06:50:50.126Z"
   },
   {
    "duration": 0,
    "start_time": "2024-08-10T06:50:50.127Z"
   },
   {
    "duration": 0,
    "start_time": "2024-08-10T06:50:50.128Z"
   },
   {
    "duration": 0,
    "start_time": "2024-08-10T06:50:50.129Z"
   },
   {
    "duration": 0,
    "start_time": "2024-08-10T06:50:50.130Z"
   },
   {
    "duration": 0,
    "start_time": "2024-08-10T06:50:50.132Z"
   },
   {
    "duration": 0,
    "start_time": "2024-08-10T06:50:50.133Z"
   },
   {
    "duration": 0,
    "start_time": "2024-08-10T06:50:50.134Z"
   },
   {
    "duration": 4,
    "start_time": "2024-08-10T06:51:08.243Z"
   },
   {
    "duration": 3,
    "start_time": "2024-08-10T06:51:08.724Z"
   },
   {
    "duration": 9619,
    "start_time": "2024-08-10T06:51:21.271Z"
   },
   {
    "duration": 3,
    "start_time": "2024-08-10T06:51:44.715Z"
   },
   {
    "duration": 47916,
    "start_time": "2024-08-10T06:52:34.756Z"
   },
   {
    "duration": 45844,
    "start_time": "2024-08-10T06:53:51.453Z"
   },
   {
    "duration": 47496,
    "start_time": "2024-08-10T06:54:46.915Z"
   },
   {
    "duration": 4,
    "start_time": "2024-08-10T06:56:21.781Z"
   },
   {
    "duration": 2045307,
    "start_time": "2024-08-10T06:56:38.364Z"
   },
   {
    "duration": 2411,
    "start_time": "2024-08-10T08:29:04.633Z"
   },
   {
    "duration": 1628,
    "start_time": "2024-08-10T08:29:07.047Z"
   },
   {
    "duration": 3,
    "start_time": "2024-08-10T08:29:08.677Z"
   },
   {
    "duration": 8,
    "start_time": "2024-08-10T08:29:08.682Z"
   },
   {
    "duration": 951,
    "start_time": "2024-08-10T08:29:08.692Z"
   },
   {
    "duration": 337,
    "start_time": "2024-08-10T08:29:09.644Z"
   },
   {
    "duration": 17,
    "start_time": "2024-08-10T08:29:09.983Z"
   },
   {
    "duration": 216,
    "start_time": "2024-08-10T08:29:10.001Z"
   },
   {
    "duration": 7,
    "start_time": "2024-08-10T08:29:10.219Z"
   },
   {
    "duration": 21,
    "start_time": "2024-08-10T08:29:10.228Z"
   },
   {
    "duration": 75,
    "start_time": "2024-08-10T08:29:10.251Z"
   },
   {
    "duration": 12,
    "start_time": "2024-08-10T08:29:10.327Z"
   },
   {
    "duration": 45,
    "start_time": "2024-08-10T08:29:10.340Z"
   },
   {
    "duration": 36,
    "start_time": "2024-08-10T08:29:10.387Z"
   },
   {
    "duration": 395,
    "start_time": "2024-08-10T08:29:10.425Z"
   },
   {
    "duration": 14,
    "start_time": "2024-08-10T08:29:10.821Z"
   },
   {
    "duration": 7,
    "start_time": "2024-08-10T08:29:10.837Z"
   },
   {
    "duration": 7,
    "start_time": "2024-08-10T08:29:10.866Z"
   },
   {
    "duration": 37,
    "start_time": "2024-08-10T08:29:10.875Z"
   },
   {
    "duration": 1174,
    "start_time": "2024-08-10T08:29:10.914Z"
   },
   {
    "duration": 4,
    "start_time": "2024-08-10T08:29:12.089Z"
   },
   {
    "duration": 7,
    "start_time": "2024-08-10T08:29:12.094Z"
   },
   {
    "duration": 75967,
    "start_time": "2024-08-10T08:29:12.102Z"
   },
   {
    "duration": 10,
    "start_time": "2024-08-10T08:30:28.070Z"
   },
   {
    "duration": 12,
    "start_time": "2024-08-10T08:30:28.081Z"
   },
   {
    "duration": 175,
    "start_time": "2024-08-10T08:30:28.095Z"
   },
   {
    "duration": 3,
    "start_time": "2024-08-10T08:30:28.272Z"
   },
   {
    "duration": 66,
    "start_time": "2024-08-10T08:30:28.276Z"
   },
   {
    "duration": 23,
    "start_time": "2024-08-10T08:30:28.343Z"
   },
   {
    "duration": 2661,
    "start_time": "2024-08-10T08:30:28.368Z"
   },
   {
    "duration": 71,
    "start_time": "2024-08-10T08:30:31.031Z"
   },
   {
    "duration": 47,
    "start_time": "2024-08-10T08:30:31.104Z"
   },
   {
    "duration": 9879,
    "start_time": "2024-08-10T08:30:31.152Z"
   },
   {
    "duration": 4,
    "start_time": "2024-08-10T08:30:41.033Z"
   },
   {
    "duration": 47775,
    "start_time": "2024-08-10T08:30:41.038Z"
   },
   {
    "duration": 5,
    "start_time": "2024-08-10T08:31:28.815Z"
   },
   {
    "duration": 2031653,
    "start_time": "2024-08-10T08:31:28.822Z"
   },
   {
    "duration": 217,
    "start_time": "2024-08-10T09:05:20.477Z"
   },
   {
    "duration": 0,
    "start_time": "2024-08-10T09:05:20.696Z"
   },
   {
    "duration": 0,
    "start_time": "2024-08-10T09:05:20.697Z"
   },
   {
    "duration": 0,
    "start_time": "2024-08-10T09:05:20.698Z"
   },
   {
    "duration": 0,
    "start_time": "2024-08-10T09:05:20.699Z"
   },
   {
    "duration": 256,
    "start_time": "2024-08-10T09:07:04.208Z"
   },
   {
    "duration": 2413,
    "start_time": "2024-08-10T09:07:16.844Z"
   },
   {
    "duration": 1888,
    "start_time": "2024-08-10T09:07:19.259Z"
   },
   {
    "duration": 4,
    "start_time": "2024-08-10T09:07:21.149Z"
   },
   {
    "duration": 29,
    "start_time": "2024-08-10T09:07:21.154Z"
   },
   {
    "duration": 914,
    "start_time": "2024-08-10T09:07:21.185Z"
   },
   {
    "duration": 344,
    "start_time": "2024-08-10T09:07:22.100Z"
   },
   {
    "duration": 23,
    "start_time": "2024-08-10T09:07:22.446Z"
   },
   {
    "duration": 246,
    "start_time": "2024-08-10T09:07:22.471Z"
   },
   {
    "duration": 8,
    "start_time": "2024-08-10T09:07:22.718Z"
   },
   {
    "duration": 19,
    "start_time": "2024-08-10T09:07:22.728Z"
   },
   {
    "duration": 74,
    "start_time": "2024-08-10T09:07:22.749Z"
   },
   {
    "duration": 12,
    "start_time": "2024-08-10T09:07:22.824Z"
   },
   {
    "duration": 48,
    "start_time": "2024-08-10T09:07:22.837Z"
   },
   {
    "duration": 35,
    "start_time": "2024-08-10T09:07:22.889Z"
   },
   {
    "duration": 440,
    "start_time": "2024-08-10T09:07:22.925Z"
   },
   {
    "duration": 10,
    "start_time": "2024-08-10T09:07:23.367Z"
   },
   {
    "duration": 39,
    "start_time": "2024-08-10T09:07:23.379Z"
   },
   {
    "duration": 28,
    "start_time": "2024-08-10T09:07:23.420Z"
   },
   {
    "duration": 74,
    "start_time": "2024-08-10T09:07:23.450Z"
   },
   {
    "duration": 1175,
    "start_time": "2024-08-10T09:07:23.526Z"
   },
   {
    "duration": 3,
    "start_time": "2024-08-10T09:07:24.703Z"
   },
   {
    "duration": 36,
    "start_time": "2024-08-10T09:07:24.707Z"
   },
   {
    "duration": 75821,
    "start_time": "2024-08-10T09:07:24.744Z"
   },
   {
    "duration": 9,
    "start_time": "2024-08-10T09:08:40.566Z"
   },
   {
    "duration": 17,
    "start_time": "2024-08-10T09:08:40.577Z"
   },
   {
    "duration": 187,
    "start_time": "2024-08-10T09:08:40.596Z"
   },
   {
    "duration": 3,
    "start_time": "2024-08-10T09:08:40.785Z"
   },
   {
    "duration": 75,
    "start_time": "2024-08-10T09:08:40.790Z"
   },
   {
    "duration": 6,
    "start_time": "2024-08-10T09:08:40.867Z"
   },
   {
    "duration": 2670,
    "start_time": "2024-08-10T09:08:40.875Z"
   },
   {
    "duration": 4,
    "start_time": "2024-08-10T09:08:43.547Z"
   },
   {
    "duration": 19,
    "start_time": "2024-08-10T09:08:43.552Z"
   },
   {
    "duration": 9947,
    "start_time": "2024-08-10T09:08:43.572Z"
   },
   {
    "duration": 4,
    "start_time": "2024-08-10T09:08:53.521Z"
   },
   {
    "duration": 49300,
    "start_time": "2024-08-10T09:08:53.526Z"
   },
   {
    "duration": 39,
    "start_time": "2024-08-10T09:09:42.829Z"
   },
   {
    "duration": 2066898,
    "start_time": "2024-08-10T09:09:42.869Z"
   },
   {
    "duration": 56841,
    "start_time": "2024-08-10T09:44:09.768Z"
   },
   {
    "duration": 3,
    "start_time": "2024-08-10T09:45:06.610Z"
   },
   {
    "duration": 51,
    "start_time": "2024-08-10T10:01:54.972Z"
   },
   {
    "duration": 7475,
    "start_time": "2024-08-10T13:58:56.093Z"
   },
   {
    "duration": 2026,
    "start_time": "2024-08-10T13:59:06.632Z"
   },
   {
    "duration": 3,
    "start_time": "2024-08-10T13:59:11.010Z"
   },
   {
    "duration": 1352,
    "start_time": "2024-08-10T13:59:18.687Z"
   },
   {
    "duration": 326,
    "start_time": "2024-08-10T13:59:23.370Z"
   },
   {
    "duration": 17,
    "start_time": "2024-08-10T13:59:27.131Z"
   },
   {
    "duration": 12,
    "start_time": "2024-08-10T13:59:30.729Z"
   },
   {
    "duration": 7,
    "start_time": "2024-08-10T13:59:34.394Z"
   },
   {
    "duration": 69,
    "start_time": "2024-08-10T13:59:35.580Z"
   },
   {
    "duration": 13,
    "start_time": "2024-08-10T13:59:38.242Z"
   },
   {
    "duration": 34,
    "start_time": "2024-08-10T13:59:41.583Z"
   },
   {
    "duration": 419,
    "start_time": "2024-08-10T13:59:44.338Z"
   },
   {
    "duration": 64,
    "start_time": "2024-08-10T14:01:14.112Z"
   },
   {
    "duration": 2679,
    "start_time": "2024-08-10T14:01:20.410Z"
   },
   {
    "duration": 2689,
    "start_time": "2024-08-10T14:01:32.483Z"
   },
   {
    "duration": 3279,
    "start_time": "2024-08-10T14:01:49.336Z"
   },
   {
    "duration": 380,
    "start_time": "2024-08-10T14:02:37.289Z"
   },
   {
    "duration": 8445,
    "start_time": "2024-08-10T14:03:08.502Z"
   },
   {
    "duration": 9018,
    "start_time": "2024-08-10T14:03:40.536Z"
   },
   {
    "duration": 77,
    "start_time": "2024-08-10T14:03:54.076Z"
   },
   {
    "duration": 547,
    "start_time": "2024-08-10T14:04:28.705Z"
   },
   {
    "duration": 9,
    "start_time": "2024-08-10T14:05:35.094Z"
   },
   {
    "duration": 25,
    "start_time": "2024-08-10T14:06:22.778Z"
   },
   {
    "duration": 19,
    "start_time": "2024-08-10T14:07:11.984Z"
   },
   {
    "duration": 4,
    "start_time": "2024-08-10T14:07:59.246Z"
   },
   {
    "duration": 481,
    "start_time": "2024-08-10T14:08:47.824Z"
   },
   {
    "duration": 971048,
    "start_time": "2024-08-10T14:08:55.425Z"
   },
   {
    "duration": 24,
    "start_time": "2024-08-10T14:25:42.397Z"
   },
   {
    "duration": 19,
    "start_time": "2024-08-10T14:26:08.095Z"
   },
   {
    "duration": 19,
    "start_time": "2024-08-10T14:31:40.750Z"
   },
   {
    "duration": 8290,
    "start_time": "2024-08-10T14:33:01.455Z"
   },
   {
    "duration": 467,
    "start_time": "2024-08-10T14:33:13.524Z"
   },
   {
    "duration": 9,
    "start_time": "2024-08-10T14:33:15.887Z"
   },
   {
    "duration": 15,
    "start_time": "2024-08-10T14:33:17.172Z"
   },
   {
    "duration": 53,
    "start_time": "2024-08-10T14:34:44.234Z"
   },
   {
    "duration": 12,
    "start_time": "2024-08-10T14:35:24.399Z"
   },
   {
    "duration": 14,
    "start_time": "2024-08-10T14:35:50.310Z"
   },
   {
    "duration": 26,
    "start_time": "2024-08-10T14:38:22.531Z"
   },
   {
    "duration": 943,
    "start_time": "2024-08-10T14:38:55.241Z"
   },
   {
    "duration": 29,
    "start_time": "2024-08-10T14:40:07.505Z"
   },
   {
    "duration": 27,
    "start_time": "2024-08-10T14:40:35.142Z"
   },
   {
    "duration": 29,
    "start_time": "2024-08-10T14:42:13.755Z"
   },
   {
    "duration": 32,
    "start_time": "2024-08-10T14:42:24.749Z"
   },
   {
    "duration": 11,
    "start_time": "2024-08-10T14:43:22.066Z"
   },
   {
    "duration": 22,
    "start_time": "2024-08-10T14:44:06.290Z"
   },
   {
    "duration": 29,
    "start_time": "2024-08-10T14:44:22.473Z"
   },
   {
    "duration": 2,
    "start_time": "2024-08-10T14:46:06.681Z"
   },
   {
    "duration": 23,
    "start_time": "2024-08-10T14:46:33.385Z"
   },
   {
    "duration": 25,
    "start_time": "2024-08-10T14:46:43.577Z"
   },
   {
    "duration": 39,
    "start_time": "2024-08-10T15:04:11.698Z"
   },
   {
    "duration": 84426,
    "start_time": "2024-08-10T15:05:14.038Z"
   },
   {
    "duration": 5366,
    "start_time": "2024-08-10T15:07:03.520Z"
   },
   {
    "duration": 7903,
    "start_time": "2024-08-10T15:07:34.654Z"
   },
   {
    "duration": 8990,
    "start_time": "2024-08-10T15:09:04.163Z"
   },
   {
    "duration": 7477,
    "start_time": "2024-08-10T15:10:13.810Z"
   },
   {
    "duration": 12345,
    "start_time": "2024-08-10T15:10:21.290Z"
   },
   {
    "duration": 6,
    "start_time": "2024-08-10T15:10:33.637Z"
   },
   {
    "duration": 21,
    "start_time": "2024-08-10T15:10:33.645Z"
   },
   {
    "duration": 938,
    "start_time": "2024-08-10T15:10:33.668Z"
   },
   {
    "duration": 349,
    "start_time": "2024-08-10T15:10:34.608Z"
   },
   {
    "duration": 19,
    "start_time": "2024-08-10T15:10:34.960Z"
   },
   {
    "duration": 221,
    "start_time": "2024-08-10T15:10:34.981Z"
   },
   {
    "duration": 9,
    "start_time": "2024-08-10T15:10:35.205Z"
   },
   {
    "duration": 7,
    "start_time": "2024-08-10T15:10:35.218Z"
   },
   {
    "duration": 89,
    "start_time": "2024-08-10T15:10:35.227Z"
   },
   {
    "duration": 12,
    "start_time": "2024-08-10T15:10:35.317Z"
   },
   {
    "duration": 60,
    "start_time": "2024-08-10T15:10:35.330Z"
   },
   {
    "duration": 35,
    "start_time": "2024-08-10T15:10:35.392Z"
   },
   {
    "duration": 370,
    "start_time": "2024-08-10T15:10:35.429Z"
   },
   {
    "duration": 16,
    "start_time": "2024-08-10T15:10:35.801Z"
   },
   {
    "duration": 8,
    "start_time": "2024-08-10T15:10:35.819Z"
   },
   {
    "duration": 36,
    "start_time": "2024-08-10T15:10:35.829Z"
   },
   {
    "duration": 34,
    "start_time": "2024-08-10T15:10:35.867Z"
   },
   {
    "duration": 1169,
    "start_time": "2024-08-10T15:10:35.903Z"
   },
   {
    "duration": 2,
    "start_time": "2024-08-10T15:10:37.073Z"
   },
   {
    "duration": 4,
    "start_time": "2024-08-10T15:10:37.077Z"
   },
   {
    "duration": 4,
    "start_time": "2024-08-10T15:10:37.082Z"
   },
   {
    "duration": 524,
    "start_time": "2024-08-10T15:10:37.088Z"
   },
   {
    "duration": 6,
    "start_time": "2024-08-10T15:10:37.613Z"
   },
   {
    "duration": 48,
    "start_time": "2024-08-10T15:10:37.621Z"
   },
   {
    "duration": 379,
    "start_time": "2024-08-10T15:10:37.671Z"
   },
   {
    "duration": 0,
    "start_time": "2024-08-10T15:10:38.053Z"
   },
   {
    "duration": 0,
    "start_time": "2024-08-10T15:10:38.054Z"
   },
   {
    "duration": 0,
    "start_time": "2024-08-10T15:10:38.065Z"
   },
   {
    "duration": 0,
    "start_time": "2024-08-10T15:10:38.066Z"
   },
   {
    "duration": 0,
    "start_time": "2024-08-10T15:10:38.067Z"
   },
   {
    "duration": 0,
    "start_time": "2024-08-10T15:10:38.069Z"
   },
   {
    "duration": 0,
    "start_time": "2024-08-10T15:10:38.070Z"
   },
   {
    "duration": 0,
    "start_time": "2024-08-10T15:10:38.071Z"
   },
   {
    "duration": 0,
    "start_time": "2024-08-10T15:10:38.072Z"
   },
   {
    "duration": 0,
    "start_time": "2024-08-10T15:10:38.073Z"
   },
   {
    "duration": 0,
    "start_time": "2024-08-10T15:10:38.074Z"
   },
   {
    "duration": 0,
    "start_time": "2024-08-10T15:10:38.075Z"
   },
   {
    "duration": 0,
    "start_time": "2024-08-10T15:10:38.076Z"
   },
   {
    "duration": 0,
    "start_time": "2024-08-10T15:10:38.077Z"
   },
   {
    "duration": 0,
    "start_time": "2024-08-10T15:10:38.079Z"
   },
   {
    "duration": 0,
    "start_time": "2024-08-10T15:10:38.080Z"
   },
   {
    "duration": 0,
    "start_time": "2024-08-10T15:10:38.081Z"
   },
   {
    "duration": 0,
    "start_time": "2024-08-10T15:10:38.082Z"
   },
   {
    "duration": 0,
    "start_time": "2024-08-10T15:10:38.082Z"
   },
   {
    "duration": 0,
    "start_time": "2024-08-10T15:10:38.084Z"
   },
   {
    "duration": 0,
    "start_time": "2024-08-10T15:10:38.085Z"
   },
   {
    "duration": 0,
    "start_time": "2024-08-10T15:10:38.086Z"
   },
   {
    "duration": 0,
    "start_time": "2024-08-10T15:10:38.087Z"
   },
   {
    "duration": 0,
    "start_time": "2024-08-10T15:10:38.089Z"
   },
   {
    "duration": 649,
    "start_time": "2024-08-10T15:14:32.372Z"
   },
   {
    "duration": 7,
    "start_time": "2024-08-10T15:15:20.129Z"
   },
   {
    "duration": 38,
    "start_time": "2024-08-10T15:15:32.510Z"
   },
   {
    "duration": 2687415,
    "start_time": "2024-08-10T15:17:02.458Z"
   },
   {
    "duration": 5,
    "start_time": "2024-08-10T16:03:25.989Z"
   },
   {
    "duration": 24,
    "start_time": "2024-08-10T16:03:37.644Z"
   },
   {
    "duration": 65,
    "start_time": "2024-08-10T16:05:47.177Z"
   },
   {
    "duration": 4,
    "start_time": "2024-08-10T16:05:59.963Z"
   },
   {
    "duration": 27,
    "start_time": "2024-08-10T16:09:48.074Z"
   },
   {
    "duration": 5,
    "start_time": "2024-08-10T16:10:04.241Z"
   },
   {
    "duration": 28,
    "start_time": "2024-08-10T16:10:04.999Z"
   },
   {
    "duration": 2326872,
    "start_time": "2024-08-10T16:11:10.106Z"
   },
   {
    "duration": 7,
    "start_time": "2024-08-10T16:51:38.418Z"
   },
   {
    "duration": 164,
    "start_time": "2024-08-10T16:51:41.245Z"
   },
   {
    "duration": 3,
    "start_time": "2024-08-10T16:51:50.240Z"
   },
   {
    "duration": 62,
    "start_time": "2024-08-10T16:51:52.033Z"
   },
   {
    "duration": 7,
    "start_time": "2024-08-10T16:51:55.079Z"
   },
   {
    "duration": 2707,
    "start_time": "2024-08-10T16:51:57.713Z"
   },
   {
    "duration": 3,
    "start_time": "2024-08-10T16:52:11.872Z"
   },
   {
    "duration": 203,
    "start_time": "2024-08-10T16:52:12.947Z"
   },
   {
    "duration": 7,
    "start_time": "2024-08-10T16:52:14.330Z"
   },
   {
    "duration": 65,
    "start_time": "2024-08-10T16:52:41.019Z"
   },
   {
    "duration": 4,
    "start_time": "2024-08-10T16:52:56.055Z"
   },
   {
    "duration": 4,
    "start_time": "2024-08-10T16:53:00.114Z"
   },
   {
    "duration": 7466,
    "start_time": "2024-08-10T16:53:00.869Z"
   },
   {
    "duration": 4,
    "start_time": "2024-08-10T16:53:10.530Z"
   },
   {
    "duration": 5,
    "start_time": "2024-08-10T16:59:20.055Z"
   },
   {
    "duration": 2480285,
    "start_time": "2024-08-10T17:00:29.389Z"
   },
   {
    "duration": 68074,
    "start_time": "2024-08-10T17:49:35.407Z"
   },
   {
    "duration": 3,
    "start_time": "2024-08-10T17:53:12.797Z"
   },
   {
    "duration": 1325840,
    "start_time": "2024-08-10T17:53:15.639Z"
   },
   {
    "duration": 10,
    "start_time": "2024-08-10T18:16:07.627Z"
   },
   {
    "duration": 24,
    "start_time": "2024-08-10T18:16:13.416Z"
   },
   {
    "duration": 7409,
    "start_time": "2024-08-10T18:17:36.934Z"
   },
   {
    "duration": 13694,
    "start_time": "2024-08-10T18:17:44.345Z"
   },
   {
    "duration": 6,
    "start_time": "2024-08-10T18:17:58.040Z"
   },
   {
    "duration": 14,
    "start_time": "2024-08-10T18:17:58.048Z"
   },
   {
    "duration": 1223,
    "start_time": "2024-08-10T18:17:58.064Z"
   },
   {
    "duration": 322,
    "start_time": "2024-08-10T18:17:59.289Z"
   },
   {
    "duration": 17,
    "start_time": "2024-08-10T18:17:59.612Z"
   },
   {
    "duration": 240,
    "start_time": "2024-08-10T18:17:59.630Z"
   },
   {
    "duration": 7,
    "start_time": "2024-08-10T18:17:59.871Z"
   },
   {
    "duration": 6,
    "start_time": "2024-08-10T18:17:59.880Z"
   },
   {
    "duration": 78,
    "start_time": "2024-08-10T18:17:59.888Z"
   },
   {
    "duration": 12,
    "start_time": "2024-08-10T18:17:59.968Z"
   },
   {
    "duration": 33,
    "start_time": "2024-08-10T18:17:59.982Z"
   },
   {
    "duration": 76,
    "start_time": "2024-08-10T18:18:00.020Z"
   },
   {
    "duration": 383,
    "start_time": "2024-08-10T18:18:00.099Z"
   },
   {
    "duration": 13,
    "start_time": "2024-08-10T18:18:00.484Z"
   },
   {
    "duration": 41,
    "start_time": "2024-08-10T18:18:00.499Z"
   },
   {
    "duration": 96,
    "start_time": "2024-08-10T18:18:00.542Z"
   },
   {
    "duration": 121,
    "start_time": "2024-08-10T18:18:00.640Z"
   },
   {
    "duration": 1128,
    "start_time": "2024-08-10T18:18:00.764Z"
   },
   {
    "duration": 661,
    "start_time": "2024-08-10T18:18:01.894Z"
   },
   {
    "duration": 6,
    "start_time": "2024-08-10T18:18:02.557Z"
   },
   {
    "duration": 26,
    "start_time": "2024-08-10T18:18:02.565Z"
   },
   {
    "duration": 34,
    "start_time": "2024-08-10T18:18:02.593Z"
   },
   {
    "duration": 2356166,
    "start_time": "2024-08-10T18:18:02.629Z"
   },
   {
    "duration": 3,
    "start_time": "2024-08-10T18:57:18.797Z"
   },
   {
    "duration": 15,
    "start_time": "2024-08-10T18:57:18.802Z"
   },
   {
    "duration": 25,
    "start_time": "2024-08-10T18:57:18.818Z"
   },
   {
    "duration": 9,
    "start_time": "2024-08-10T18:57:18.844Z"
   },
   {
    "duration": 166,
    "start_time": "2024-08-10T18:57:18.855Z"
   },
   {
    "duration": 3,
    "start_time": "2024-08-10T18:57:19.023Z"
   },
   {
    "duration": 103,
    "start_time": "2024-08-10T18:57:19.028Z"
   },
   {
    "duration": 6,
    "start_time": "2024-08-10T18:57:19.133Z"
   },
   {
    "duration": 3,
    "start_time": "2024-08-10T18:57:19.141Z"
   },
   {
    "duration": 19,
    "start_time": "2024-08-10T18:57:19.146Z"
   },
   {
    "duration": 9,
    "start_time": "2024-08-10T18:57:19.167Z"
   },
   {
    "duration": 7013,
    "start_time": "2024-08-10T18:57:19.177Z"
   },
   {
    "duration": 4,
    "start_time": "2024-08-10T18:57:26.192Z"
   },
   {
    "duration": 14,
    "start_time": "2024-08-10T18:57:26.198Z"
   },
   {
    "duration": 5,
    "start_time": "2024-08-10T18:57:26.213Z"
   },
   {
    "duration": 2197144,
    "start_time": "2024-08-10T18:57:26.222Z"
   },
   {
    "duration": 53812,
    "start_time": "2024-08-10T19:34:03.368Z"
   },
   {
    "duration": 3,
    "start_time": "2024-08-10T19:34:57.181Z"
   },
   {
    "duration": 1274645,
    "start_time": "2024-08-10T19:34:57.185Z"
   },
   {
    "duration": 11,
    "start_time": "2024-08-10T19:56:11.832Z"
   },
   {
    "duration": 34,
    "start_time": "2024-08-10T19:56:11.846Z"
   }
  ],
  "kernelspec": {
   "display_name": "Python 3 (ipykernel)",
   "language": "python",
   "name": "python3"
  },
  "language_info": {
   "codemirror_mode": {
    "name": "ipython",
    "version": 3
   },
   "file_extension": ".py",
   "mimetype": "text/x-python",
   "name": "python",
   "nbconvert_exporter": "python",
   "pygments_lexer": "ipython3",
   "version": "3.11.5"
  },
  "toc": {
   "base_numbering": 1,
   "nav_menu": {},
   "number_sections": true,
   "sideBar": true,
   "skip_h1_title": true,
   "title_cell": "Содержание",
   "title_sidebar": "Contents",
   "toc_cell": true,
   "toc_position": {
    "height": "calc(100% - 180px)",
    "left": "10px",
    "top": "150px",
    "width": "221px"
   },
   "toc_section_display": true,
   "toc_window_display": true
  }
 },
 "nbformat": 4,
 "nbformat_minor": 2
}
